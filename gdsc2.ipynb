{
 "cells": [
  {
   "cell_type": "code",
   "execution_count": 1,
   "id": "512349da",
   "metadata": {
    "_cell_guid": "b1076dfc-b9ad-4769-8c92-a6c4dae69d19",
    "_uuid": "8f2839f25d086af736a60e9eeb907d3b93b6e0e5",
    "execution": {
     "iopub.execute_input": "2022-01-30T12:31:02.621540Z",
     "iopub.status.busy": "2022-01-30T12:31:02.620938Z",
     "iopub.status.idle": "2022-01-30T12:31:02.626424Z",
     "shell.execute_reply": "2022-01-30T12:31:02.626897Z",
     "shell.execute_reply.started": "2022-01-30T12:14:20.561934Z"
    },
    "papermill": {
     "duration": 0.03687,
     "end_time": "2022-01-30T12:31:02.627156",
     "exception": false,
     "start_time": "2022-01-30T12:31:02.590286",
     "status": "completed"
    },
    "tags": []
   },
   "outputs": [
    {
     "name": "stdout",
     "output_type": "stream",
     "text": [
      "/kaggle/input/gdsc-nsut-recruitment/sample_submission.csv\n",
      "/kaggle/input/gdsc-nsut-recruitment/final_train.csv\n",
      "/kaggle/input/gdsc-nsut-recruitment/final_test.csv\n"
     ]
    }
   ],
   "source": [
    "# This Python 3 environment comes with many helpful analytics libraries installed\n",
    "# It is defined by the kaggle/python Docker image: https://github.com/kaggle/docker-python\n",
    "# For example, here's several helpful packages to load\n",
    "\n",
    "import numpy as np # linear algebra\n",
    "import pandas as pd # data processing, CSV file I/O (e.g. pd.read_csv)\n",
    "\n",
    "# Input data files are available in the read-only \"../input/\" directory\n",
    "# For example, running this (by clicking run or pressing Shift+Enter) will list all files under the input directory\n",
    "\n",
    "import os\n",
    "for dirname, _, filenames in os.walk('/kaggle/input'):\n",
    "    for filename in filenames:\n",
    "        print(os.path.join(dirname, filename))\n",
    "\n",
    "# You can write up to 20GB to the current directory (/kaggle/working/) that gets preserved as output when you create a version using \"Save & Run All\" \n",
    "# You can also write temporary files to /kaggle/temp/, but they won't be saved outside of the current session"
   ]
  },
  {
   "cell_type": "code",
   "execution_count": 2,
   "id": "740c8f61",
   "metadata": {
    "execution": {
     "iopub.execute_input": "2022-01-30T12:31:02.689267Z",
     "iopub.status.busy": "2022-01-30T12:31:02.688234Z",
     "iopub.status.idle": "2022-01-30T12:31:03.790974Z",
     "shell.execute_reply": "2022-01-30T12:31:03.790083Z",
     "shell.execute_reply.started": "2022-01-30T12:14:22.142688Z"
    },
    "papermill": {
     "duration": 1.138924,
     "end_time": "2022-01-30T12:31:03.791163",
     "exception": false,
     "start_time": "2022-01-30T12:31:02.652239",
     "status": "completed"
    },
    "tags": []
   },
   "outputs": [],
   "source": [
    "import pandas as pd\n",
    "from sklearn.preprocessing import LabelEncoder\n",
    "from sklearn.model_selection import train_test_split\n",
    "from sklearn.linear_model import LogisticRegression\n",
    "from sklearn.svm import SVC\n",
    "from sklearn.ensemble import RandomForestClassifier,GradientBoostingClassifier\n",
    "from sklearn.tree import DecisionTreeClassifier\n",
    "from sklearn.naive_bayes import GaussianNB\n",
    "import numpy as np"
   ]
  },
  {
   "cell_type": "code",
   "execution_count": 3,
   "id": "b1c1e228",
   "metadata": {
    "execution": {
     "iopub.execute_input": "2022-01-30T12:31:03.833878Z",
     "iopub.status.busy": "2022-01-30T12:31:03.833187Z",
     "iopub.status.idle": "2022-01-30T12:31:03.887256Z",
     "shell.execute_reply": "2022-01-30T12:31:03.887785Z",
     "shell.execute_reply.started": "2022-01-30T12:14:25.646474Z"
    },
    "papermill": {
     "duration": 0.07813,
     "end_time": "2022-01-30T12:31:03.887974",
     "exception": false,
     "start_time": "2022-01-30T12:31:03.809844",
     "status": "completed"
    },
    "tags": []
   },
   "outputs": [],
   "source": [
    "df = pd.read_csv('../input/gdsc-nsut-recruitment/final_train.csv',index_col = 'id')\n",
    "test = pd.read_csv('../input/gdsc-nsut-recruitment/final_test.csv',index_col = 'id')\n",
    "\n",
    "sample_submission = pd.read_csv(\"../input/gdsc-nsut-recruitment/sample_submission.csv\")"
   ]
  },
  {
   "cell_type": "code",
   "execution_count": 4,
   "id": "609af0a7",
   "metadata": {
    "execution": {
     "iopub.execute_input": "2022-01-30T12:31:03.934919Z",
     "iopub.status.busy": "2022-01-30T12:31:03.934101Z",
     "iopub.status.idle": "2022-01-30T12:31:03.937129Z",
     "shell.execute_reply": "2022-01-30T12:31:03.936671Z",
     "shell.execute_reply.started": "2022-01-30T12:14:49.086230Z"
    },
    "papermill": {
     "duration": 0.030378,
     "end_time": "2022-01-30T12:31:03.937245",
     "exception": false,
     "start_time": "2022-01-30T12:31:03.906867",
     "status": "completed"
    },
    "tags": []
   },
   "outputs": [],
   "source": [
    "df = pd.get_dummies(df)\n",
    "# It converts categorical data into dummy or indicator variables"
   ]
  },
  {
   "cell_type": "code",
   "execution_count": 5,
   "id": "22bed197",
   "metadata": {
    "execution": {
     "iopub.execute_input": "2022-01-30T12:31:03.978948Z",
     "iopub.status.busy": "2022-01-30T12:31:03.976716Z",
     "iopub.status.idle": "2022-01-30T12:31:03.985829Z",
     "shell.execute_reply": "2022-01-30T12:31:03.986329Z",
     "shell.execute_reply.started": "2022-01-30T12:14:52.313221Z"
    },
    "papermill": {
     "duration": 0.030271,
     "end_time": "2022-01-30T12:31:03.986452",
     "exception": false,
     "start_time": "2022-01-30T12:31:03.956181",
     "status": "completed"
    },
    "tags": []
   },
   "outputs": [],
   "source": [
    "df=df.fillna(df.mean())"
   ]
  },
  {
   "cell_type": "code",
   "execution_count": 6,
   "id": "a4b40aef",
   "metadata": {
    "execution": {
     "iopub.execute_input": "2022-01-30T12:31:04.028151Z",
     "iopub.status.busy": "2022-01-30T12:31:04.027120Z",
     "iopub.status.idle": "2022-01-30T12:31:04.039093Z",
     "shell.execute_reply": "2022-01-30T12:31:04.039615Z",
     "shell.execute_reply.started": "2022-01-30T12:14:56.140475Z"
    },
    "papermill": {
     "duration": 0.034912,
     "end_time": "2022-01-30T12:31:04.039742",
     "exception": false,
     "start_time": "2022-01-30T12:31:04.004830",
     "status": "completed"
    },
    "tags": []
   },
   "outputs": [
    {
     "name": "stdout",
     "output_type": "stream",
     "text": [
      "<class 'pandas.core.frame.DataFrame'>\n",
      "Int64Index: 10000 entries, 1 to 10000\n",
      "Data columns (total 16 columns):\n",
      " #   Column      Non-Null Count  Dtype\n",
      "---  ------      --------------  -----\n",
      " 0   feature_0   10000 non-null  int64\n",
      " 1   feature_1   10000 non-null  int64\n",
      " 2   feature_2   10000 non-null  int64\n",
      " 3   feature_3   10000 non-null  int64\n",
      " 4   feature_4   10000 non-null  int64\n",
      " 5   feature_5   10000 non-null  int64\n",
      " 6   feature_6   10000 non-null  int64\n",
      " 7   feature_7   10000 non-null  int64\n",
      " 8   feature_8   10000 non-null  int64\n",
      " 9   feature_9   10000 non-null  int64\n",
      " 10  feature_10  10000 non-null  int64\n",
      " 11  feature_11  10000 non-null  int64\n",
      " 12  feature_12  10000 non-null  int64\n",
      " 13  feature_13  10000 non-null  int64\n",
      " 14  feature_14  10000 non-null  int64\n",
      " 15  target      10000 non-null  int64\n",
      "dtypes: int64(16)\n",
      "memory usage: 1.3 MB\n"
     ]
    }
   ],
   "source": [
    "df.info()"
   ]
  },
  {
   "cell_type": "code",
   "execution_count": 7,
   "id": "60bb717b",
   "metadata": {
    "execution": {
     "iopub.execute_input": "2022-01-30T12:31:04.084387Z",
     "iopub.status.busy": "2022-01-30T12:31:04.083808Z",
     "iopub.status.idle": "2022-01-30T12:31:04.098835Z",
     "shell.execute_reply": "2022-01-30T12:31:04.099337Z",
     "shell.execute_reply.started": "2022-01-30T12:15:00.110010Z"
    },
    "papermill": {
     "duration": 0.040503,
     "end_time": "2022-01-30T12:31:04.099463",
     "exception": false,
     "start_time": "2022-01-30T12:31:04.058960",
     "status": "completed"
    },
    "tags": []
   },
   "outputs": [
    {
     "data": {
      "text/html": [
       "<div>\n",
       "<style scoped>\n",
       "    .dataframe tbody tr th:only-of-type {\n",
       "        vertical-align: middle;\n",
       "    }\n",
       "\n",
       "    .dataframe tbody tr th {\n",
       "        vertical-align: top;\n",
       "    }\n",
       "\n",
       "    .dataframe thead th {\n",
       "        text-align: right;\n",
       "    }\n",
       "</style>\n",
       "<table border=\"1\" class=\"dataframe\">\n",
       "  <thead>\n",
       "    <tr style=\"text-align: right;\">\n",
       "      <th></th>\n",
       "      <th>feature_0</th>\n",
       "      <th>feature_1</th>\n",
       "      <th>feature_2</th>\n",
       "      <th>feature_3</th>\n",
       "      <th>feature_4</th>\n",
       "      <th>feature_5</th>\n",
       "      <th>feature_6</th>\n",
       "      <th>feature_7</th>\n",
       "      <th>feature_8</th>\n",
       "      <th>feature_9</th>\n",
       "      <th>feature_10</th>\n",
       "      <th>feature_11</th>\n",
       "      <th>feature_12</th>\n",
       "      <th>feature_13</th>\n",
       "      <th>feature_14</th>\n",
       "    </tr>\n",
       "    <tr>\n",
       "      <th>id</th>\n",
       "      <th></th>\n",
       "      <th></th>\n",
       "      <th></th>\n",
       "      <th></th>\n",
       "      <th></th>\n",
       "      <th></th>\n",
       "      <th></th>\n",
       "      <th></th>\n",
       "      <th></th>\n",
       "      <th></th>\n",
       "      <th></th>\n",
       "      <th></th>\n",
       "      <th></th>\n",
       "      <th></th>\n",
       "      <th></th>\n",
       "    </tr>\n",
       "  </thead>\n",
       "  <tbody>\n",
       "    <tr>\n",
       "      <th>1</th>\n",
       "      <td>0</td>\n",
       "      <td>1</td>\n",
       "      <td>0</td>\n",
       "      <td>1</td>\n",
       "      <td>1</td>\n",
       "      <td>0</td>\n",
       "      <td>0</td>\n",
       "      <td>0</td>\n",
       "      <td>0</td>\n",
       "      <td>1</td>\n",
       "      <td>1</td>\n",
       "      <td>0</td>\n",
       "      <td>0</td>\n",
       "      <td>3</td>\n",
       "      <td>1</td>\n",
       "    </tr>\n",
       "    <tr>\n",
       "      <th>2</th>\n",
       "      <td>6</td>\n",
       "      <td>0</td>\n",
       "      <td>2</td>\n",
       "      <td>2</td>\n",
       "      <td>1</td>\n",
       "      <td>0</td>\n",
       "      <td>0</td>\n",
       "      <td>1</td>\n",
       "      <td>0</td>\n",
       "      <td>0</td>\n",
       "      <td>1</td>\n",
       "      <td>0</td>\n",
       "      <td>0</td>\n",
       "      <td>2</td>\n",
       "      <td>0</td>\n",
       "    </tr>\n",
       "    <tr>\n",
       "      <th>3</th>\n",
       "      <td>3</td>\n",
       "      <td>0</td>\n",
       "      <td>4</td>\n",
       "      <td>0</td>\n",
       "      <td>0</td>\n",
       "      <td>0</td>\n",
       "      <td>0</td>\n",
       "      <td>2</td>\n",
       "      <td>0</td>\n",
       "      <td>3</td>\n",
       "      <td>0</td>\n",
       "      <td>0</td>\n",
       "      <td>1</td>\n",
       "      <td>5</td>\n",
       "      <td>1</td>\n",
       "    </tr>\n",
       "    <tr>\n",
       "      <th>4</th>\n",
       "      <td>2</td>\n",
       "      <td>0</td>\n",
       "      <td>7</td>\n",
       "      <td>3</td>\n",
       "      <td>5</td>\n",
       "      <td>0</td>\n",
       "      <td>1</td>\n",
       "      <td>1</td>\n",
       "      <td>3</td>\n",
       "      <td>4</td>\n",
       "      <td>8</td>\n",
       "      <td>1</td>\n",
       "      <td>0</td>\n",
       "      <td>8</td>\n",
       "      <td>0</td>\n",
       "    </tr>\n",
       "    <tr>\n",
       "      <th>5</th>\n",
       "      <td>1</td>\n",
       "      <td>0</td>\n",
       "      <td>2</td>\n",
       "      <td>2</td>\n",
       "      <td>3</td>\n",
       "      <td>0</td>\n",
       "      <td>0</td>\n",
       "      <td>1</td>\n",
       "      <td>0</td>\n",
       "      <td>3</td>\n",
       "      <td>0</td>\n",
       "      <td>0</td>\n",
       "      <td>1</td>\n",
       "      <td>0</td>\n",
       "      <td>1</td>\n",
       "    </tr>\n",
       "  </tbody>\n",
       "</table>\n",
       "</div>"
      ],
      "text/plain": [
       "    feature_0  feature_1  feature_2  feature_3  feature_4  feature_5  \\\n",
       "id                                                                     \n",
       "1           0          1          0          1          1          0   \n",
       "2           6          0          2          2          1          0   \n",
       "3           3          0          4          0          0          0   \n",
       "4           2          0          7          3          5          0   \n",
       "5           1          0          2          2          3          0   \n",
       "\n",
       "    feature_6  feature_7  feature_8  feature_9  feature_10  feature_11  \\\n",
       "id                                                                       \n",
       "1           0          0          0          1           1           0   \n",
       "2           0          1          0          0           1           0   \n",
       "3           0          2          0          3           0           0   \n",
       "4           1          1          3          4           8           1   \n",
       "5           0          1          0          3           0           0   \n",
       "\n",
       "    feature_12  feature_13  feature_14  \n",
       "id                                      \n",
       "1            0           3           1  \n",
       "2            0           2           0  \n",
       "3            1           5           1  \n",
       "4            0           8           0  \n",
       "5            1           0           1  "
      ]
     },
     "execution_count": 7,
     "metadata": {},
     "output_type": "execute_result"
    }
   ],
   "source": [
    "X = df.drop(['target'],axis=1)\n",
    "X.head()"
   ]
  },
  {
   "cell_type": "code",
   "execution_count": 8,
   "id": "6e81777d",
   "metadata": {
    "execution": {
     "iopub.execute_input": "2022-01-30T12:31:04.146055Z",
     "iopub.status.busy": "2022-01-30T12:31:04.145039Z",
     "iopub.status.idle": "2022-01-30T12:31:04.148470Z",
     "shell.execute_reply": "2022-01-30T12:31:04.148874Z",
     "shell.execute_reply.started": "2022-01-30T12:15:02.561621Z"
    },
    "papermill": {
     "duration": 0.029993,
     "end_time": "2022-01-30T12:31:04.149018",
     "exception": false,
     "start_time": "2022-01-30T12:31:04.119025",
     "status": "completed"
    },
    "tags": []
   },
   "outputs": [
    {
     "data": {
      "text/plain": [
       "id\n",
       "1        0\n",
       "2        1\n",
       "3        1\n",
       "4        0\n",
       "5        0\n",
       "        ..\n",
       "9996     0\n",
       "9997     0\n",
       "9998     1\n",
       "9999     0\n",
       "10000    1\n",
       "Name: target, Length: 10000, dtype: int64"
      ]
     },
     "execution_count": 8,
     "metadata": {},
     "output_type": "execute_result"
    }
   ],
   "source": [
    "Y = df['target']\n",
    "Y"
   ]
  },
  {
   "cell_type": "code",
   "execution_count": 9,
   "id": "84b92d1f",
   "metadata": {
    "execution": {
     "iopub.execute_input": "2022-01-30T12:31:04.194081Z",
     "iopub.status.busy": "2022-01-30T12:31:04.193118Z",
     "iopub.status.idle": "2022-01-30T12:31:04.198076Z",
     "shell.execute_reply": "2022-01-30T12:31:04.198458Z",
     "shell.execute_reply.started": "2022-01-30T12:29:15.174604Z"
    },
    "papermill": {
     "duration": 0.029631,
     "end_time": "2022-01-30T12:31:04.198577",
     "exception": false,
     "start_time": "2022-01-30T12:31:04.168946",
     "status": "completed"
    },
    "tags": []
   },
   "outputs": [],
   "source": [
    "X_train, X_test, Y_train, Y_test = train_test_split(X,Y,test_size=.33)"
   ]
  },
  {
   "cell_type": "code",
   "execution_count": 10,
   "id": "07c96a30",
   "metadata": {
    "execution": {
     "iopub.execute_input": "2022-01-30T12:31:04.244272Z",
     "iopub.status.busy": "2022-01-30T12:31:04.243326Z",
     "iopub.status.idle": "2022-01-30T12:31:04.639362Z",
     "shell.execute_reply": "2022-01-30T12:31:04.640612Z",
     "shell.execute_reply.started": "2022-01-30T12:29:17.794118Z"
    },
    "papermill": {
     "duration": 0.422342,
     "end_time": "2022-01-30T12:31:04.640831",
     "exception": false,
     "start_time": "2022-01-30T12:31:04.218489",
     "status": "completed"
    },
    "tags": []
   },
   "outputs": [
    {
     "data": {
      "text/plain": [
       "RandomForestClassifier(max_depth=4)"
      ]
     },
     "execution_count": 10,
     "metadata": {},
     "output_type": "execute_result"
    }
   ],
   "source": [
    "forest_model  = RandomForestClassifier(max_depth=4)\n",
    "forest_model.fit(X_train, Y_train)"
   ]
  },
  {
   "cell_type": "code",
   "execution_count": 11,
   "id": "47aeeb6b",
   "metadata": {
    "execution": {
     "iopub.execute_input": "2022-01-30T12:31:04.729256Z",
     "iopub.status.busy": "2022-01-30T12:31:04.727594Z",
     "iopub.status.idle": "2022-01-30T12:31:04.857404Z",
     "shell.execute_reply": "2022-01-30T12:31:04.858540Z",
     "shell.execute_reply.started": "2022-01-30T12:29:19.779429Z"
    },
    "papermill": {
     "duration": 0.180711,
     "end_time": "2022-01-30T12:31:04.858842",
     "exception": false,
     "start_time": "2022-01-30T12:31:04.678131",
     "status": "completed"
    },
    "tags": []
   },
   "outputs": [
    {
     "data": {
      "text/plain": [
       "(0.6148484848484849, 0.6270149253731343)"
      ]
     },
     "execution_count": 11,
     "metadata": {},
     "output_type": "execute_result"
    }
   ],
   "source": [
    "forest_model.score(X_test, Y_test),forest_model.score(X_train, Y_train)"
   ]
  },
  {
   "cell_type": "code",
   "execution_count": 12,
   "id": "6cbd9e98",
   "metadata": {
    "execution": {
     "iopub.execute_input": "2022-01-30T12:31:04.946207Z",
     "iopub.status.busy": "2022-01-30T12:31:04.944582Z",
     "iopub.status.idle": "2022-01-30T12:31:05.749015Z",
     "shell.execute_reply": "2022-01-30T12:31:05.749533Z",
     "shell.execute_reply.started": "2022-01-30T12:29:21.821170Z"
    },
    "papermill": {
     "duration": 0.852481,
     "end_time": "2022-01-30T12:31:05.749701",
     "exception": false,
     "start_time": "2022-01-30T12:31:04.897220",
     "status": "completed"
    },
    "tags": []
   },
   "outputs": [
    {
     "data": {
      "text/plain": [
       "GradientBoostingClassifier()"
      ]
     },
     "execution_count": 12,
     "metadata": {},
     "output_type": "execute_result"
    }
   ],
   "source": [
    "gbc = GradientBoostingClassifier()\n",
    "gbc.fit(X_train,Y_train)"
   ]
  },
  {
   "cell_type": "code",
   "execution_count": 13,
   "id": "11e1279f",
   "metadata": {
    "execution": {
     "iopub.execute_input": "2022-01-30T12:31:05.799385Z",
     "iopub.status.busy": "2022-01-30T12:31:05.798509Z",
     "iopub.status.idle": "2022-01-30T12:31:05.822144Z",
     "shell.execute_reply": "2022-01-30T12:31:05.822557Z",
     "shell.execute_reply.started": "2022-01-30T12:29:24.383626Z"
    },
    "papermill": {
     "duration": 0.051011,
     "end_time": "2022-01-30T12:31:05.822785",
     "exception": false,
     "start_time": "2022-01-30T12:31:05.771774",
     "status": "completed"
    },
    "tags": []
   },
   "outputs": [
    {
     "data": {
      "text/plain": [
       "(0.6033333333333334, 0.6632835820895523)"
      ]
     },
     "execution_count": 13,
     "metadata": {},
     "output_type": "execute_result"
    }
   ],
   "source": [
    "gbc.score(X_test,Y_test),gbc.score(X_train,Y_train)"
   ]
  },
  {
   "cell_type": "code",
   "execution_count": 14,
   "id": "82433a11",
   "metadata": {
    "execution": {
     "iopub.execute_input": "2022-01-30T12:31:05.870942Z",
     "iopub.status.busy": "2022-01-30T12:31:05.870115Z",
     "iopub.status.idle": "2022-01-30T12:31:05.883816Z",
     "shell.execute_reply": "2022-01-30T12:31:05.884305Z",
     "shell.execute_reply.started": "2022-01-30T12:29:26.587883Z"
    },
    "papermill": {
     "duration": 0.040383,
     "end_time": "2022-01-30T12:31:05.884432",
     "exception": false,
     "start_time": "2022-01-30T12:31:05.844049",
     "status": "completed"
    },
    "tags": []
   },
   "outputs": [
    {
     "data": {
      "text/plain": [
       "DecisionTreeClassifier(max_depth=4)"
      ]
     },
     "execution_count": 14,
     "metadata": {},
     "output_type": "execute_result"
    }
   ],
   "source": [
    "tree_model = DecisionTreeClassifier(max_depth=4)\n",
    "tree_model.fit(X_train, Y_train)"
   ]
  },
  {
   "cell_type": "code",
   "execution_count": 15,
   "id": "ed39e43d",
   "metadata": {
    "execution": {
     "iopub.execute_input": "2022-01-30T12:31:05.932379Z",
     "iopub.status.busy": "2022-01-30T12:31:05.931090Z",
     "iopub.status.idle": "2022-01-30T12:31:05.940451Z",
     "shell.execute_reply": "2022-01-30T12:31:05.939848Z",
     "shell.execute_reply.started": "2022-01-30T12:29:28.930549Z"
    },
    "papermill": {
     "duration": 0.035474,
     "end_time": "2022-01-30T12:31:05.940561",
     "exception": false,
     "start_time": "2022-01-30T12:31:05.905087",
     "status": "completed"
    },
    "tags": []
   },
   "outputs": [
    {
     "data": {
      "text/plain": [
       "(0.5981818181818181, 0.6034328358208956)"
      ]
     },
     "execution_count": 15,
     "metadata": {},
     "output_type": "execute_result"
    }
   ],
   "source": [
    "tree_model.score(X_test, Y_test),tree_model.score(X_train, Y_train)"
   ]
  },
  {
   "cell_type": "code",
   "execution_count": 16,
   "id": "3764d93a",
   "metadata": {
    "execution": {
     "iopub.execute_input": "2022-01-30T12:31:05.987602Z",
     "iopub.status.busy": "2022-01-30T12:31:05.986582Z",
     "iopub.status.idle": "2022-01-30T12:31:05.997149Z",
     "shell.execute_reply": "2022-01-30T12:31:05.997568Z",
     "shell.execute_reply.started": "2022-01-30T12:29:33.281578Z"
    },
    "papermill": {
     "duration": 0.035877,
     "end_time": "2022-01-30T12:31:05.997682",
     "exception": false,
     "start_time": "2022-01-30T12:31:05.961805",
     "status": "completed"
    },
    "tags": []
   },
   "outputs": [
    {
     "name": "stdout",
     "output_type": "stream",
     "text": [
      "<class 'pandas.core.frame.DataFrame'>\n",
      "Int64Index: 5000 entries, 10001 to 15000\n",
      "Data columns (total 15 columns):\n",
      " #   Column      Non-Null Count  Dtype\n",
      "---  ------      --------------  -----\n",
      " 0   feature_0   5000 non-null   int64\n",
      " 1   feature_1   5000 non-null   int64\n",
      " 2   feature_2   5000 non-null   int64\n",
      " 3   feature_3   5000 non-null   int64\n",
      " 4   feature_4   5000 non-null   int64\n",
      " 5   feature_5   5000 non-null   int64\n",
      " 6   feature_6   5000 non-null   int64\n",
      " 7   feature_7   5000 non-null   int64\n",
      " 8   feature_8   5000 non-null   int64\n",
      " 9   feature_9   5000 non-null   int64\n",
      " 10  feature_10  5000 non-null   int64\n",
      " 11  feature_11  5000 non-null   int64\n",
      " 12  feature_12  5000 non-null   int64\n",
      " 13  feature_13  5000 non-null   int64\n",
      " 14  feature_14  5000 non-null   int64\n",
      "dtypes: int64(15)\n",
      "memory usage: 625.0 KB\n"
     ]
    }
   ],
   "source": [
    "test.info()"
   ]
  },
  {
   "cell_type": "code",
   "execution_count": 17,
   "id": "870fd428",
   "metadata": {
    "execution": {
     "iopub.execute_input": "2022-01-30T12:31:06.047571Z",
     "iopub.status.busy": "2022-01-30T12:31:06.046938Z",
     "iopub.status.idle": "2022-01-30T12:31:06.049833Z",
     "shell.execute_reply": "2022-01-30T12:31:06.049385Z",
     "shell.execute_reply.started": "2022-01-30T12:29:36.125410Z"
    },
    "papermill": {
     "duration": 0.030689,
     "end_time": "2022-01-30T12:31:06.049933",
     "exception": false,
     "start_time": "2022-01-30T12:31:06.019244",
     "status": "completed"
    },
    "tags": []
   },
   "outputs": [],
   "source": [
    "test = pd.get_dummies(test)"
   ]
  },
  {
   "cell_type": "code",
   "execution_count": 18,
   "id": "ea23e4ed",
   "metadata": {
    "execution": {
     "iopub.execute_input": "2022-01-30T12:31:06.107291Z",
     "iopub.status.busy": "2022-01-30T12:31:06.106570Z",
     "iopub.status.idle": "2022-01-30T12:31:06.111585Z",
     "shell.execute_reply": "2022-01-30T12:31:06.111952Z",
     "shell.execute_reply.started": "2022-01-30T12:29:40.582238Z"
    },
    "papermill": {
     "duration": 0.040467,
     "end_time": "2022-01-30T12:31:06.112123",
     "exception": false,
     "start_time": "2022-01-30T12:31:06.071656",
     "status": "completed"
    },
    "tags": []
   },
   "outputs": [
    {
     "data": {
      "text/html": [
       "<div>\n",
       "<style scoped>\n",
       "    .dataframe tbody tr th:only-of-type {\n",
       "        vertical-align: middle;\n",
       "    }\n",
       "\n",
       "    .dataframe tbody tr th {\n",
       "        vertical-align: top;\n",
       "    }\n",
       "\n",
       "    .dataframe thead th {\n",
       "        text-align: right;\n",
       "    }\n",
       "</style>\n",
       "<table border=\"1\" class=\"dataframe\">\n",
       "  <thead>\n",
       "    <tr style=\"text-align: right;\">\n",
       "      <th></th>\n",
       "      <th>feature_0</th>\n",
       "      <th>feature_1</th>\n",
       "      <th>feature_2</th>\n",
       "      <th>feature_3</th>\n",
       "      <th>feature_4</th>\n",
       "      <th>feature_5</th>\n",
       "      <th>feature_6</th>\n",
       "      <th>feature_7</th>\n",
       "      <th>feature_8</th>\n",
       "      <th>feature_9</th>\n",
       "      <th>feature_10</th>\n",
       "      <th>feature_11</th>\n",
       "      <th>feature_12</th>\n",
       "      <th>feature_13</th>\n",
       "      <th>feature_14</th>\n",
       "    </tr>\n",
       "    <tr>\n",
       "      <th>id</th>\n",
       "      <th></th>\n",
       "      <th></th>\n",
       "      <th></th>\n",
       "      <th></th>\n",
       "      <th></th>\n",
       "      <th></th>\n",
       "      <th></th>\n",
       "      <th></th>\n",
       "      <th></th>\n",
       "      <th></th>\n",
       "      <th></th>\n",
       "      <th></th>\n",
       "      <th></th>\n",
       "      <th></th>\n",
       "      <th></th>\n",
       "    </tr>\n",
       "  </thead>\n",
       "  <tbody>\n",
       "    <tr>\n",
       "      <th>10001</th>\n",
       "      <td>4</td>\n",
       "      <td>0</td>\n",
       "      <td>0</td>\n",
       "      <td>0</td>\n",
       "      <td>0</td>\n",
       "      <td>0</td>\n",
       "      <td>0</td>\n",
       "      <td>0</td>\n",
       "      <td>0</td>\n",
       "      <td>14</td>\n",
       "      <td>0</td>\n",
       "      <td>0</td>\n",
       "      <td>0</td>\n",
       "      <td>8</td>\n",
       "      <td>0</td>\n",
       "    </tr>\n",
       "    <tr>\n",
       "      <th>10002</th>\n",
       "      <td>2</td>\n",
       "      <td>0</td>\n",
       "      <td>28</td>\n",
       "      <td>0</td>\n",
       "      <td>1</td>\n",
       "      <td>0</td>\n",
       "      <td>0</td>\n",
       "      <td>1</td>\n",
       "      <td>0</td>\n",
       "      <td>0</td>\n",
       "      <td>4</td>\n",
       "      <td>0</td>\n",
       "      <td>0</td>\n",
       "      <td>4</td>\n",
       "      <td>0</td>\n",
       "    </tr>\n",
       "    <tr>\n",
       "      <th>10003</th>\n",
       "      <td>5</td>\n",
       "      <td>4</td>\n",
       "      <td>0</td>\n",
       "      <td>1</td>\n",
       "      <td>1</td>\n",
       "      <td>0</td>\n",
       "      <td>0</td>\n",
       "      <td>2</td>\n",
       "      <td>0</td>\n",
       "      <td>1</td>\n",
       "      <td>0</td>\n",
       "      <td>0</td>\n",
       "      <td>1</td>\n",
       "      <td>0</td>\n",
       "      <td>0</td>\n",
       "    </tr>\n",
       "    <tr>\n",
       "      <th>10004</th>\n",
       "      <td>1</td>\n",
       "      <td>1</td>\n",
       "      <td>13</td>\n",
       "      <td>0</td>\n",
       "      <td>0</td>\n",
       "      <td>14</td>\n",
       "      <td>0</td>\n",
       "      <td>0</td>\n",
       "      <td>1</td>\n",
       "      <td>2</td>\n",
       "      <td>0</td>\n",
       "      <td>0</td>\n",
       "      <td>2</td>\n",
       "      <td>13</td>\n",
       "      <td>2</td>\n",
       "    </tr>\n",
       "    <tr>\n",
       "      <th>10005</th>\n",
       "      <td>0</td>\n",
       "      <td>1</td>\n",
       "      <td>27</td>\n",
       "      <td>1</td>\n",
       "      <td>9</td>\n",
       "      <td>1</td>\n",
       "      <td>1</td>\n",
       "      <td>2</td>\n",
       "      <td>1</td>\n",
       "      <td>2</td>\n",
       "      <td>0</td>\n",
       "      <td>13</td>\n",
       "      <td>0</td>\n",
       "      <td>6</td>\n",
       "      <td>1</td>\n",
       "    </tr>\n",
       "    <tr>\n",
       "      <th>...</th>\n",
       "      <td>...</td>\n",
       "      <td>...</td>\n",
       "      <td>...</td>\n",
       "      <td>...</td>\n",
       "      <td>...</td>\n",
       "      <td>...</td>\n",
       "      <td>...</td>\n",
       "      <td>...</td>\n",
       "      <td>...</td>\n",
       "      <td>...</td>\n",
       "      <td>...</td>\n",
       "      <td>...</td>\n",
       "      <td>...</td>\n",
       "      <td>...</td>\n",
       "      <td>...</td>\n",
       "    </tr>\n",
       "    <tr>\n",
       "      <th>14996</th>\n",
       "      <td>1</td>\n",
       "      <td>0</td>\n",
       "      <td>4</td>\n",
       "      <td>0</td>\n",
       "      <td>6</td>\n",
       "      <td>0</td>\n",
       "      <td>0</td>\n",
       "      <td>1</td>\n",
       "      <td>0</td>\n",
       "      <td>1</td>\n",
       "      <td>0</td>\n",
       "      <td>0</td>\n",
       "      <td>0</td>\n",
       "      <td>0</td>\n",
       "      <td>0</td>\n",
       "    </tr>\n",
       "    <tr>\n",
       "      <th>14997</th>\n",
       "      <td>0</td>\n",
       "      <td>0</td>\n",
       "      <td>2</td>\n",
       "      <td>0</td>\n",
       "      <td>0</td>\n",
       "      <td>0</td>\n",
       "      <td>0</td>\n",
       "      <td>1</td>\n",
       "      <td>5</td>\n",
       "      <td>0</td>\n",
       "      <td>0</td>\n",
       "      <td>0</td>\n",
       "      <td>0</td>\n",
       "      <td>0</td>\n",
       "      <td>0</td>\n",
       "    </tr>\n",
       "    <tr>\n",
       "      <th>14998</th>\n",
       "      <td>0</td>\n",
       "      <td>0</td>\n",
       "      <td>0</td>\n",
       "      <td>1</td>\n",
       "      <td>0</td>\n",
       "      <td>5</td>\n",
       "      <td>6</td>\n",
       "      <td>0</td>\n",
       "      <td>2</td>\n",
       "      <td>6</td>\n",
       "      <td>2</td>\n",
       "      <td>2</td>\n",
       "      <td>2</td>\n",
       "      <td>23</td>\n",
       "      <td>1</td>\n",
       "    </tr>\n",
       "    <tr>\n",
       "      <th>14999</th>\n",
       "      <td>4</td>\n",
       "      <td>0</td>\n",
       "      <td>1</td>\n",
       "      <td>0</td>\n",
       "      <td>4</td>\n",
       "      <td>0</td>\n",
       "      <td>2</td>\n",
       "      <td>0</td>\n",
       "      <td>0</td>\n",
       "      <td>2</td>\n",
       "      <td>6</td>\n",
       "      <td>0</td>\n",
       "      <td>4</td>\n",
       "      <td>0</td>\n",
       "      <td>0</td>\n",
       "    </tr>\n",
       "    <tr>\n",
       "      <th>15000</th>\n",
       "      <td>6</td>\n",
       "      <td>0</td>\n",
       "      <td>2</td>\n",
       "      <td>0</td>\n",
       "      <td>0</td>\n",
       "      <td>0</td>\n",
       "      <td>1</td>\n",
       "      <td>3</td>\n",
       "      <td>1</td>\n",
       "      <td>0</td>\n",
       "      <td>2</td>\n",
       "      <td>0</td>\n",
       "      <td>1</td>\n",
       "      <td>16</td>\n",
       "      <td>2</td>\n",
       "    </tr>\n",
       "  </tbody>\n",
       "</table>\n",
       "<p>5000 rows × 15 columns</p>\n",
       "</div>"
      ],
      "text/plain": [
       "       feature_0  feature_1  feature_2  feature_3  feature_4  feature_5  \\\n",
       "id                                                                        \n",
       "10001          4          0          0          0          0          0   \n",
       "10002          2          0         28          0          1          0   \n",
       "10003          5          4          0          1          1          0   \n",
       "10004          1          1         13          0          0         14   \n",
       "10005          0          1         27          1          9          1   \n",
       "...          ...        ...        ...        ...        ...        ...   \n",
       "14996          1          0          4          0          6          0   \n",
       "14997          0          0          2          0          0          0   \n",
       "14998          0          0          0          1          0          5   \n",
       "14999          4          0          1          0          4          0   \n",
       "15000          6          0          2          0          0          0   \n",
       "\n",
       "       feature_6  feature_7  feature_8  feature_9  feature_10  feature_11  \\\n",
       "id                                                                          \n",
       "10001          0          0          0         14           0           0   \n",
       "10002          0          1          0          0           4           0   \n",
       "10003          0          2          0          1           0           0   \n",
       "10004          0          0          1          2           0           0   \n",
       "10005          1          2          1          2           0          13   \n",
       "...          ...        ...        ...        ...         ...         ...   \n",
       "14996          0          1          0          1           0           0   \n",
       "14997          0          1          5          0           0           0   \n",
       "14998          6          0          2          6           2           2   \n",
       "14999          2          0          0          2           6           0   \n",
       "15000          1          3          1          0           2           0   \n",
       "\n",
       "       feature_12  feature_13  feature_14  \n",
       "id                                         \n",
       "10001           0           8           0  \n",
       "10002           0           4           0  \n",
       "10003           1           0           0  \n",
       "10004           2          13           2  \n",
       "10005           0           6           1  \n",
       "...           ...         ...         ...  \n",
       "14996           0           0           0  \n",
       "14997           0           0           0  \n",
       "14998           2          23           1  \n",
       "14999           4           0           0  \n",
       "15000           1          16           2  \n",
       "\n",
       "[5000 rows x 15 columns]"
      ]
     },
     "execution_count": 18,
     "metadata": {},
     "output_type": "execute_result"
    }
   ],
   "source": [
    "test"
   ]
  },
  {
   "cell_type": "code",
   "execution_count": 19,
   "id": "470e8558",
   "metadata": {
    "execution": {
     "iopub.execute_input": "2022-01-30T12:31:06.162915Z",
     "iopub.status.busy": "2022-01-30T12:31:06.156820Z",
     "iopub.status.idle": "2022-01-30T12:31:06.165797Z",
     "shell.execute_reply": "2022-01-30T12:31:06.166242Z",
     "shell.execute_reply.started": "2022-01-30T12:29:43.072441Z"
    },
    "papermill": {
     "duration": 0.0339,
     "end_time": "2022-01-30T12:31:06.166362",
     "exception": false,
     "start_time": "2022-01-30T12:31:06.132462",
     "status": "completed"
    },
    "tags": []
   },
   "outputs": [
    {
     "name": "stdout",
     "output_type": "stream",
     "text": [
      "<class 'pandas.core.frame.DataFrame'>\n",
      "Int64Index: 5000 entries, 10001 to 15000\n",
      "Data columns (total 15 columns):\n",
      " #   Column      Non-Null Count  Dtype\n",
      "---  ------      --------------  -----\n",
      " 0   feature_0   5000 non-null   int64\n",
      " 1   feature_1   5000 non-null   int64\n",
      " 2   feature_2   5000 non-null   int64\n",
      " 3   feature_3   5000 non-null   int64\n",
      " 4   feature_4   5000 non-null   int64\n",
      " 5   feature_5   5000 non-null   int64\n",
      " 6   feature_6   5000 non-null   int64\n",
      " 7   feature_7   5000 non-null   int64\n",
      " 8   feature_8   5000 non-null   int64\n",
      " 9   feature_9   5000 non-null   int64\n",
      " 10  feature_10  5000 non-null   int64\n",
      " 11  feature_11  5000 non-null   int64\n",
      " 12  feature_12  5000 non-null   int64\n",
      " 13  feature_13  5000 non-null   int64\n",
      " 14  feature_14  5000 non-null   int64\n",
      "dtypes: int64(15)\n",
      "memory usage: 625.0 KB\n"
     ]
    }
   ],
   "source": [
    "test.info()"
   ]
  },
  {
   "cell_type": "code",
   "execution_count": 20,
   "id": "2b5ef990",
   "metadata": {
    "execution": {
     "iopub.execute_input": "2022-01-30T12:31:06.212165Z",
     "iopub.status.busy": "2022-01-30T12:31:06.211380Z",
     "iopub.status.idle": "2022-01-30T12:31:06.253407Z",
     "shell.execute_reply": "2022-01-30T12:31:06.253768Z",
     "shell.execute_reply.started": "2022-01-30T12:30:08.316963Z"
    },
    "papermill": {
     "duration": 0.06696,
     "end_time": "2022-01-30T12:31:06.253886",
     "exception": false,
     "start_time": "2022-01-30T12:31:06.186926",
     "status": "completed"
    },
    "tags": []
   },
   "outputs": [
    {
     "data": {
      "text/plain": [
       "array([1, 0, 1, ..., 0, 0, 0])"
      ]
     },
     "execution_count": 20,
     "metadata": {},
     "output_type": "execute_result"
    }
   ],
   "source": [
    "results=forest_model.predict(test)\n",
    "results"
   ]
  },
  {
   "cell_type": "code",
   "execution_count": 21,
   "id": "0f9b26d3",
   "metadata": {
    "execution": {
     "iopub.execute_input": "2022-01-30T12:31:06.305906Z",
     "iopub.status.busy": "2022-01-30T12:31:06.305062Z",
     "iopub.status.idle": "2022-01-30T12:31:06.308452Z",
     "shell.execute_reply": "2022-01-30T12:31:06.308837Z",
     "shell.execute_reply.started": "2022-01-30T12:30:11.316226Z"
    },
    "papermill": {
     "duration": 0.034451,
     "end_time": "2022-01-30T12:31:06.308960",
     "exception": false,
     "start_time": "2022-01-30T12:31:06.274509",
     "status": "completed"
    },
    "tags": []
   },
   "outputs": [
    {
     "data": {
      "text/html": [
       "<div>\n",
       "<style scoped>\n",
       "    .dataframe tbody tr th:only-of-type {\n",
       "        vertical-align: middle;\n",
       "    }\n",
       "\n",
       "    .dataframe tbody tr th {\n",
       "        vertical-align: top;\n",
       "    }\n",
       "\n",
       "    .dataframe thead th {\n",
       "        text-align: right;\n",
       "    }\n",
       "</style>\n",
       "<table border=\"1\" class=\"dataframe\">\n",
       "  <thead>\n",
       "    <tr style=\"text-align: right;\">\n",
       "      <th></th>\n",
       "      <th>feature_0</th>\n",
       "      <th>feature_1</th>\n",
       "      <th>feature_2</th>\n",
       "      <th>feature_3</th>\n",
       "      <th>feature_4</th>\n",
       "      <th>feature_5</th>\n",
       "      <th>feature_6</th>\n",
       "      <th>feature_7</th>\n",
       "      <th>feature_8</th>\n",
       "      <th>feature_9</th>\n",
       "      <th>feature_10</th>\n",
       "      <th>feature_11</th>\n",
       "      <th>feature_12</th>\n",
       "      <th>feature_13</th>\n",
       "      <th>feature_14</th>\n",
       "    </tr>\n",
       "    <tr>\n",
       "      <th>id</th>\n",
       "      <th></th>\n",
       "      <th></th>\n",
       "      <th></th>\n",
       "      <th></th>\n",
       "      <th></th>\n",
       "      <th></th>\n",
       "      <th></th>\n",
       "      <th></th>\n",
       "      <th></th>\n",
       "      <th></th>\n",
       "      <th></th>\n",
       "      <th></th>\n",
       "      <th></th>\n",
       "      <th></th>\n",
       "      <th></th>\n",
       "    </tr>\n",
       "  </thead>\n",
       "  <tbody>\n",
       "    <tr>\n",
       "      <th>10001</th>\n",
       "      <td>4</td>\n",
       "      <td>0</td>\n",
       "      <td>0</td>\n",
       "      <td>0</td>\n",
       "      <td>0</td>\n",
       "      <td>0</td>\n",
       "      <td>0</td>\n",
       "      <td>0</td>\n",
       "      <td>0</td>\n",
       "      <td>14</td>\n",
       "      <td>0</td>\n",
       "      <td>0</td>\n",
       "      <td>0</td>\n",
       "      <td>8</td>\n",
       "      <td>0</td>\n",
       "    </tr>\n",
       "    <tr>\n",
       "      <th>10002</th>\n",
       "      <td>2</td>\n",
       "      <td>0</td>\n",
       "      <td>28</td>\n",
       "      <td>0</td>\n",
       "      <td>1</td>\n",
       "      <td>0</td>\n",
       "      <td>0</td>\n",
       "      <td>1</td>\n",
       "      <td>0</td>\n",
       "      <td>0</td>\n",
       "      <td>4</td>\n",
       "      <td>0</td>\n",
       "      <td>0</td>\n",
       "      <td>4</td>\n",
       "      <td>0</td>\n",
       "    </tr>\n",
       "    <tr>\n",
       "      <th>10003</th>\n",
       "      <td>5</td>\n",
       "      <td>4</td>\n",
       "      <td>0</td>\n",
       "      <td>1</td>\n",
       "      <td>1</td>\n",
       "      <td>0</td>\n",
       "      <td>0</td>\n",
       "      <td>2</td>\n",
       "      <td>0</td>\n",
       "      <td>1</td>\n",
       "      <td>0</td>\n",
       "      <td>0</td>\n",
       "      <td>1</td>\n",
       "      <td>0</td>\n",
       "      <td>0</td>\n",
       "    </tr>\n",
       "    <tr>\n",
       "      <th>10004</th>\n",
       "      <td>1</td>\n",
       "      <td>1</td>\n",
       "      <td>13</td>\n",
       "      <td>0</td>\n",
       "      <td>0</td>\n",
       "      <td>14</td>\n",
       "      <td>0</td>\n",
       "      <td>0</td>\n",
       "      <td>1</td>\n",
       "      <td>2</td>\n",
       "      <td>0</td>\n",
       "      <td>0</td>\n",
       "      <td>2</td>\n",
       "      <td>13</td>\n",
       "      <td>2</td>\n",
       "    </tr>\n",
       "    <tr>\n",
       "      <th>10005</th>\n",
       "      <td>0</td>\n",
       "      <td>1</td>\n",
       "      <td>27</td>\n",
       "      <td>1</td>\n",
       "      <td>9</td>\n",
       "      <td>1</td>\n",
       "      <td>1</td>\n",
       "      <td>2</td>\n",
       "      <td>1</td>\n",
       "      <td>2</td>\n",
       "      <td>0</td>\n",
       "      <td>13</td>\n",
       "      <td>0</td>\n",
       "      <td>6</td>\n",
       "      <td>1</td>\n",
       "    </tr>\n",
       "  </tbody>\n",
       "</table>\n",
       "</div>"
      ],
      "text/plain": [
       "       feature_0  feature_1  feature_2  feature_3  feature_4  feature_5  \\\n",
       "id                                                                        \n",
       "10001          4          0          0          0          0          0   \n",
       "10002          2          0         28          0          1          0   \n",
       "10003          5          4          0          1          1          0   \n",
       "10004          1          1         13          0          0         14   \n",
       "10005          0          1         27          1          9          1   \n",
       "\n",
       "       feature_6  feature_7  feature_8  feature_9  feature_10  feature_11  \\\n",
       "id                                                                          \n",
       "10001          0          0          0         14           0           0   \n",
       "10002          0          1          0          0           4           0   \n",
       "10003          0          2          0          1           0           0   \n",
       "10004          0          0          1          2           0           0   \n",
       "10005          1          2          1          2           0          13   \n",
       "\n",
       "       feature_12  feature_13  feature_14  \n",
       "id                                         \n",
       "10001           0           8           0  \n",
       "10002           0           4           0  \n",
       "10003           1           0           0  \n",
       "10004           2          13           2  \n",
       "10005           0           6           1  "
      ]
     },
     "execution_count": 21,
     "metadata": {},
     "output_type": "execute_result"
    }
   ],
   "source": [
    "test.head()"
   ]
  },
  {
   "cell_type": "code",
   "execution_count": 22,
   "id": "3a76c7ad",
   "metadata": {
    "execution": {
     "iopub.execute_input": "2022-01-30T12:31:06.362499Z",
     "iopub.status.busy": "2022-01-30T12:31:06.361707Z",
     "iopub.status.idle": "2022-01-30T12:31:06.364765Z",
     "shell.execute_reply": "2022-01-30T12:31:06.365273Z",
     "shell.execute_reply.started": "2022-01-30T12:30:14.612679Z"
    },
    "papermill": {
     "duration": 0.035302,
     "end_time": "2022-01-30T12:31:06.365393",
     "exception": false,
     "start_time": "2022-01-30T12:31:06.330091",
     "status": "completed"
    },
    "tags": []
   },
   "outputs": [
    {
     "data": {
      "text/html": [
       "<div>\n",
       "<style scoped>\n",
       "    .dataframe tbody tr th:only-of-type {\n",
       "        vertical-align: middle;\n",
       "    }\n",
       "\n",
       "    .dataframe tbody tr th {\n",
       "        vertical-align: top;\n",
       "    }\n",
       "\n",
       "    .dataframe thead th {\n",
       "        text-align: right;\n",
       "    }\n",
       "</style>\n",
       "<table border=\"1\" class=\"dataframe\">\n",
       "  <thead>\n",
       "    <tr style=\"text-align: right;\">\n",
       "      <th></th>\n",
       "      <th>feature_0</th>\n",
       "      <th>feature_1</th>\n",
       "      <th>feature_2</th>\n",
       "      <th>feature_3</th>\n",
       "      <th>feature_4</th>\n",
       "      <th>feature_5</th>\n",
       "      <th>feature_6</th>\n",
       "      <th>feature_7</th>\n",
       "      <th>feature_8</th>\n",
       "      <th>feature_9</th>\n",
       "      <th>feature_10</th>\n",
       "      <th>feature_11</th>\n",
       "      <th>feature_12</th>\n",
       "      <th>feature_13</th>\n",
       "      <th>feature_14</th>\n",
       "      <th>target</th>\n",
       "    </tr>\n",
       "    <tr>\n",
       "      <th>id</th>\n",
       "      <th></th>\n",
       "      <th></th>\n",
       "      <th></th>\n",
       "      <th></th>\n",
       "      <th></th>\n",
       "      <th></th>\n",
       "      <th></th>\n",
       "      <th></th>\n",
       "      <th></th>\n",
       "      <th></th>\n",
       "      <th></th>\n",
       "      <th></th>\n",
       "      <th></th>\n",
       "      <th></th>\n",
       "      <th></th>\n",
       "      <th></th>\n",
       "    </tr>\n",
       "  </thead>\n",
       "  <tbody>\n",
       "    <tr>\n",
       "      <th>1</th>\n",
       "      <td>0</td>\n",
       "      <td>1</td>\n",
       "      <td>0</td>\n",
       "      <td>1</td>\n",
       "      <td>1</td>\n",
       "      <td>0</td>\n",
       "      <td>0</td>\n",
       "      <td>0</td>\n",
       "      <td>0</td>\n",
       "      <td>1</td>\n",
       "      <td>1</td>\n",
       "      <td>0</td>\n",
       "      <td>0</td>\n",
       "      <td>3</td>\n",
       "      <td>1</td>\n",
       "      <td>0</td>\n",
       "    </tr>\n",
       "    <tr>\n",
       "      <th>2</th>\n",
       "      <td>6</td>\n",
       "      <td>0</td>\n",
       "      <td>2</td>\n",
       "      <td>2</td>\n",
       "      <td>1</td>\n",
       "      <td>0</td>\n",
       "      <td>0</td>\n",
       "      <td>1</td>\n",
       "      <td>0</td>\n",
       "      <td>0</td>\n",
       "      <td>1</td>\n",
       "      <td>0</td>\n",
       "      <td>0</td>\n",
       "      <td>2</td>\n",
       "      <td>0</td>\n",
       "      <td>1</td>\n",
       "    </tr>\n",
       "    <tr>\n",
       "      <th>3</th>\n",
       "      <td>3</td>\n",
       "      <td>0</td>\n",
       "      <td>4</td>\n",
       "      <td>0</td>\n",
       "      <td>0</td>\n",
       "      <td>0</td>\n",
       "      <td>0</td>\n",
       "      <td>2</td>\n",
       "      <td>0</td>\n",
       "      <td>3</td>\n",
       "      <td>0</td>\n",
       "      <td>0</td>\n",
       "      <td>1</td>\n",
       "      <td>5</td>\n",
       "      <td>1</td>\n",
       "      <td>1</td>\n",
       "    </tr>\n",
       "    <tr>\n",
       "      <th>4</th>\n",
       "      <td>2</td>\n",
       "      <td>0</td>\n",
       "      <td>7</td>\n",
       "      <td>3</td>\n",
       "      <td>5</td>\n",
       "      <td>0</td>\n",
       "      <td>1</td>\n",
       "      <td>1</td>\n",
       "      <td>3</td>\n",
       "      <td>4</td>\n",
       "      <td>8</td>\n",
       "      <td>1</td>\n",
       "      <td>0</td>\n",
       "      <td>8</td>\n",
       "      <td>0</td>\n",
       "      <td>0</td>\n",
       "    </tr>\n",
       "    <tr>\n",
       "      <th>5</th>\n",
       "      <td>1</td>\n",
       "      <td>0</td>\n",
       "      <td>2</td>\n",
       "      <td>2</td>\n",
       "      <td>3</td>\n",
       "      <td>0</td>\n",
       "      <td>0</td>\n",
       "      <td>1</td>\n",
       "      <td>0</td>\n",
       "      <td>3</td>\n",
       "      <td>0</td>\n",
       "      <td>0</td>\n",
       "      <td>1</td>\n",
       "      <td>0</td>\n",
       "      <td>1</td>\n",
       "      <td>0</td>\n",
       "    </tr>\n",
       "  </tbody>\n",
       "</table>\n",
       "</div>"
      ],
      "text/plain": [
       "    feature_0  feature_1  feature_2  feature_3  feature_4  feature_5  \\\n",
       "id                                                                     \n",
       "1           0          1          0          1          1          0   \n",
       "2           6          0          2          2          1          0   \n",
       "3           3          0          4          0          0          0   \n",
       "4           2          0          7          3          5          0   \n",
       "5           1          0          2          2          3          0   \n",
       "\n",
       "    feature_6  feature_7  feature_8  feature_9  feature_10  feature_11  \\\n",
       "id                                                                       \n",
       "1           0          0          0          1           1           0   \n",
       "2           0          1          0          0           1           0   \n",
       "3           0          2          0          3           0           0   \n",
       "4           1          1          3          4           8           1   \n",
       "5           0          1          0          3           0           0   \n",
       "\n",
       "    feature_12  feature_13  feature_14  target  \n",
       "id                                              \n",
       "1            0           3           1       0  \n",
       "2            0           2           0       1  \n",
       "3            1           5           1       1  \n",
       "4            0           8           0       0  \n",
       "5            1           0           1       0  "
      ]
     },
     "execution_count": 22,
     "metadata": {},
     "output_type": "execute_result"
    }
   ],
   "source": [
    "df.head()"
   ]
  },
  {
   "cell_type": "code",
   "execution_count": 23,
   "id": "b0cf0c7d",
   "metadata": {
    "execution": {
     "iopub.execute_input": "2022-01-30T12:31:06.421289Z",
     "iopub.status.busy": "2022-01-30T12:31:06.420606Z",
     "iopub.status.idle": "2022-01-30T12:31:06.423283Z",
     "shell.execute_reply": "2022-01-30T12:31:06.423689Z",
     "shell.execute_reply.started": "2022-01-30T12:30:31.575574Z"
    },
    "papermill": {
     "duration": 0.03688,
     "end_time": "2022-01-30T12:31:06.423805",
     "exception": false,
     "start_time": "2022-01-30T12:31:06.386925",
     "status": "completed"
    },
    "tags": []
   },
   "outputs": [
    {
     "data": {
      "text/html": [
       "<div>\n",
       "<style scoped>\n",
       "    .dataframe tbody tr th:only-of-type {\n",
       "        vertical-align: middle;\n",
       "    }\n",
       "\n",
       "    .dataframe tbody tr th {\n",
       "        vertical-align: top;\n",
       "    }\n",
       "\n",
       "    .dataframe thead th {\n",
       "        text-align: right;\n",
       "    }\n",
       "</style>\n",
       "<table border=\"1\" class=\"dataframe\">\n",
       "  <thead>\n",
       "    <tr style=\"text-align: right;\">\n",
       "      <th></th>\n",
       "      <th>id</th>\n",
       "      <th>target</th>\n",
       "    </tr>\n",
       "  </thead>\n",
       "  <tbody>\n",
       "    <tr>\n",
       "      <th>0</th>\n",
       "      <td>10001</td>\n",
       "      <td>1</td>\n",
       "    </tr>\n",
       "    <tr>\n",
       "      <th>1</th>\n",
       "      <td>10002</td>\n",
       "      <td>0</td>\n",
       "    </tr>\n",
       "    <tr>\n",
       "      <th>2</th>\n",
       "      <td>10003</td>\n",
       "      <td>1</td>\n",
       "    </tr>\n",
       "    <tr>\n",
       "      <th>3</th>\n",
       "      <td>10004</td>\n",
       "      <td>0</td>\n",
       "    </tr>\n",
       "    <tr>\n",
       "      <th>4</th>\n",
       "      <td>10005</td>\n",
       "      <td>0</td>\n",
       "    </tr>\n",
       "    <tr>\n",
       "      <th>...</th>\n",
       "      <td>...</td>\n",
       "      <td>...</td>\n",
       "    </tr>\n",
       "    <tr>\n",
       "      <th>4995</th>\n",
       "      <td>14996</td>\n",
       "      <td>1</td>\n",
       "    </tr>\n",
       "    <tr>\n",
       "      <th>4996</th>\n",
       "      <td>14997</td>\n",
       "      <td>1</td>\n",
       "    </tr>\n",
       "    <tr>\n",
       "      <th>4997</th>\n",
       "      <td>14998</td>\n",
       "      <td>0</td>\n",
       "    </tr>\n",
       "    <tr>\n",
       "      <th>4998</th>\n",
       "      <td>14999</td>\n",
       "      <td>0</td>\n",
       "    </tr>\n",
       "    <tr>\n",
       "      <th>4999</th>\n",
       "      <td>15000</td>\n",
       "      <td>0</td>\n",
       "    </tr>\n",
       "  </tbody>\n",
       "</table>\n",
       "<p>5000 rows × 2 columns</p>\n",
       "</div>"
      ],
      "text/plain": [
       "         id  target\n",
       "0     10001       1\n",
       "1     10002       0\n",
       "2     10003       1\n",
       "3     10004       0\n",
       "4     10005       0\n",
       "...     ...     ...\n",
       "4995  14996       1\n",
       "4996  14997       1\n",
       "4997  14998       0\n",
       "4998  14999       0\n",
       "4999  15000       0\n",
       "\n",
       "[5000 rows x 2 columns]"
      ]
     },
     "execution_count": 23,
     "metadata": {},
     "output_type": "execute_result"
    }
   ],
   "source": [
    "results=pd.DataFrame({'id':test.index,'target':results})\n",
    "results"
   ]
  },
  {
   "cell_type": "code",
   "execution_count": 24,
   "id": "6181813e",
   "metadata": {
    "execution": {
     "iopub.execute_input": "2022-01-30T12:31:06.471465Z",
     "iopub.status.busy": "2022-01-30T12:31:06.470939Z",
     "iopub.status.idle": "2022-01-30T12:31:06.484486Z",
     "shell.execute_reply": "2022-01-30T12:31:06.483880Z",
     "shell.execute_reply.started": "2022-01-30T12:30:37.040223Z"
    },
    "papermill": {
     "duration": 0.038647,
     "end_time": "2022-01-30T12:31:06.484618",
     "exception": false,
     "start_time": "2022-01-30T12:31:06.445971",
     "status": "completed"
    },
    "tags": []
   },
   "outputs": [
    {
     "name": "stdout",
     "output_type": "stream",
     "text": [
      "Submission Successful!\n"
     ]
    }
   ],
   "source": [
    "results.to_csv('submission.csv',index=False)\n",
    "print(\"Submission Successful!\")"
   ]
  }
 ],
 "metadata": {
  "kernelspec": {
   "display_name": "Python 3",
   "language": "python",
   "name": "python3"
  },
  "language_info": {
   "codemirror_mode": {
    "name": "ipython",
    "version": 3
   },
   "file_extension": ".py",
   "mimetype": "text/x-python",
   "name": "python",
   "nbconvert_exporter": "python",
   "pygments_lexer": "ipython3",
   "version": "3.7.12"
  },
  "papermill": {
   "default_parameters": {},
   "duration": 12.411462,
   "end_time": "2022-01-30T12:31:07.016953",
   "environment_variables": {},
   "exception": null,
   "input_path": "__notebook__.ipynb",
   "output_path": "__notebook__.ipynb",
   "parameters": {},
   "start_time": "2022-01-30T12:30:54.605491",
   "version": "2.3.3"
  }
 },
 "nbformat": 4,
 "nbformat_minor": 5
}
