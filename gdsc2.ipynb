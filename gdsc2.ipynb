{
 "cells": [
  {
   "cell_type": "code",
   "execution_count": 1,
   "id": "0afe89d8",
   "metadata": {
    "_cell_guid": "b1076dfc-b9ad-4769-8c92-a6c4dae69d19",
    "_uuid": "8f2839f25d086af736a60e9eeb907d3b93b6e0e5",
    "execution": {
     "iopub.execute_input": "2022-01-29T17:13:03.035720Z",
     "iopub.status.busy": "2022-01-29T17:13:03.034063Z",
     "iopub.status.idle": "2022-01-29T17:13:03.047406Z",
     "shell.execute_reply": "2022-01-29T17:13:03.047788Z",
     "shell.execute_reply.started": "2022-01-29T16:56:17.227656Z"
    },
    "papermill": {
     "duration": 0.038399,
     "end_time": "2022-01-29T17:13:03.048018",
     "exception": false,
     "start_time": "2022-01-29T17:13:03.009619",
     "status": "completed"
    },
    "tags": []
   },
   "outputs": [
    {
     "name": "stdout",
     "output_type": "stream",
     "text": [
      "/kaggle/input/gdsc-nsut-recruitment/sample_submission.csv\n",
      "/kaggle/input/gdsc-nsut-recruitment/final_train.csv\n",
      "/kaggle/input/gdsc-nsut-recruitment/final_test.csv\n"
     ]
    }
   ],
   "source": [
    "# This Python 3 environment comes with many helpful analytics libraries installed\n",
    "# It is defined by the kaggle/python Docker image: https://github.com/kaggle/docker-python\n",
    "# For example, here's several helpful packages to load\n",
    "\n",
    "import numpy as np # linear algebra\n",
    "import pandas as pd # data processing, CSV file I/O (e.g. pd.read_csv)\n",
    "\n",
    "# Input data files are available in the read-only \"../input/\" directory\n",
    "# For example, running this (by clicking run or pressing Shift+Enter) will list all files under the input directory\n",
    "\n",
    "import os\n",
    "for dirname, _, filenames in os.walk('/kaggle/input'):\n",
    "    for filename in filenames:\n",
    "        print(os.path.join(dirname, filename))\n",
    "\n",
    "# You can write up to 20GB to the current directory (/kaggle/working/) that gets preserved as output when you create a version using \"Save & Run All\" \n",
    "# You can also write temporary files to /kaggle/temp/, but they won't be saved outside of the current session"
   ]
  },
  {
   "cell_type": "code",
   "execution_count": 2,
   "id": "30cd8040",
   "metadata": {
    "execution": {
     "iopub.execute_input": "2022-01-29T17:13:03.097438Z",
     "iopub.status.busy": "2022-01-29T17:13:03.096858Z",
     "iopub.status.idle": "2022-01-29T17:13:04.178143Z",
     "shell.execute_reply": "2022-01-29T17:13:04.179098Z",
     "shell.execute_reply.started": "2022-01-29T16:56:21.012025Z"
    },
    "papermill": {
     "duration": 1.108869,
     "end_time": "2022-01-29T17:13:04.179465",
     "exception": false,
     "start_time": "2022-01-29T17:13:03.070596",
     "status": "completed"
    },
    "tags": []
   },
   "outputs": [],
   "source": [
    "import pandas as pd\n",
    "from sklearn.preprocessing import LabelEncoder\n",
    "from sklearn.model_selection import train_test_split\n",
    "from sklearn.linear_model import LogisticRegression\n",
    "from sklearn.svm import SVC\n",
    "from sklearn.ensemble import RandomForestClassifier,GradientBoostingClassifier\n",
    "from sklearn.tree import DecisionTreeClassifier\n",
    "from sklearn.naive_bayes import GaussianNB\n",
    "import numpy as np"
   ]
  },
  {
   "cell_type": "code",
   "execution_count": 3,
   "id": "e9751542",
   "metadata": {
    "execution": {
     "iopub.execute_input": "2022-01-29T17:13:04.259477Z",
     "iopub.status.busy": "2022-01-29T17:13:04.258641Z",
     "iopub.status.idle": "2022-01-29T17:13:04.347545Z",
     "shell.execute_reply": "2022-01-29T17:13:04.348545Z",
     "shell.execute_reply.started": "2022-01-29T16:56:24.607859Z"
    },
    "papermill": {
     "duration": 0.128763,
     "end_time": "2022-01-29T17:13:04.348740",
     "exception": false,
     "start_time": "2022-01-29T17:13:04.219977",
     "status": "completed"
    },
    "tags": []
   },
   "outputs": [],
   "source": [
    "df = pd.read_csv('../input/gdsc-nsut-recruitment/final_train.csv',index_col = 'id')\n",
    "test = pd.read_csv('../input/gdsc-nsut-recruitment/final_test.csv',index_col = 'id')\n",
    "\n",
    "sample_submission = pd.read_csv(\"../input/gdsc-nsut-recruitment/sample_submission.csv\")"
   ]
  },
  {
   "cell_type": "code",
   "execution_count": 4,
   "id": "c9a757b1",
   "metadata": {
    "execution": {
     "iopub.execute_input": "2022-01-29T17:13:04.423157Z",
     "iopub.status.busy": "2022-01-29T17:13:04.422387Z",
     "iopub.status.idle": "2022-01-29T17:13:04.428490Z",
     "shell.execute_reply": "2022-01-29T17:13:04.429665Z",
     "shell.execute_reply.started": "2022-01-29T16:56:28.244437Z"
    },
    "papermill": {
     "duration": 0.047301,
     "end_time": "2022-01-29T17:13:04.429856",
     "exception": false,
     "start_time": "2022-01-29T17:13:04.382555",
     "status": "completed"
    },
    "tags": []
   },
   "outputs": [],
   "source": [
    "df = pd.get_dummies(df)\n",
    "# It converts categorical data into dummy or indicator variables"
   ]
  },
  {
   "cell_type": "code",
   "execution_count": 5,
   "id": "1ee900ab",
   "metadata": {
    "execution": {
     "iopub.execute_input": "2022-01-29T17:13:04.506956Z",
     "iopub.status.busy": "2022-01-29T17:13:04.506124Z",
     "iopub.status.idle": "2022-01-29T17:13:04.509649Z",
     "shell.execute_reply": "2022-01-29T17:13:04.510818Z",
     "shell.execute_reply.started": "2022-01-29T16:56:30.915868Z"
    },
    "papermill": {
     "duration": 0.048229,
     "end_time": "2022-01-29T17:13:04.510990",
     "exception": false,
     "start_time": "2022-01-29T17:13:04.462761",
     "status": "completed"
    },
    "tags": []
   },
   "outputs": [],
   "source": [
    "df=df.fillna(df.mean())\n",
    "# Fills mean value to null areas"
   ]
  },
  {
   "cell_type": "code",
   "execution_count": 6,
   "id": "ec9b482a",
   "metadata": {
    "execution": {
     "iopub.execute_input": "2022-01-29T17:13:04.586597Z",
     "iopub.status.busy": "2022-01-29T17:13:04.585799Z",
     "iopub.status.idle": "2022-01-29T17:13:04.597326Z",
     "shell.execute_reply": "2022-01-29T17:13:04.598290Z",
     "shell.execute_reply.started": "2022-01-29T16:56:32.827439Z"
    },
    "papermill": {
     "duration": 0.054545,
     "end_time": "2022-01-29T17:13:04.598461",
     "exception": false,
     "start_time": "2022-01-29T17:13:04.543916",
     "status": "completed"
    },
    "tags": []
   },
   "outputs": [
    {
     "name": "stdout",
     "output_type": "stream",
     "text": [
      "<class 'pandas.core.frame.DataFrame'>\n",
      "Int64Index: 10000 entries, 1 to 10000\n",
      "Data columns (total 16 columns):\n",
      " #   Column      Non-Null Count  Dtype\n",
      "---  ------      --------------  -----\n",
      " 0   feature_0   10000 non-null  int64\n",
      " 1   feature_1   10000 non-null  int64\n",
      " 2   feature_2   10000 non-null  int64\n",
      " 3   feature_3   10000 non-null  int64\n",
      " 4   feature_4   10000 non-null  int64\n",
      " 5   feature_5   10000 non-null  int64\n",
      " 6   feature_6   10000 non-null  int64\n",
      " 7   feature_7   10000 non-null  int64\n",
      " 8   feature_8   10000 non-null  int64\n",
      " 9   feature_9   10000 non-null  int64\n",
      " 10  feature_10  10000 non-null  int64\n",
      " 11  feature_11  10000 non-null  int64\n",
      " 12  feature_12  10000 non-null  int64\n",
      " 13  feature_13  10000 non-null  int64\n",
      " 14  feature_14  10000 non-null  int64\n",
      " 15  target      10000 non-null  int64\n",
      "dtypes: int64(16)\n",
      "memory usage: 1.3 MB\n"
     ]
    }
   ],
   "source": [
    "df.info()"
   ]
  },
  {
   "cell_type": "code",
   "execution_count": 7,
   "id": "7064ef32",
   "metadata": {
    "execution": {
     "iopub.execute_input": "2022-01-29T17:13:04.666756Z",
     "iopub.status.busy": "2022-01-29T17:13:04.666001Z",
     "iopub.status.idle": "2022-01-29T17:13:04.680766Z",
     "shell.execute_reply": "2022-01-29T17:13:04.681237Z",
     "shell.execute_reply.started": "2022-01-29T16:56:35.482760Z"
    },
    "papermill": {
     "duration": 0.048666,
     "end_time": "2022-01-29T17:13:04.681371",
     "exception": false,
     "start_time": "2022-01-29T17:13:04.632705",
     "status": "completed"
    },
    "tags": []
   },
   "outputs": [
    {
     "data": {
      "text/html": [
       "<div>\n",
       "<style scoped>\n",
       "    .dataframe tbody tr th:only-of-type {\n",
       "        vertical-align: middle;\n",
       "    }\n",
       "\n",
       "    .dataframe tbody tr th {\n",
       "        vertical-align: top;\n",
       "    }\n",
       "\n",
       "    .dataframe thead th {\n",
       "        text-align: right;\n",
       "    }\n",
       "</style>\n",
       "<table border=\"1\" class=\"dataframe\">\n",
       "  <thead>\n",
       "    <tr style=\"text-align: right;\">\n",
       "      <th></th>\n",
       "      <th>feature_0</th>\n",
       "      <th>feature_1</th>\n",
       "      <th>feature_2</th>\n",
       "      <th>feature_3</th>\n",
       "      <th>feature_4</th>\n",
       "      <th>feature_5</th>\n",
       "      <th>feature_6</th>\n",
       "      <th>feature_7</th>\n",
       "      <th>feature_8</th>\n",
       "      <th>feature_9</th>\n",
       "      <th>feature_10</th>\n",
       "      <th>feature_11</th>\n",
       "      <th>feature_12</th>\n",
       "      <th>feature_13</th>\n",
       "      <th>feature_14</th>\n",
       "    </tr>\n",
       "    <tr>\n",
       "      <th>id</th>\n",
       "      <th></th>\n",
       "      <th></th>\n",
       "      <th></th>\n",
       "      <th></th>\n",
       "      <th></th>\n",
       "      <th></th>\n",
       "      <th></th>\n",
       "      <th></th>\n",
       "      <th></th>\n",
       "      <th></th>\n",
       "      <th></th>\n",
       "      <th></th>\n",
       "      <th></th>\n",
       "      <th></th>\n",
       "      <th></th>\n",
       "    </tr>\n",
       "  </thead>\n",
       "  <tbody>\n",
       "    <tr>\n",
       "      <th>1</th>\n",
       "      <td>0</td>\n",
       "      <td>1</td>\n",
       "      <td>0</td>\n",
       "      <td>1</td>\n",
       "      <td>1</td>\n",
       "      <td>0</td>\n",
       "      <td>0</td>\n",
       "      <td>0</td>\n",
       "      <td>0</td>\n",
       "      <td>1</td>\n",
       "      <td>1</td>\n",
       "      <td>0</td>\n",
       "      <td>0</td>\n",
       "      <td>3</td>\n",
       "      <td>1</td>\n",
       "    </tr>\n",
       "    <tr>\n",
       "      <th>2</th>\n",
       "      <td>6</td>\n",
       "      <td>0</td>\n",
       "      <td>2</td>\n",
       "      <td>2</td>\n",
       "      <td>1</td>\n",
       "      <td>0</td>\n",
       "      <td>0</td>\n",
       "      <td>1</td>\n",
       "      <td>0</td>\n",
       "      <td>0</td>\n",
       "      <td>1</td>\n",
       "      <td>0</td>\n",
       "      <td>0</td>\n",
       "      <td>2</td>\n",
       "      <td>0</td>\n",
       "    </tr>\n",
       "    <tr>\n",
       "      <th>3</th>\n",
       "      <td>3</td>\n",
       "      <td>0</td>\n",
       "      <td>4</td>\n",
       "      <td>0</td>\n",
       "      <td>0</td>\n",
       "      <td>0</td>\n",
       "      <td>0</td>\n",
       "      <td>2</td>\n",
       "      <td>0</td>\n",
       "      <td>3</td>\n",
       "      <td>0</td>\n",
       "      <td>0</td>\n",
       "      <td>1</td>\n",
       "      <td>5</td>\n",
       "      <td>1</td>\n",
       "    </tr>\n",
       "    <tr>\n",
       "      <th>4</th>\n",
       "      <td>2</td>\n",
       "      <td>0</td>\n",
       "      <td>7</td>\n",
       "      <td>3</td>\n",
       "      <td>5</td>\n",
       "      <td>0</td>\n",
       "      <td>1</td>\n",
       "      <td>1</td>\n",
       "      <td>3</td>\n",
       "      <td>4</td>\n",
       "      <td>8</td>\n",
       "      <td>1</td>\n",
       "      <td>0</td>\n",
       "      <td>8</td>\n",
       "      <td>0</td>\n",
       "    </tr>\n",
       "    <tr>\n",
       "      <th>5</th>\n",
       "      <td>1</td>\n",
       "      <td>0</td>\n",
       "      <td>2</td>\n",
       "      <td>2</td>\n",
       "      <td>3</td>\n",
       "      <td>0</td>\n",
       "      <td>0</td>\n",
       "      <td>1</td>\n",
       "      <td>0</td>\n",
       "      <td>3</td>\n",
       "      <td>0</td>\n",
       "      <td>0</td>\n",
       "      <td>1</td>\n",
       "      <td>0</td>\n",
       "      <td>1</td>\n",
       "    </tr>\n",
       "  </tbody>\n",
       "</table>\n",
       "</div>"
      ],
      "text/plain": [
       "    feature_0  feature_1  feature_2  feature_3  feature_4  feature_5  \\\n",
       "id                                                                     \n",
       "1           0          1          0          1          1          0   \n",
       "2           6          0          2          2          1          0   \n",
       "3           3          0          4          0          0          0   \n",
       "4           2          0          7          3          5          0   \n",
       "5           1          0          2          2          3          0   \n",
       "\n",
       "    feature_6  feature_7  feature_8  feature_9  feature_10  feature_11  \\\n",
       "id                                                                       \n",
       "1           0          0          0          1           1           0   \n",
       "2           0          1          0          0           1           0   \n",
       "3           0          2          0          3           0           0   \n",
       "4           1          1          3          4           8           1   \n",
       "5           0          1          0          3           0           0   \n",
       "\n",
       "    feature_12  feature_13  feature_14  \n",
       "id                                      \n",
       "1            0           3           1  \n",
       "2            0           2           0  \n",
       "3            1           5           1  \n",
       "4            0           8           0  \n",
       "5            1           0           1  "
      ]
     },
     "execution_count": 7,
     "metadata": {},
     "output_type": "execute_result"
    }
   ],
   "source": [
    "X = df.drop(['target'],axis=1)\n",
    "X.head()"
   ]
  },
  {
   "cell_type": "code",
   "execution_count": 8,
   "id": "96ab984a",
   "metadata": {
    "execution": {
     "iopub.execute_input": "2022-01-29T17:13:04.733416Z",
     "iopub.status.busy": "2022-01-29T17:13:04.732520Z",
     "iopub.status.idle": "2022-01-29T17:13:04.737454Z",
     "shell.execute_reply": "2022-01-29T17:13:04.736997Z",
     "shell.execute_reply.started": "2022-01-29T16:56:37.928693Z"
    },
    "papermill": {
     "duration": 0.034242,
     "end_time": "2022-01-29T17:13:04.737559",
     "exception": false,
     "start_time": "2022-01-29T17:13:04.703317",
     "status": "completed"
    },
    "tags": []
   },
   "outputs": [
    {
     "data": {
      "text/plain": [
       "id\n",
       "1        0\n",
       "2        1\n",
       "3        1\n",
       "4        0\n",
       "5        0\n",
       "        ..\n",
       "9996     0\n",
       "9997     0\n",
       "9998     1\n",
       "9999     0\n",
       "10000    1\n",
       "Name: target, Length: 10000, dtype: int64"
      ]
     },
     "execution_count": 8,
     "metadata": {},
     "output_type": "execute_result"
    }
   ],
   "source": [
    "Y = df['target']\n",
    "Y"
   ]
  },
  {
   "cell_type": "code",
   "execution_count": 9,
   "id": "fd80796b",
   "metadata": {
    "execution": {
     "iopub.execute_input": "2022-01-29T17:13:04.787654Z",
     "iopub.status.busy": "2022-01-29T17:13:04.786829Z",
     "iopub.status.idle": "2022-01-29T17:13:04.792109Z",
     "shell.execute_reply": "2022-01-29T17:13:04.791626Z",
     "shell.execute_reply.started": "2022-01-29T16:56:41.015648Z"
    },
    "papermill": {
     "duration": 0.032378,
     "end_time": "2022-01-29T17:13:04.792236",
     "exception": false,
     "start_time": "2022-01-29T17:13:04.759858",
     "status": "completed"
    },
    "tags": []
   },
   "outputs": [],
   "source": [
    "X_train, X_test, Y_train, Y_test = train_test_split(X,Y,test_size=.05)"
   ]
  },
  {
   "cell_type": "code",
   "execution_count": 10,
   "id": "77fd2bee",
   "metadata": {
    "execution": {
     "iopub.execute_input": "2022-01-29T17:13:04.841640Z",
     "iopub.status.busy": "2022-01-29T17:13:04.840794Z",
     "iopub.status.idle": "2022-01-29T17:13:04.902605Z",
     "shell.execute_reply": "2022-01-29T17:13:04.903796Z",
     "shell.execute_reply.started": "2022-01-29T16:56:43.221898Z"
    },
    "papermill": {
     "duration": 0.090343,
     "end_time": "2022-01-29T17:13:04.904069",
     "exception": false,
     "start_time": "2022-01-29T17:13:04.813726",
     "status": "completed"
    },
    "tags": []
   },
   "outputs": [
    {
     "data": {
      "text/plain": [
       "LogisticRegression()"
      ]
     },
     "execution_count": 10,
     "metadata": {},
     "output_type": "execute_result"
    }
   ],
   "source": [
    "model = LogisticRegression(penalty='l2')\n",
    "model.fit(X_train,Y_train)"
   ]
  },
  {
   "cell_type": "code",
   "execution_count": 11,
   "id": "18c4650c",
   "metadata": {
    "execution": {
     "iopub.execute_input": "2022-01-29T17:13:04.994462Z",
     "iopub.status.busy": "2022-01-29T17:13:04.993483Z",
     "iopub.status.idle": "2022-01-29T17:13:05.004988Z",
     "shell.execute_reply": "2022-01-29T17:13:05.006075Z",
     "shell.execute_reply.started": "2022-01-29T16:56:45.686250Z"
    },
    "papermill": {
     "duration": 0.05981,
     "end_time": "2022-01-29T17:13:05.006300",
     "exception": false,
     "start_time": "2022-01-29T17:13:04.946490",
     "status": "completed"
    },
    "tags": []
   },
   "outputs": [
    {
     "data": {
      "text/plain": [
       "(0.558, 0.5805263157894737)"
      ]
     },
     "execution_count": 11,
     "metadata": {},
     "output_type": "execute_result"
    }
   ],
   "source": [
    "model.score(X_test,Y_test),model.score(X_train,Y_train)"
   ]
  },
  {
   "cell_type": "code",
   "execution_count": 12,
   "id": "7445294f",
   "metadata": {
    "execution": {
     "iopub.execute_input": "2022-01-29T17:13:05.097272Z",
     "iopub.status.busy": "2022-01-29T17:13:05.096450Z",
     "iopub.status.idle": "2022-01-29T17:13:05.506136Z",
     "shell.execute_reply": "2022-01-29T17:13:05.506516Z",
     "shell.execute_reply.started": "2022-01-29T16:56:52.079586Z"
    },
    "papermill": {
     "duration": 0.45731,
     "end_time": "2022-01-29T17:13:05.506671",
     "exception": false,
     "start_time": "2022-01-29T17:13:05.049361",
     "status": "completed"
    },
    "tags": []
   },
   "outputs": [
    {
     "data": {
      "text/plain": [
       "RandomForestClassifier(max_depth=4)"
      ]
     },
     "execution_count": 12,
     "metadata": {},
     "output_type": "execute_result"
    }
   ],
   "source": [
    "forest_model  = RandomForestClassifier(max_depth=4)\n",
    "forest_model.fit(X_train, Y_train)"
   ]
  },
  {
   "cell_type": "code",
   "execution_count": 13,
   "id": "2c9d6b85",
   "metadata": {
    "execution": {
     "iopub.execute_input": "2022-01-29T17:13:05.557210Z",
     "iopub.status.busy": "2022-01-29T17:13:05.556256Z",
     "iopub.status.idle": "2022-01-29T17:13:05.640380Z",
     "shell.execute_reply": "2022-01-29T17:13:05.640745Z",
     "shell.execute_reply.started": "2022-01-29T16:56:54.379017Z"
    },
    "papermill": {
     "duration": 0.112228,
     "end_time": "2022-01-29T17:13:05.640898",
     "exception": false,
     "start_time": "2022-01-29T17:13:05.528670",
     "status": "completed"
    },
    "tags": []
   },
   "outputs": [
    {
     "data": {
      "text/plain": [
       "(0.594, 0.6261052631578947)"
      ]
     },
     "execution_count": 13,
     "metadata": {},
     "output_type": "execute_result"
    }
   ],
   "source": [
    "forest_model.score(X_test, Y_test),forest_model.score(X_train, Y_train)"
   ]
  },
  {
   "cell_type": "code",
   "execution_count": 14,
   "id": "ca3d9fb5",
   "metadata": {
    "execution": {
     "iopub.execute_input": "2022-01-29T17:13:05.691226Z",
     "iopub.status.busy": "2022-01-29T17:13:05.690448Z",
     "iopub.status.idle": "2022-01-29T17:13:05.707532Z",
     "shell.execute_reply": "2022-01-29T17:13:05.707122Z",
     "shell.execute_reply.started": "2022-01-29T16:56:57.088525Z"
    },
    "papermill": {
     "duration": 0.044356,
     "end_time": "2022-01-29T17:13:05.707636",
     "exception": false,
     "start_time": "2022-01-29T17:13:05.663280",
     "status": "completed"
    },
    "tags": []
   },
   "outputs": [
    {
     "data": {
      "text/plain": [
       "DecisionTreeClassifier(max_depth=4)"
      ]
     },
     "execution_count": 14,
     "metadata": {},
     "output_type": "execute_result"
    }
   ],
   "source": [
    "tree_model = DecisionTreeClassifier(max_depth=4)\n",
    "tree_model.fit(X_train, Y_train)"
   ]
  },
  {
   "cell_type": "code",
   "execution_count": 15,
   "id": "043f3077",
   "metadata": {
    "execution": {
     "iopub.execute_input": "2022-01-29T17:13:05.758630Z",
     "iopub.status.busy": "2022-01-29T17:13:05.757853Z",
     "iopub.status.idle": "2022-01-29T17:13:05.765167Z",
     "shell.execute_reply": "2022-01-29T17:13:05.765599Z",
     "shell.execute_reply.started": "2022-01-29T16:56:59.290051Z"
    },
    "papermill": {
     "duration": 0.035667,
     "end_time": "2022-01-29T17:13:05.765713",
     "exception": false,
     "start_time": "2022-01-29T17:13:05.730046",
     "status": "completed"
    },
    "tags": []
   },
   "outputs": [
    {
     "data": {
      "text/plain": [
       "(0.586, 0.6074736842105263)"
      ]
     },
     "execution_count": 15,
     "metadata": {},
     "output_type": "execute_result"
    }
   ],
   "source": [
    "tree_model.score(X_test, Y_test),tree_model.score(X_train, Y_train)"
   ]
  },
  {
   "cell_type": "code",
   "execution_count": 16,
   "id": "540edbde",
   "metadata": {
    "execution": {
     "iopub.execute_input": "2022-01-29T17:13:05.816381Z",
     "iopub.status.busy": "2022-01-29T17:13:05.815539Z",
     "iopub.status.idle": "2022-01-29T17:13:05.822974Z",
     "shell.execute_reply": "2022-01-29T17:13:05.823387Z",
     "shell.execute_reply.started": "2022-01-29T16:57:02.020029Z"
    },
    "papermill": {
     "duration": 0.035103,
     "end_time": "2022-01-29T17:13:05.823503",
     "exception": false,
     "start_time": "2022-01-29T17:13:05.788400",
     "status": "completed"
    },
    "tags": []
   },
   "outputs": [
    {
     "data": {
      "text/plain": [
       "GaussianNB()"
      ]
     },
     "execution_count": 16,
     "metadata": {},
     "output_type": "execute_result"
    }
   ],
   "source": [
    "naive_model = GaussianNB()\n",
    "naive_model.fit(X_train,Y_train)"
   ]
  },
  {
   "cell_type": "code",
   "execution_count": 17,
   "id": "8c144230",
   "metadata": {
    "execution": {
     "iopub.execute_input": "2022-01-29T17:13:05.875384Z",
     "iopub.status.busy": "2022-01-29T17:13:05.874538Z",
     "iopub.status.idle": "2022-01-29T17:13:05.884019Z",
     "shell.execute_reply": "2022-01-29T17:13:05.884652Z",
     "shell.execute_reply.started": "2022-01-29T16:57:03.938648Z"
    },
    "papermill": {
     "duration": 0.038066,
     "end_time": "2022-01-29T17:13:05.884791",
     "exception": false,
     "start_time": "2022-01-29T17:13:05.846725",
     "status": "completed"
    },
    "tags": []
   },
   "outputs": [
    {
     "data": {
      "text/plain": [
       "(0.524, 0.5385263157894736)"
      ]
     },
     "execution_count": 17,
     "metadata": {},
     "output_type": "execute_result"
    }
   ],
   "source": [
    "naive_model.score(X_test,Y_test),naive_model.score(X_train,Y_train)"
   ]
  },
  {
   "cell_type": "code",
   "execution_count": 18,
   "id": "d0616e23",
   "metadata": {
    "execution": {
     "iopub.execute_input": "2022-01-29T17:13:05.936693Z",
     "iopub.status.busy": "2022-01-29T17:13:05.935916Z",
     "iopub.status.idle": "2022-01-29T17:13:06.913699Z",
     "shell.execute_reply": "2022-01-29T17:13:06.913257Z",
     "shell.execute_reply.started": "2022-01-29T16:57:14.507538Z"
    },
    "papermill": {
     "duration": 1.005123,
     "end_time": "2022-01-29T17:13:06.913833",
     "exception": false,
     "start_time": "2022-01-29T17:13:05.908710",
     "status": "completed"
    },
    "tags": []
   },
   "outputs": [
    {
     "data": {
      "text/plain": [
       "GradientBoostingClassifier()"
      ]
     },
     "execution_count": 18,
     "metadata": {},
     "output_type": "execute_result"
    }
   ],
   "source": [
    "gbc = GradientBoostingClassifier()\n",
    "gbc.fit(X_train,Y_train)"
   ]
  },
  {
   "cell_type": "code",
   "execution_count": 19,
   "id": "7ae7d4a4",
   "metadata": {
    "execution": {
     "iopub.execute_input": "2022-01-29T17:13:06.968226Z",
     "iopub.status.busy": "2022-01-29T17:13:06.963445Z",
     "iopub.status.idle": "2022-01-29T17:13:06.991438Z",
     "shell.execute_reply": "2022-01-29T17:13:06.991859Z",
     "shell.execute_reply.started": "2022-01-29T16:57:29.508835Z"
    },
    "papermill": {
     "duration": 0.054488,
     "end_time": "2022-01-29T17:13:06.992011",
     "exception": false,
     "start_time": "2022-01-29T17:13:06.937523",
     "status": "completed"
    },
    "tags": []
   },
   "outputs": [
    {
     "data": {
      "text/plain": [
       "(0.62, 0.6458947368421053)"
      ]
     },
     "execution_count": 19,
     "metadata": {},
     "output_type": "execute_result"
    }
   ],
   "source": [
    "gbc.score(X_test,Y_test),gbc.score(X_train,Y_train)"
   ]
  },
  {
   "cell_type": "code",
   "execution_count": 20,
   "id": "518cf5d3",
   "metadata": {
    "execution": {
     "iopub.execute_input": "2022-01-29T17:13:07.047475Z",
     "iopub.status.busy": "2022-01-29T17:13:07.046696Z",
     "iopub.status.idle": "2022-01-29T17:13:07.055193Z",
     "shell.execute_reply": "2022-01-29T17:13:07.054673Z",
     "shell.execute_reply.started": "2022-01-29T16:57:31.882309Z"
    },
    "papermill": {
     "duration": 0.038299,
     "end_time": "2022-01-29T17:13:07.055338",
     "exception": false,
     "start_time": "2022-01-29T17:13:07.017039",
     "status": "completed"
    },
    "tags": []
   },
   "outputs": [
    {
     "name": "stdout",
     "output_type": "stream",
     "text": [
      "<class 'pandas.core.frame.DataFrame'>\n",
      "Int64Index: 5000 entries, 10001 to 15000\n",
      "Data columns (total 15 columns):\n",
      " #   Column      Non-Null Count  Dtype\n",
      "---  ------      --------------  -----\n",
      " 0   feature_0   5000 non-null   int64\n",
      " 1   feature_1   5000 non-null   int64\n",
      " 2   feature_2   5000 non-null   int64\n",
      " 3   feature_3   5000 non-null   int64\n",
      " 4   feature_4   5000 non-null   int64\n",
      " 5   feature_5   5000 non-null   int64\n",
      " 6   feature_6   5000 non-null   int64\n",
      " 7   feature_7   5000 non-null   int64\n",
      " 8   feature_8   5000 non-null   int64\n",
      " 9   feature_9   5000 non-null   int64\n",
      " 10  feature_10  5000 non-null   int64\n",
      " 11  feature_11  5000 non-null   int64\n",
      " 12  feature_12  5000 non-null   int64\n",
      " 13  feature_13  5000 non-null   int64\n",
      " 14  feature_14  5000 non-null   int64\n",
      "dtypes: int64(15)\n",
      "memory usage: 625.0 KB\n"
     ]
    }
   ],
   "source": [
    "test.info()"
   ]
  },
  {
   "cell_type": "code",
   "execution_count": 21,
   "id": "0c4ba8da",
   "metadata": {
    "execution": {
     "iopub.execute_input": "2022-01-29T17:13:07.110338Z",
     "iopub.status.busy": "2022-01-29T17:13:07.109716Z",
     "iopub.status.idle": "2022-01-29T17:13:07.112383Z",
     "shell.execute_reply": "2022-01-29T17:13:07.111987Z",
     "shell.execute_reply.started": "2022-01-29T16:57:37.482136Z"
    },
    "papermill": {
     "duration": 0.032927,
     "end_time": "2022-01-29T17:13:07.112486",
     "exception": false,
     "start_time": "2022-01-29T17:13:07.079559",
     "status": "completed"
    },
    "tags": []
   },
   "outputs": [],
   "source": [
    "test = pd.get_dummies(test)"
   ]
  },
  {
   "cell_type": "code",
   "execution_count": 22,
   "id": "8f40d588",
   "metadata": {
    "execution": {
     "iopub.execute_input": "2022-01-29T17:13:07.165695Z",
     "iopub.status.busy": "2022-01-29T17:13:07.164814Z",
     "iopub.status.idle": "2022-01-29T17:13:07.169929Z",
     "shell.execute_reply": "2022-01-29T17:13:07.170302Z",
     "shell.execute_reply.started": "2022-01-29T16:57:39.895230Z"
    },
    "papermill": {
     "duration": 0.033393,
     "end_time": "2022-01-29T17:13:07.170420",
     "exception": false,
     "start_time": "2022-01-29T17:13:07.137027",
     "status": "completed"
    },
    "tags": []
   },
   "outputs": [],
   "source": [
    "test = test.fillna(test.mean())"
   ]
  },
  {
   "cell_type": "code",
   "execution_count": 23,
   "id": "e8e8a703",
   "metadata": {
    "execution": {
     "iopub.execute_input": "2022-01-29T17:13:07.232723Z",
     "iopub.status.busy": "2022-01-29T17:13:07.231990Z",
     "iopub.status.idle": "2022-01-29T17:13:07.235082Z",
     "shell.execute_reply": "2022-01-29T17:13:07.235640Z",
     "shell.execute_reply.started": "2022-01-29T16:57:41.718535Z"
    },
    "papermill": {
     "duration": 0.041249,
     "end_time": "2022-01-29T17:13:07.235804",
     "exception": false,
     "start_time": "2022-01-29T17:13:07.194555",
     "status": "completed"
    },
    "tags": []
   },
   "outputs": [
    {
     "data": {
      "text/html": [
       "<div>\n",
       "<style scoped>\n",
       "    .dataframe tbody tr th:only-of-type {\n",
       "        vertical-align: middle;\n",
       "    }\n",
       "\n",
       "    .dataframe tbody tr th {\n",
       "        vertical-align: top;\n",
       "    }\n",
       "\n",
       "    .dataframe thead th {\n",
       "        text-align: right;\n",
       "    }\n",
       "</style>\n",
       "<table border=\"1\" class=\"dataframe\">\n",
       "  <thead>\n",
       "    <tr style=\"text-align: right;\">\n",
       "      <th></th>\n",
       "      <th>feature_0</th>\n",
       "      <th>feature_1</th>\n",
       "      <th>feature_2</th>\n",
       "      <th>feature_3</th>\n",
       "      <th>feature_4</th>\n",
       "      <th>feature_5</th>\n",
       "      <th>feature_6</th>\n",
       "      <th>feature_7</th>\n",
       "      <th>feature_8</th>\n",
       "      <th>feature_9</th>\n",
       "      <th>feature_10</th>\n",
       "      <th>feature_11</th>\n",
       "      <th>feature_12</th>\n",
       "      <th>feature_13</th>\n",
       "      <th>feature_14</th>\n",
       "    </tr>\n",
       "    <tr>\n",
       "      <th>id</th>\n",
       "      <th></th>\n",
       "      <th></th>\n",
       "      <th></th>\n",
       "      <th></th>\n",
       "      <th></th>\n",
       "      <th></th>\n",
       "      <th></th>\n",
       "      <th></th>\n",
       "      <th></th>\n",
       "      <th></th>\n",
       "      <th></th>\n",
       "      <th></th>\n",
       "      <th></th>\n",
       "      <th></th>\n",
       "      <th></th>\n",
       "    </tr>\n",
       "  </thead>\n",
       "  <tbody>\n",
       "    <tr>\n",
       "      <th>10001</th>\n",
       "      <td>4</td>\n",
       "      <td>0</td>\n",
       "      <td>0</td>\n",
       "      <td>0</td>\n",
       "      <td>0</td>\n",
       "      <td>0</td>\n",
       "      <td>0</td>\n",
       "      <td>0</td>\n",
       "      <td>0</td>\n",
       "      <td>14</td>\n",
       "      <td>0</td>\n",
       "      <td>0</td>\n",
       "      <td>0</td>\n",
       "      <td>8</td>\n",
       "      <td>0</td>\n",
       "    </tr>\n",
       "    <tr>\n",
       "      <th>10002</th>\n",
       "      <td>2</td>\n",
       "      <td>0</td>\n",
       "      <td>28</td>\n",
       "      <td>0</td>\n",
       "      <td>1</td>\n",
       "      <td>0</td>\n",
       "      <td>0</td>\n",
       "      <td>1</td>\n",
       "      <td>0</td>\n",
       "      <td>0</td>\n",
       "      <td>4</td>\n",
       "      <td>0</td>\n",
       "      <td>0</td>\n",
       "      <td>4</td>\n",
       "      <td>0</td>\n",
       "    </tr>\n",
       "    <tr>\n",
       "      <th>10003</th>\n",
       "      <td>5</td>\n",
       "      <td>4</td>\n",
       "      <td>0</td>\n",
       "      <td>1</td>\n",
       "      <td>1</td>\n",
       "      <td>0</td>\n",
       "      <td>0</td>\n",
       "      <td>2</td>\n",
       "      <td>0</td>\n",
       "      <td>1</td>\n",
       "      <td>0</td>\n",
       "      <td>0</td>\n",
       "      <td>1</td>\n",
       "      <td>0</td>\n",
       "      <td>0</td>\n",
       "    </tr>\n",
       "    <tr>\n",
       "      <th>10004</th>\n",
       "      <td>1</td>\n",
       "      <td>1</td>\n",
       "      <td>13</td>\n",
       "      <td>0</td>\n",
       "      <td>0</td>\n",
       "      <td>14</td>\n",
       "      <td>0</td>\n",
       "      <td>0</td>\n",
       "      <td>1</td>\n",
       "      <td>2</td>\n",
       "      <td>0</td>\n",
       "      <td>0</td>\n",
       "      <td>2</td>\n",
       "      <td>13</td>\n",
       "      <td>2</td>\n",
       "    </tr>\n",
       "    <tr>\n",
       "      <th>10005</th>\n",
       "      <td>0</td>\n",
       "      <td>1</td>\n",
       "      <td>27</td>\n",
       "      <td>1</td>\n",
       "      <td>9</td>\n",
       "      <td>1</td>\n",
       "      <td>1</td>\n",
       "      <td>2</td>\n",
       "      <td>1</td>\n",
       "      <td>2</td>\n",
       "      <td>0</td>\n",
       "      <td>13</td>\n",
       "      <td>0</td>\n",
       "      <td>6</td>\n",
       "      <td>1</td>\n",
       "    </tr>\n",
       "    <tr>\n",
       "      <th>...</th>\n",
       "      <td>...</td>\n",
       "      <td>...</td>\n",
       "      <td>...</td>\n",
       "      <td>...</td>\n",
       "      <td>...</td>\n",
       "      <td>...</td>\n",
       "      <td>...</td>\n",
       "      <td>...</td>\n",
       "      <td>...</td>\n",
       "      <td>...</td>\n",
       "      <td>...</td>\n",
       "      <td>...</td>\n",
       "      <td>...</td>\n",
       "      <td>...</td>\n",
       "      <td>...</td>\n",
       "    </tr>\n",
       "    <tr>\n",
       "      <th>14996</th>\n",
       "      <td>1</td>\n",
       "      <td>0</td>\n",
       "      <td>4</td>\n",
       "      <td>0</td>\n",
       "      <td>6</td>\n",
       "      <td>0</td>\n",
       "      <td>0</td>\n",
       "      <td>1</td>\n",
       "      <td>0</td>\n",
       "      <td>1</td>\n",
       "      <td>0</td>\n",
       "      <td>0</td>\n",
       "      <td>0</td>\n",
       "      <td>0</td>\n",
       "      <td>0</td>\n",
       "    </tr>\n",
       "    <tr>\n",
       "      <th>14997</th>\n",
       "      <td>0</td>\n",
       "      <td>0</td>\n",
       "      <td>2</td>\n",
       "      <td>0</td>\n",
       "      <td>0</td>\n",
       "      <td>0</td>\n",
       "      <td>0</td>\n",
       "      <td>1</td>\n",
       "      <td>5</td>\n",
       "      <td>0</td>\n",
       "      <td>0</td>\n",
       "      <td>0</td>\n",
       "      <td>0</td>\n",
       "      <td>0</td>\n",
       "      <td>0</td>\n",
       "    </tr>\n",
       "    <tr>\n",
       "      <th>14998</th>\n",
       "      <td>0</td>\n",
       "      <td>0</td>\n",
       "      <td>0</td>\n",
       "      <td>1</td>\n",
       "      <td>0</td>\n",
       "      <td>5</td>\n",
       "      <td>6</td>\n",
       "      <td>0</td>\n",
       "      <td>2</td>\n",
       "      <td>6</td>\n",
       "      <td>2</td>\n",
       "      <td>2</td>\n",
       "      <td>2</td>\n",
       "      <td>23</td>\n",
       "      <td>1</td>\n",
       "    </tr>\n",
       "    <tr>\n",
       "      <th>14999</th>\n",
       "      <td>4</td>\n",
       "      <td>0</td>\n",
       "      <td>1</td>\n",
       "      <td>0</td>\n",
       "      <td>4</td>\n",
       "      <td>0</td>\n",
       "      <td>2</td>\n",
       "      <td>0</td>\n",
       "      <td>0</td>\n",
       "      <td>2</td>\n",
       "      <td>6</td>\n",
       "      <td>0</td>\n",
       "      <td>4</td>\n",
       "      <td>0</td>\n",
       "      <td>0</td>\n",
       "    </tr>\n",
       "    <tr>\n",
       "      <th>15000</th>\n",
       "      <td>6</td>\n",
       "      <td>0</td>\n",
       "      <td>2</td>\n",
       "      <td>0</td>\n",
       "      <td>0</td>\n",
       "      <td>0</td>\n",
       "      <td>1</td>\n",
       "      <td>3</td>\n",
       "      <td>1</td>\n",
       "      <td>0</td>\n",
       "      <td>2</td>\n",
       "      <td>0</td>\n",
       "      <td>1</td>\n",
       "      <td>16</td>\n",
       "      <td>2</td>\n",
       "    </tr>\n",
       "  </tbody>\n",
       "</table>\n",
       "<p>5000 rows × 15 columns</p>\n",
       "</div>"
      ],
      "text/plain": [
       "       feature_0  feature_1  feature_2  feature_3  feature_4  feature_5  \\\n",
       "id                                                                        \n",
       "10001          4          0          0          0          0          0   \n",
       "10002          2          0         28          0          1          0   \n",
       "10003          5          4          0          1          1          0   \n",
       "10004          1          1         13          0          0         14   \n",
       "10005          0          1         27          1          9          1   \n",
       "...          ...        ...        ...        ...        ...        ...   \n",
       "14996          1          0          4          0          6          0   \n",
       "14997          0          0          2          0          0          0   \n",
       "14998          0          0          0          1          0          5   \n",
       "14999          4          0          1          0          4          0   \n",
       "15000          6          0          2          0          0          0   \n",
       "\n",
       "       feature_6  feature_7  feature_8  feature_9  feature_10  feature_11  \\\n",
       "id                                                                          \n",
       "10001          0          0          0         14           0           0   \n",
       "10002          0          1          0          0           4           0   \n",
       "10003          0          2          0          1           0           0   \n",
       "10004          0          0          1          2           0           0   \n",
       "10005          1          2          1          2           0          13   \n",
       "...          ...        ...        ...        ...         ...         ...   \n",
       "14996          0          1          0          1           0           0   \n",
       "14997          0          1          5          0           0           0   \n",
       "14998          6          0          2          6           2           2   \n",
       "14999          2          0          0          2           6           0   \n",
       "15000          1          3          1          0           2           0   \n",
       "\n",
       "       feature_12  feature_13  feature_14  \n",
       "id                                         \n",
       "10001           0           8           0  \n",
       "10002           0           4           0  \n",
       "10003           1           0           0  \n",
       "10004           2          13           2  \n",
       "10005           0           6           1  \n",
       "...           ...         ...         ...  \n",
       "14996           0           0           0  \n",
       "14997           0           0           0  \n",
       "14998           2          23           1  \n",
       "14999           4           0           0  \n",
       "15000           1          16           2  \n",
       "\n",
       "[5000 rows x 15 columns]"
      ]
     },
     "execution_count": 23,
     "metadata": {},
     "output_type": "execute_result"
    }
   ],
   "source": [
    "test"
   ]
  },
  {
   "cell_type": "code",
   "execution_count": 24,
   "id": "b54a91f3",
   "metadata": {
    "execution": {
     "iopub.execute_input": "2022-01-29T17:13:07.290019Z",
     "iopub.status.busy": "2022-01-29T17:13:07.289227Z",
     "iopub.status.idle": "2022-01-29T17:13:07.297265Z",
     "shell.execute_reply": "2022-01-29T17:13:07.297744Z",
     "shell.execute_reply.started": "2022-01-29T16:57:44.358577Z"
    },
    "papermill": {
     "duration": 0.037346,
     "end_time": "2022-01-29T17:13:07.297893",
     "exception": false,
     "start_time": "2022-01-29T17:13:07.260547",
     "status": "completed"
    },
    "tags": []
   },
   "outputs": [
    {
     "name": "stdout",
     "output_type": "stream",
     "text": [
      "<class 'pandas.core.frame.DataFrame'>\n",
      "Int64Index: 5000 entries, 10001 to 15000\n",
      "Data columns (total 15 columns):\n",
      " #   Column      Non-Null Count  Dtype\n",
      "---  ------      --------------  -----\n",
      " 0   feature_0   5000 non-null   int64\n",
      " 1   feature_1   5000 non-null   int64\n",
      " 2   feature_2   5000 non-null   int64\n",
      " 3   feature_3   5000 non-null   int64\n",
      " 4   feature_4   5000 non-null   int64\n",
      " 5   feature_5   5000 non-null   int64\n",
      " 6   feature_6   5000 non-null   int64\n",
      " 7   feature_7   5000 non-null   int64\n",
      " 8   feature_8   5000 non-null   int64\n",
      " 9   feature_9   5000 non-null   int64\n",
      " 10  feature_10  5000 non-null   int64\n",
      " 11  feature_11  5000 non-null   int64\n",
      " 12  feature_12  5000 non-null   int64\n",
      " 13  feature_13  5000 non-null   int64\n",
      " 14  feature_14  5000 non-null   int64\n",
      "dtypes: int64(15)\n",
      "memory usage: 625.0 KB\n"
     ]
    }
   ],
   "source": [
    "test.info()"
   ]
  },
  {
   "cell_type": "code",
   "execution_count": 25,
   "id": "1676f1e4",
   "metadata": {
    "execution": {
     "iopub.execute_input": "2022-01-29T17:13:07.353408Z",
     "iopub.status.busy": "2022-01-29T17:13:07.351634Z",
     "iopub.status.idle": "2022-01-29T17:13:07.366615Z",
     "shell.execute_reply": "2022-01-29T17:13:07.366225Z",
     "shell.execute_reply.started": "2022-01-29T17:12:20.783525Z"
    },
    "papermill": {
     "duration": 0.043462,
     "end_time": "2022-01-29T17:13:07.366718",
     "exception": false,
     "start_time": "2022-01-29T17:13:07.323256",
     "status": "completed"
    },
    "tags": []
   },
   "outputs": [
    {
     "data": {
      "text/plain": [
       "array([1, 0, 0, ..., 0, 0, 0])"
      ]
     },
     "execution_count": 25,
     "metadata": {},
     "output_type": "execute_result"
    }
   ],
   "source": [
    "results=gbc.predict(test)\n",
    "results"
   ]
  },
  {
   "cell_type": "code",
   "execution_count": 26,
   "id": "95b39db1",
   "metadata": {
    "execution": {
     "iopub.execute_input": "2022-01-29T17:13:07.427216Z",
     "iopub.status.busy": "2022-01-29T17:13:07.426437Z",
     "iopub.status.idle": "2022-01-29T17:13:07.432133Z",
     "shell.execute_reply": "2022-01-29T17:13:07.431704Z",
     "shell.execute_reply.started": "2022-01-29T17:12:23.783526Z"
    },
    "papermill": {
     "duration": 0.040031,
     "end_time": "2022-01-29T17:13:07.432240",
     "exception": false,
     "start_time": "2022-01-29T17:13:07.392209",
     "status": "completed"
    },
    "tags": []
   },
   "outputs": [
    {
     "data": {
      "text/html": [
       "<div>\n",
       "<style scoped>\n",
       "    .dataframe tbody tr th:only-of-type {\n",
       "        vertical-align: middle;\n",
       "    }\n",
       "\n",
       "    .dataframe tbody tr th {\n",
       "        vertical-align: top;\n",
       "    }\n",
       "\n",
       "    .dataframe thead th {\n",
       "        text-align: right;\n",
       "    }\n",
       "</style>\n",
       "<table border=\"1\" class=\"dataframe\">\n",
       "  <thead>\n",
       "    <tr style=\"text-align: right;\">\n",
       "      <th></th>\n",
       "      <th>feature_0</th>\n",
       "      <th>feature_1</th>\n",
       "      <th>feature_2</th>\n",
       "      <th>feature_3</th>\n",
       "      <th>feature_4</th>\n",
       "      <th>feature_5</th>\n",
       "      <th>feature_6</th>\n",
       "      <th>feature_7</th>\n",
       "      <th>feature_8</th>\n",
       "      <th>feature_9</th>\n",
       "      <th>feature_10</th>\n",
       "      <th>feature_11</th>\n",
       "      <th>feature_12</th>\n",
       "      <th>feature_13</th>\n",
       "      <th>feature_14</th>\n",
       "    </tr>\n",
       "    <tr>\n",
       "      <th>id</th>\n",
       "      <th></th>\n",
       "      <th></th>\n",
       "      <th></th>\n",
       "      <th></th>\n",
       "      <th></th>\n",
       "      <th></th>\n",
       "      <th></th>\n",
       "      <th></th>\n",
       "      <th></th>\n",
       "      <th></th>\n",
       "      <th></th>\n",
       "      <th></th>\n",
       "      <th></th>\n",
       "      <th></th>\n",
       "      <th></th>\n",
       "    </tr>\n",
       "  </thead>\n",
       "  <tbody>\n",
       "    <tr>\n",
       "      <th>10001</th>\n",
       "      <td>4</td>\n",
       "      <td>0</td>\n",
       "      <td>0</td>\n",
       "      <td>0</td>\n",
       "      <td>0</td>\n",
       "      <td>0</td>\n",
       "      <td>0</td>\n",
       "      <td>0</td>\n",
       "      <td>0</td>\n",
       "      <td>14</td>\n",
       "      <td>0</td>\n",
       "      <td>0</td>\n",
       "      <td>0</td>\n",
       "      <td>8</td>\n",
       "      <td>0</td>\n",
       "    </tr>\n",
       "    <tr>\n",
       "      <th>10002</th>\n",
       "      <td>2</td>\n",
       "      <td>0</td>\n",
       "      <td>28</td>\n",
       "      <td>0</td>\n",
       "      <td>1</td>\n",
       "      <td>0</td>\n",
       "      <td>0</td>\n",
       "      <td>1</td>\n",
       "      <td>0</td>\n",
       "      <td>0</td>\n",
       "      <td>4</td>\n",
       "      <td>0</td>\n",
       "      <td>0</td>\n",
       "      <td>4</td>\n",
       "      <td>0</td>\n",
       "    </tr>\n",
       "    <tr>\n",
       "      <th>10003</th>\n",
       "      <td>5</td>\n",
       "      <td>4</td>\n",
       "      <td>0</td>\n",
       "      <td>1</td>\n",
       "      <td>1</td>\n",
       "      <td>0</td>\n",
       "      <td>0</td>\n",
       "      <td>2</td>\n",
       "      <td>0</td>\n",
       "      <td>1</td>\n",
       "      <td>0</td>\n",
       "      <td>0</td>\n",
       "      <td>1</td>\n",
       "      <td>0</td>\n",
       "      <td>0</td>\n",
       "    </tr>\n",
       "    <tr>\n",
       "      <th>10004</th>\n",
       "      <td>1</td>\n",
       "      <td>1</td>\n",
       "      <td>13</td>\n",
       "      <td>0</td>\n",
       "      <td>0</td>\n",
       "      <td>14</td>\n",
       "      <td>0</td>\n",
       "      <td>0</td>\n",
       "      <td>1</td>\n",
       "      <td>2</td>\n",
       "      <td>0</td>\n",
       "      <td>0</td>\n",
       "      <td>2</td>\n",
       "      <td>13</td>\n",
       "      <td>2</td>\n",
       "    </tr>\n",
       "    <tr>\n",
       "      <th>10005</th>\n",
       "      <td>0</td>\n",
       "      <td>1</td>\n",
       "      <td>27</td>\n",
       "      <td>1</td>\n",
       "      <td>9</td>\n",
       "      <td>1</td>\n",
       "      <td>1</td>\n",
       "      <td>2</td>\n",
       "      <td>1</td>\n",
       "      <td>2</td>\n",
       "      <td>0</td>\n",
       "      <td>13</td>\n",
       "      <td>0</td>\n",
       "      <td>6</td>\n",
       "      <td>1</td>\n",
       "    </tr>\n",
       "  </tbody>\n",
       "</table>\n",
       "</div>"
      ],
      "text/plain": [
       "       feature_0  feature_1  feature_2  feature_3  feature_4  feature_5  \\\n",
       "id                                                                        \n",
       "10001          4          0          0          0          0          0   \n",
       "10002          2          0         28          0          1          0   \n",
       "10003          5          4          0          1          1          0   \n",
       "10004          1          1         13          0          0         14   \n",
       "10005          0          1         27          1          9          1   \n",
       "\n",
       "       feature_6  feature_7  feature_8  feature_9  feature_10  feature_11  \\\n",
       "id                                                                          \n",
       "10001          0          0          0         14           0           0   \n",
       "10002          0          1          0          0           4           0   \n",
       "10003          0          2          0          1           0           0   \n",
       "10004          0          0          1          2           0           0   \n",
       "10005          1          2          1          2           0          13   \n",
       "\n",
       "       feature_12  feature_13  feature_14  \n",
       "id                                         \n",
       "10001           0           8           0  \n",
       "10002           0           4           0  \n",
       "10003           1           0           0  \n",
       "10004           2          13           2  \n",
       "10005           0           6           1  "
      ]
     },
     "execution_count": 26,
     "metadata": {},
     "output_type": "execute_result"
    }
   ],
   "source": [
    "test.head()"
   ]
  },
  {
   "cell_type": "code",
   "execution_count": 27,
   "id": "7b35101c",
   "metadata": {
    "execution": {
     "iopub.execute_input": "2022-01-29T17:13:07.487123Z",
     "iopub.status.busy": "2022-01-29T17:13:07.486157Z",
     "iopub.status.idle": "2022-01-29T17:13:07.498041Z",
     "shell.execute_reply": "2022-01-29T17:13:07.497574Z",
     "shell.execute_reply.started": "2022-01-29T17:12:25.746046Z"
    },
    "papermill": {
     "duration": 0.04013,
     "end_time": "2022-01-29T17:13:07.498146",
     "exception": false,
     "start_time": "2022-01-29T17:13:07.458016",
     "status": "completed"
    },
    "tags": []
   },
   "outputs": [
    {
     "data": {
      "text/html": [
       "<div>\n",
       "<style scoped>\n",
       "    .dataframe tbody tr th:only-of-type {\n",
       "        vertical-align: middle;\n",
       "    }\n",
       "\n",
       "    .dataframe tbody tr th {\n",
       "        vertical-align: top;\n",
       "    }\n",
       "\n",
       "    .dataframe thead th {\n",
       "        text-align: right;\n",
       "    }\n",
       "</style>\n",
       "<table border=\"1\" class=\"dataframe\">\n",
       "  <thead>\n",
       "    <tr style=\"text-align: right;\">\n",
       "      <th></th>\n",
       "      <th>feature_0</th>\n",
       "      <th>feature_1</th>\n",
       "      <th>feature_2</th>\n",
       "      <th>feature_3</th>\n",
       "      <th>feature_4</th>\n",
       "      <th>feature_5</th>\n",
       "      <th>feature_6</th>\n",
       "      <th>feature_7</th>\n",
       "      <th>feature_8</th>\n",
       "      <th>feature_9</th>\n",
       "      <th>feature_10</th>\n",
       "      <th>feature_11</th>\n",
       "      <th>feature_12</th>\n",
       "      <th>feature_13</th>\n",
       "      <th>feature_14</th>\n",
       "      <th>target</th>\n",
       "    </tr>\n",
       "    <tr>\n",
       "      <th>id</th>\n",
       "      <th></th>\n",
       "      <th></th>\n",
       "      <th></th>\n",
       "      <th></th>\n",
       "      <th></th>\n",
       "      <th></th>\n",
       "      <th></th>\n",
       "      <th></th>\n",
       "      <th></th>\n",
       "      <th></th>\n",
       "      <th></th>\n",
       "      <th></th>\n",
       "      <th></th>\n",
       "      <th></th>\n",
       "      <th></th>\n",
       "      <th></th>\n",
       "    </tr>\n",
       "  </thead>\n",
       "  <tbody>\n",
       "    <tr>\n",
       "      <th>1</th>\n",
       "      <td>0</td>\n",
       "      <td>1</td>\n",
       "      <td>0</td>\n",
       "      <td>1</td>\n",
       "      <td>1</td>\n",
       "      <td>0</td>\n",
       "      <td>0</td>\n",
       "      <td>0</td>\n",
       "      <td>0</td>\n",
       "      <td>1</td>\n",
       "      <td>1</td>\n",
       "      <td>0</td>\n",
       "      <td>0</td>\n",
       "      <td>3</td>\n",
       "      <td>1</td>\n",
       "      <td>0</td>\n",
       "    </tr>\n",
       "    <tr>\n",
       "      <th>2</th>\n",
       "      <td>6</td>\n",
       "      <td>0</td>\n",
       "      <td>2</td>\n",
       "      <td>2</td>\n",
       "      <td>1</td>\n",
       "      <td>0</td>\n",
       "      <td>0</td>\n",
       "      <td>1</td>\n",
       "      <td>0</td>\n",
       "      <td>0</td>\n",
       "      <td>1</td>\n",
       "      <td>0</td>\n",
       "      <td>0</td>\n",
       "      <td>2</td>\n",
       "      <td>0</td>\n",
       "      <td>1</td>\n",
       "    </tr>\n",
       "    <tr>\n",
       "      <th>3</th>\n",
       "      <td>3</td>\n",
       "      <td>0</td>\n",
       "      <td>4</td>\n",
       "      <td>0</td>\n",
       "      <td>0</td>\n",
       "      <td>0</td>\n",
       "      <td>0</td>\n",
       "      <td>2</td>\n",
       "      <td>0</td>\n",
       "      <td>3</td>\n",
       "      <td>0</td>\n",
       "      <td>0</td>\n",
       "      <td>1</td>\n",
       "      <td>5</td>\n",
       "      <td>1</td>\n",
       "      <td>1</td>\n",
       "    </tr>\n",
       "    <tr>\n",
       "      <th>4</th>\n",
       "      <td>2</td>\n",
       "      <td>0</td>\n",
       "      <td>7</td>\n",
       "      <td>3</td>\n",
       "      <td>5</td>\n",
       "      <td>0</td>\n",
       "      <td>1</td>\n",
       "      <td>1</td>\n",
       "      <td>3</td>\n",
       "      <td>4</td>\n",
       "      <td>8</td>\n",
       "      <td>1</td>\n",
       "      <td>0</td>\n",
       "      <td>8</td>\n",
       "      <td>0</td>\n",
       "      <td>0</td>\n",
       "    </tr>\n",
       "    <tr>\n",
       "      <th>5</th>\n",
       "      <td>1</td>\n",
       "      <td>0</td>\n",
       "      <td>2</td>\n",
       "      <td>2</td>\n",
       "      <td>3</td>\n",
       "      <td>0</td>\n",
       "      <td>0</td>\n",
       "      <td>1</td>\n",
       "      <td>0</td>\n",
       "      <td>3</td>\n",
       "      <td>0</td>\n",
       "      <td>0</td>\n",
       "      <td>1</td>\n",
       "      <td>0</td>\n",
       "      <td>1</td>\n",
       "      <td>0</td>\n",
       "    </tr>\n",
       "  </tbody>\n",
       "</table>\n",
       "</div>"
      ],
      "text/plain": [
       "    feature_0  feature_1  feature_2  feature_3  feature_4  feature_5  \\\n",
       "id                                                                     \n",
       "1           0          1          0          1          1          0   \n",
       "2           6          0          2          2          1          0   \n",
       "3           3          0          4          0          0          0   \n",
       "4           2          0          7          3          5          0   \n",
       "5           1          0          2          2          3          0   \n",
       "\n",
       "    feature_6  feature_7  feature_8  feature_9  feature_10  feature_11  \\\n",
       "id                                                                       \n",
       "1           0          0          0          1           1           0   \n",
       "2           0          1          0          0           1           0   \n",
       "3           0          2          0          3           0           0   \n",
       "4           1          1          3          4           8           1   \n",
       "5           0          1          0          3           0           0   \n",
       "\n",
       "    feature_12  feature_13  feature_14  target  \n",
       "id                                              \n",
       "1            0           3           1       0  \n",
       "2            0           2           0       1  \n",
       "3            1           5           1       1  \n",
       "4            0           8           0       0  \n",
       "5            1           0           1       0  "
      ]
     },
     "execution_count": 27,
     "metadata": {},
     "output_type": "execute_result"
    }
   ],
   "source": [
    "df.head()"
   ]
  },
  {
   "cell_type": "code",
   "execution_count": 28,
   "id": "11cf4b51",
   "metadata": {
    "execution": {
     "iopub.execute_input": "2022-01-29T17:13:07.559841Z",
     "iopub.status.busy": "2022-01-29T17:13:07.559079Z",
     "iopub.status.idle": "2022-01-29T17:13:07.561893Z",
     "shell.execute_reply": "2022-01-29T17:13:07.562325Z",
     "shell.execute_reply.started": "2022-01-29T17:12:27.767211Z"
    },
    "papermill": {
     "duration": 0.038055,
     "end_time": "2022-01-29T17:13:07.562437",
     "exception": false,
     "start_time": "2022-01-29T17:13:07.524382",
     "status": "completed"
    },
    "tags": []
   },
   "outputs": [
    {
     "data": {
      "text/html": [
       "<div>\n",
       "<style scoped>\n",
       "    .dataframe tbody tr th:only-of-type {\n",
       "        vertical-align: middle;\n",
       "    }\n",
       "\n",
       "    .dataframe tbody tr th {\n",
       "        vertical-align: top;\n",
       "    }\n",
       "\n",
       "    .dataframe thead th {\n",
       "        text-align: right;\n",
       "    }\n",
       "</style>\n",
       "<table border=\"1\" class=\"dataframe\">\n",
       "  <thead>\n",
       "    <tr style=\"text-align: right;\">\n",
       "      <th></th>\n",
       "      <th>id</th>\n",
       "      <th>target</th>\n",
       "    </tr>\n",
       "  </thead>\n",
       "  <tbody>\n",
       "    <tr>\n",
       "      <th>0</th>\n",
       "      <td>10001</td>\n",
       "      <td>1</td>\n",
       "    </tr>\n",
       "    <tr>\n",
       "      <th>1</th>\n",
       "      <td>10002</td>\n",
       "      <td>0</td>\n",
       "    </tr>\n",
       "    <tr>\n",
       "      <th>2</th>\n",
       "      <td>10003</td>\n",
       "      <td>0</td>\n",
       "    </tr>\n",
       "    <tr>\n",
       "      <th>3</th>\n",
       "      <td>10004</td>\n",
       "      <td>0</td>\n",
       "    </tr>\n",
       "    <tr>\n",
       "      <th>4</th>\n",
       "      <td>10005</td>\n",
       "      <td>0</td>\n",
       "    </tr>\n",
       "    <tr>\n",
       "      <th>...</th>\n",
       "      <td>...</td>\n",
       "      <td>...</td>\n",
       "    </tr>\n",
       "    <tr>\n",
       "      <th>4995</th>\n",
       "      <td>14996</td>\n",
       "      <td>1</td>\n",
       "    </tr>\n",
       "    <tr>\n",
       "      <th>4996</th>\n",
       "      <td>14997</td>\n",
       "      <td>1</td>\n",
       "    </tr>\n",
       "    <tr>\n",
       "      <th>4997</th>\n",
       "      <td>14998</td>\n",
       "      <td>0</td>\n",
       "    </tr>\n",
       "    <tr>\n",
       "      <th>4998</th>\n",
       "      <td>14999</td>\n",
       "      <td>0</td>\n",
       "    </tr>\n",
       "    <tr>\n",
       "      <th>4999</th>\n",
       "      <td>15000</td>\n",
       "      <td>0</td>\n",
       "    </tr>\n",
       "  </tbody>\n",
       "</table>\n",
       "<p>5000 rows × 2 columns</p>\n",
       "</div>"
      ],
      "text/plain": [
       "         id  target\n",
       "0     10001       1\n",
       "1     10002       0\n",
       "2     10003       0\n",
       "3     10004       0\n",
       "4     10005       0\n",
       "...     ...     ...\n",
       "4995  14996       1\n",
       "4996  14997       1\n",
       "4997  14998       0\n",
       "4998  14999       0\n",
       "4999  15000       0\n",
       "\n",
       "[5000 rows x 2 columns]"
      ]
     },
     "execution_count": 28,
     "metadata": {},
     "output_type": "execute_result"
    }
   ],
   "source": [
    "results=pd.DataFrame({'id':test.index,'target':results})\n",
    "results"
   ]
  },
  {
   "cell_type": "code",
   "execution_count": 29,
   "id": "b6c736b4",
   "metadata": {
    "execution": {
     "iopub.execute_input": "2022-01-29T17:13:07.620881Z",
     "iopub.status.busy": "2022-01-29T17:13:07.620237Z",
     "iopub.status.idle": "2022-01-29T17:13:07.632864Z",
     "shell.execute_reply": "2022-01-29T17:13:07.633543Z",
     "shell.execute_reply.started": "2022-01-29T17:12:36.825968Z"
    },
    "papermill": {
     "duration": 0.043985,
     "end_time": "2022-01-29T17:13:07.633695",
     "exception": false,
     "start_time": "2022-01-29T17:13:07.589710",
     "status": "completed"
    },
    "tags": []
   },
   "outputs": [
    {
     "name": "stdout",
     "output_type": "stream",
     "text": [
      "Submission Successful!\n"
     ]
    }
   ],
   "source": [
    "results.to_csv('my_submissiongdsc.csv',index=False)\n",
    "print(\"Submission Successful!\")"
   ]
  }
 ],
 "metadata": {
  "kernelspec": {
   "display_name": "Python 3",
   "language": "python",
   "name": "python3"
  },
  "language_info": {
   "codemirror_mode": {
    "name": "ipython",
    "version": 3
   },
   "file_extension": ".py",
   "mimetype": "text/x-python",
   "name": "python",
   "nbconvert_exporter": "python",
   "pygments_lexer": "ipython3",
   "version": "3.7.12"
  },
  "papermill": {
   "default_parameters": {},
   "duration": 13.818566,
   "end_time": "2022-01-29T17:13:08.169941",
   "environment_variables": {},
   "exception": null,
   "input_path": "__notebook__.ipynb",
   "output_path": "__notebook__.ipynb",
   "parameters": {},
   "start_time": "2022-01-29T17:12:54.351375",
   "version": "2.3.3"
  }
 },
 "nbformat": 4,
 "nbformat_minor": 5
}
