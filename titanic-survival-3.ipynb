{
 "cells": [
  {
   "cell_type": "code",
   "execution_count": 1,
   "id": "4ef14692",
   "metadata": {
    "_cell_guid": "b1076dfc-b9ad-4769-8c92-a6c4dae69d19",
    "_uuid": "8f2839f25d086af736a60e9eeb907d3b93b6e0e5",
    "execution": {
     "iopub.execute_input": "2022-01-29T15:16:32.038383Z",
     "iopub.status.busy": "2022-01-29T15:16:32.037270Z",
     "iopub.status.idle": "2022-01-29T15:16:32.048165Z",
     "shell.execute_reply": "2022-01-29T15:16:32.049075Z",
     "shell.execute_reply.started": "2022-01-29T15:11:42.704811Z"
    },
    "papermill": {
     "duration": 0.040608,
     "end_time": "2022-01-29T15:16:32.049479",
     "exception": false,
     "start_time": "2022-01-29T15:16:32.008871",
     "status": "completed"
    },
    "tags": []
   },
   "outputs": [
    {
     "name": "stdout",
     "output_type": "stream",
     "text": [
      "/kaggle/input/titanic/train.csv\n",
      "/kaggle/input/titanic/test.csv\n",
      "/kaggle/input/titanic/gender_submission.csv\n"
     ]
    }
   ],
   "source": [
    "# This Python 3 environment comes with many helpful analytics libraries installed\n",
    "# It is defined by the kaggle/python Docker image: https://github.com/kaggle/docker-python\n",
    "# For example, here's several helpful packages to load\n",
    "\n",
    "import numpy as np # linear algebra\n",
    "import pandas as pd # data processing, CSV file I/O (e.g. pd.read_csv)\n",
    "\n",
    "# Input data files are available in the read-only \"../input/\" directory\n",
    "# For example, running this (by clicking run or pressing Shift+Enter) will list all files under the input directory\n",
    "\n",
    "import os\n",
    "for dirname, _, filenames in os.walk('/kaggle/input'):\n",
    "    for filename in filenames:\n",
    "        print(os.path.join(dirname, filename))\n",
    "\n",
    "# You can write up to 20GB to the current directory (/kaggle/working/) that gets preserved as output when you create a version using \"Save & Run All\" \n",
    "# You can also write temporary files to /kaggle/temp/, but they won't be saved outside of the current session"
   ]
  },
  {
   "cell_type": "markdown",
   "id": "1bd6c51e",
   "metadata": {
    "papermill": {
     "duration": 0.023112,
     "end_time": "2022-01-29T15:16:32.096730",
     "exception": false,
     "start_time": "2022-01-29T15:16:32.073618",
     "status": "completed"
    },
    "tags": []
   },
   "source": [
    "**Survived: 0 = Did not survive, 1 = Survived**\n",
    "\n",
    "**Pclass: Ticket class where 1 = First class, 2 = Second class, 3 = Third class. This   can also be seen as a proxy for socio-economic status.**\n",
    "\n",
    "**Sex: Male or female**\n",
    "\n",
    "**Age: Age in years, fractional if less than 1**\n",
    "\n",
    "**SibSp: Number of siblings or spouses aboard the titanic**\n",
    "\n",
    "**Parch: Number of parents or children aboard the titanic**\n",
    "\n",
    "**Ticket: Passenger ticket number**\n",
    "\n",
    "**Fare: Passenger fare**\n",
    "\n",
    "**Cabin: Cabin number**\n",
    "\n",
    "**Embarked: Point of embarkation where C = Cherbourg, Q = Queenstown, S = Southampton**"
   ]
  },
  {
   "cell_type": "markdown",
   "id": "c13960c0",
   "metadata": {
    "papermill": {
     "duration": 0.022949,
     "end_time": "2022-01-29T15:16:32.142957",
     "exception": false,
     "start_time": "2022-01-29T15:16:32.120008",
     "status": "completed"
    },
    "tags": []
   },
   "source": [
    " **Importing main Libraries...**"
   ]
  },
  {
   "cell_type": "code",
   "execution_count": 2,
   "id": "b3f51ab8",
   "metadata": {
    "execution": {
     "iopub.execute_input": "2022-01-29T15:16:32.193934Z",
     "iopub.status.busy": "2022-01-29T15:16:32.193351Z",
     "iopub.status.idle": "2022-01-29T15:16:33.272699Z",
     "shell.execute_reply": "2022-01-29T15:16:33.271955Z",
     "shell.execute_reply.started": "2022-01-29T15:11:45.012568Z"
    },
    "papermill": {
     "duration": 1.107096,
     "end_time": "2022-01-29T15:16:33.272870",
     "exception": false,
     "start_time": "2022-01-29T15:16:32.165774",
     "status": "completed"
    },
    "tags": []
   },
   "outputs": [],
   "source": [
    "import pandas as pd\n",
    "import numpy as np\n",
    "import seaborn as sns\n",
    "train = pd.read_csv(\"../input/titanic/train.csv\")"
   ]
  },
  {
   "cell_type": "code",
   "execution_count": 3,
   "id": "b2ad6fc7",
   "metadata": {
    "execution": {
     "iopub.execute_input": "2022-01-29T15:16:33.326844Z",
     "iopub.status.busy": "2022-01-29T15:16:33.326284Z",
     "iopub.status.idle": "2022-01-29T15:16:33.346616Z",
     "shell.execute_reply": "2022-01-29T15:16:33.347085Z",
     "shell.execute_reply.started": "2022-01-29T15:11:46.931425Z"
    },
    "papermill": {
     "duration": 0.046216,
     "end_time": "2022-01-29T15:16:33.347248",
     "exception": false,
     "start_time": "2022-01-29T15:16:33.301032",
     "status": "completed"
    },
    "tags": []
   },
   "outputs": [
    {
     "data": {
      "text/html": [
       "<div>\n",
       "<style scoped>\n",
       "    .dataframe tbody tr th:only-of-type {\n",
       "        vertical-align: middle;\n",
       "    }\n",
       "\n",
       "    .dataframe tbody tr th {\n",
       "        vertical-align: top;\n",
       "    }\n",
       "\n",
       "    .dataframe thead th {\n",
       "        text-align: right;\n",
       "    }\n",
       "</style>\n",
       "<table border=\"1\" class=\"dataframe\">\n",
       "  <thead>\n",
       "    <tr style=\"text-align: right;\">\n",
       "      <th></th>\n",
       "      <th>PassengerId</th>\n",
       "      <th>Survived</th>\n",
       "      <th>Pclass</th>\n",
       "      <th>Name</th>\n",
       "      <th>Sex</th>\n",
       "      <th>Age</th>\n",
       "      <th>SibSp</th>\n",
       "      <th>Parch</th>\n",
       "      <th>Ticket</th>\n",
       "      <th>Fare</th>\n",
       "      <th>Cabin</th>\n",
       "      <th>Embarked</th>\n",
       "    </tr>\n",
       "  </thead>\n",
       "  <tbody>\n",
       "    <tr>\n",
       "      <th>0</th>\n",
       "      <td>1</td>\n",
       "      <td>0</td>\n",
       "      <td>3</td>\n",
       "      <td>Braund, Mr. Owen Harris</td>\n",
       "      <td>male</td>\n",
       "      <td>22.0</td>\n",
       "      <td>1</td>\n",
       "      <td>0</td>\n",
       "      <td>A/5 21171</td>\n",
       "      <td>7.2500</td>\n",
       "      <td>NaN</td>\n",
       "      <td>S</td>\n",
       "    </tr>\n",
       "    <tr>\n",
       "      <th>1</th>\n",
       "      <td>2</td>\n",
       "      <td>1</td>\n",
       "      <td>1</td>\n",
       "      <td>Cumings, Mrs. John Bradley (Florence Briggs Th...</td>\n",
       "      <td>female</td>\n",
       "      <td>38.0</td>\n",
       "      <td>1</td>\n",
       "      <td>0</td>\n",
       "      <td>PC 17599</td>\n",
       "      <td>71.2833</td>\n",
       "      <td>C85</td>\n",
       "      <td>C</td>\n",
       "    </tr>\n",
       "    <tr>\n",
       "      <th>2</th>\n",
       "      <td>3</td>\n",
       "      <td>1</td>\n",
       "      <td>3</td>\n",
       "      <td>Heikkinen, Miss. Laina</td>\n",
       "      <td>female</td>\n",
       "      <td>26.0</td>\n",
       "      <td>0</td>\n",
       "      <td>0</td>\n",
       "      <td>STON/O2. 3101282</td>\n",
       "      <td>7.9250</td>\n",
       "      <td>NaN</td>\n",
       "      <td>S</td>\n",
       "    </tr>\n",
       "    <tr>\n",
       "      <th>3</th>\n",
       "      <td>4</td>\n",
       "      <td>1</td>\n",
       "      <td>1</td>\n",
       "      <td>Futrelle, Mrs. Jacques Heath (Lily May Peel)</td>\n",
       "      <td>female</td>\n",
       "      <td>35.0</td>\n",
       "      <td>1</td>\n",
       "      <td>0</td>\n",
       "      <td>113803</td>\n",
       "      <td>53.1000</td>\n",
       "      <td>C123</td>\n",
       "      <td>S</td>\n",
       "    </tr>\n",
       "    <tr>\n",
       "      <th>4</th>\n",
       "      <td>5</td>\n",
       "      <td>0</td>\n",
       "      <td>3</td>\n",
       "      <td>Allen, Mr. William Henry</td>\n",
       "      <td>male</td>\n",
       "      <td>35.0</td>\n",
       "      <td>0</td>\n",
       "      <td>0</td>\n",
       "      <td>373450</td>\n",
       "      <td>8.0500</td>\n",
       "      <td>NaN</td>\n",
       "      <td>S</td>\n",
       "    </tr>\n",
       "  </tbody>\n",
       "</table>\n",
       "</div>"
      ],
      "text/plain": [
       "   PassengerId  Survived  Pclass  \\\n",
       "0            1         0       3   \n",
       "1            2         1       1   \n",
       "2            3         1       3   \n",
       "3            4         1       1   \n",
       "4            5         0       3   \n",
       "\n",
       "                                                Name     Sex   Age  SibSp  \\\n",
       "0                            Braund, Mr. Owen Harris    male  22.0      1   \n",
       "1  Cumings, Mrs. John Bradley (Florence Briggs Th...  female  38.0      1   \n",
       "2                             Heikkinen, Miss. Laina  female  26.0      0   \n",
       "3       Futrelle, Mrs. Jacques Heath (Lily May Peel)  female  35.0      1   \n",
       "4                           Allen, Mr. William Henry    male  35.0      0   \n",
       "\n",
       "   Parch            Ticket     Fare Cabin Embarked  \n",
       "0      0         A/5 21171   7.2500   NaN        S  \n",
       "1      0          PC 17599  71.2833   C85        C  \n",
       "2      0  STON/O2. 3101282   7.9250   NaN        S  \n",
       "3      0            113803  53.1000  C123        S  \n",
       "4      0            373450   8.0500   NaN        S  "
      ]
     },
     "execution_count": 3,
     "metadata": {},
     "output_type": "execute_result"
    }
   ],
   "source": [
    "train.head()"
   ]
  },
  {
   "cell_type": "code",
   "execution_count": 4,
   "id": "8535b835",
   "metadata": {
    "execution": {
     "iopub.execute_input": "2022-01-29T15:16:33.398630Z",
     "iopub.status.busy": "2022-01-29T15:16:33.397988Z",
     "iopub.status.idle": "2022-01-29T15:16:33.411015Z",
     "shell.execute_reply": "2022-01-29T15:16:33.411528Z",
     "shell.execute_reply.started": "2022-01-29T15:11:48.933051Z"
    },
    "papermill": {
     "duration": 0.039495,
     "end_time": "2022-01-29T15:16:33.411692",
     "exception": false,
     "start_time": "2022-01-29T15:16:33.372197",
     "status": "completed"
    },
    "tags": []
   },
   "outputs": [],
   "source": [
    "test=pd.read_csv(\"../input/titanic/test.csv\")"
   ]
  },
  {
   "cell_type": "code",
   "execution_count": 5,
   "id": "79f27584",
   "metadata": {
    "execution": {
     "iopub.execute_input": "2022-01-29T15:16:33.462384Z",
     "iopub.status.busy": "2022-01-29T15:16:33.461653Z",
     "iopub.status.idle": "2022-01-29T15:16:33.474878Z",
     "shell.execute_reply": "2022-01-29T15:16:33.475315Z",
     "shell.execute_reply.started": "2022-01-29T15:11:50.917479Z"
    },
    "papermill": {
     "duration": 0.039743,
     "end_time": "2022-01-29T15:16:33.475481",
     "exception": false,
     "start_time": "2022-01-29T15:16:33.435738",
     "status": "completed"
    },
    "tags": []
   },
   "outputs": [
    {
     "data": {
      "text/html": [
       "<div>\n",
       "<style scoped>\n",
       "    .dataframe tbody tr th:only-of-type {\n",
       "        vertical-align: middle;\n",
       "    }\n",
       "\n",
       "    .dataframe tbody tr th {\n",
       "        vertical-align: top;\n",
       "    }\n",
       "\n",
       "    .dataframe thead th {\n",
       "        text-align: right;\n",
       "    }\n",
       "</style>\n",
       "<table border=\"1\" class=\"dataframe\">\n",
       "  <thead>\n",
       "    <tr style=\"text-align: right;\">\n",
       "      <th></th>\n",
       "      <th>PassengerId</th>\n",
       "      <th>Pclass</th>\n",
       "      <th>Name</th>\n",
       "      <th>Sex</th>\n",
       "      <th>Age</th>\n",
       "      <th>SibSp</th>\n",
       "      <th>Parch</th>\n",
       "      <th>Ticket</th>\n",
       "      <th>Fare</th>\n",
       "      <th>Cabin</th>\n",
       "      <th>Embarked</th>\n",
       "    </tr>\n",
       "  </thead>\n",
       "  <tbody>\n",
       "    <tr>\n",
       "      <th>0</th>\n",
       "      <td>892</td>\n",
       "      <td>3</td>\n",
       "      <td>Kelly, Mr. James</td>\n",
       "      <td>male</td>\n",
       "      <td>34.5</td>\n",
       "      <td>0</td>\n",
       "      <td>0</td>\n",
       "      <td>330911</td>\n",
       "      <td>7.8292</td>\n",
       "      <td>NaN</td>\n",
       "      <td>Q</td>\n",
       "    </tr>\n",
       "    <tr>\n",
       "      <th>1</th>\n",
       "      <td>893</td>\n",
       "      <td>3</td>\n",
       "      <td>Wilkes, Mrs. James (Ellen Needs)</td>\n",
       "      <td>female</td>\n",
       "      <td>47.0</td>\n",
       "      <td>1</td>\n",
       "      <td>0</td>\n",
       "      <td>363272</td>\n",
       "      <td>7.0000</td>\n",
       "      <td>NaN</td>\n",
       "      <td>S</td>\n",
       "    </tr>\n",
       "    <tr>\n",
       "      <th>2</th>\n",
       "      <td>894</td>\n",
       "      <td>2</td>\n",
       "      <td>Myles, Mr. Thomas Francis</td>\n",
       "      <td>male</td>\n",
       "      <td>62.0</td>\n",
       "      <td>0</td>\n",
       "      <td>0</td>\n",
       "      <td>240276</td>\n",
       "      <td>9.6875</td>\n",
       "      <td>NaN</td>\n",
       "      <td>Q</td>\n",
       "    </tr>\n",
       "    <tr>\n",
       "      <th>3</th>\n",
       "      <td>895</td>\n",
       "      <td>3</td>\n",
       "      <td>Wirz, Mr. Albert</td>\n",
       "      <td>male</td>\n",
       "      <td>27.0</td>\n",
       "      <td>0</td>\n",
       "      <td>0</td>\n",
       "      <td>315154</td>\n",
       "      <td>8.6625</td>\n",
       "      <td>NaN</td>\n",
       "      <td>S</td>\n",
       "    </tr>\n",
       "    <tr>\n",
       "      <th>4</th>\n",
       "      <td>896</td>\n",
       "      <td>3</td>\n",
       "      <td>Hirvonen, Mrs. Alexander (Helga E Lindqvist)</td>\n",
       "      <td>female</td>\n",
       "      <td>22.0</td>\n",
       "      <td>1</td>\n",
       "      <td>1</td>\n",
       "      <td>3101298</td>\n",
       "      <td>12.2875</td>\n",
       "      <td>NaN</td>\n",
       "      <td>S</td>\n",
       "    </tr>\n",
       "  </tbody>\n",
       "</table>\n",
       "</div>"
      ],
      "text/plain": [
       "   PassengerId  Pclass                                          Name     Sex  \\\n",
       "0          892       3                              Kelly, Mr. James    male   \n",
       "1          893       3              Wilkes, Mrs. James (Ellen Needs)  female   \n",
       "2          894       2                     Myles, Mr. Thomas Francis    male   \n",
       "3          895       3                              Wirz, Mr. Albert    male   \n",
       "4          896       3  Hirvonen, Mrs. Alexander (Helga E Lindqvist)  female   \n",
       "\n",
       "    Age  SibSp  Parch   Ticket     Fare Cabin Embarked  \n",
       "0  34.5      0      0   330911   7.8292   NaN        Q  \n",
       "1  47.0      1      0   363272   7.0000   NaN        S  \n",
       "2  62.0      0      0   240276   9.6875   NaN        Q  \n",
       "3  27.0      0      0   315154   8.6625   NaN        S  \n",
       "4  22.0      1      1  3101298  12.2875   NaN        S  "
      ]
     },
     "execution_count": 5,
     "metadata": {},
     "output_type": "execute_result"
    }
   ],
   "source": [
    "test.head()"
   ]
  },
  {
   "cell_type": "code",
   "execution_count": 6,
   "id": "c75287ae",
   "metadata": {
    "execution": {
     "iopub.execute_input": "2022-01-29T15:16:33.530123Z",
     "iopub.status.busy": "2022-01-29T15:16:33.529122Z",
     "iopub.status.idle": "2022-01-29T15:16:33.533661Z",
     "shell.execute_reply": "2022-01-29T15:16:33.533082Z",
     "shell.execute_reply.started": "2022-01-29T15:11:56.577969Z"
    },
    "papermill": {
     "duration": 0.033775,
     "end_time": "2022-01-29T15:16:33.533797",
     "exception": false,
     "start_time": "2022-01-29T15:16:33.500022",
     "status": "completed"
    },
    "tags": []
   },
   "outputs": [
    {
     "name": "stdout",
     "output_type": "stream",
     "text": [
      "No. of rows and columns in Training Set:  (891, 12)\n",
      "No. of rows and columns in Test Set:  (418, 11)\n"
     ]
    }
   ],
   "source": [
    "print(\"No. of rows and columns in Training Set: \", train.shape)\n",
    "print(\"No. of rows and columns in Test Set: \", test.shape)"
   ]
  },
  {
   "cell_type": "code",
   "execution_count": 7,
   "id": "a4612ab9",
   "metadata": {
    "execution": {
     "iopub.execute_input": "2022-01-29T15:16:33.590410Z",
     "iopub.status.busy": "2022-01-29T15:16:33.584983Z",
     "iopub.status.idle": "2022-01-29T15:16:33.617202Z",
     "shell.execute_reply": "2022-01-29T15:16:33.617838Z",
     "shell.execute_reply.started": "2022-01-29T15:11:59.372256Z"
    },
    "papermill": {
     "duration": 0.059967,
     "end_time": "2022-01-29T15:16:33.618089",
     "exception": false,
     "start_time": "2022-01-29T15:16:33.558122",
     "status": "completed"
    },
    "tags": []
   },
   "outputs": [
    {
     "name": "stdout",
     "output_type": "stream",
     "text": [
      "<class 'pandas.core.frame.DataFrame'>\n",
      "RangeIndex: 891 entries, 0 to 890\n",
      "Data columns (total 12 columns):\n",
      " #   Column       Non-Null Count  Dtype  \n",
      "---  ------       --------------  -----  \n",
      " 0   PassengerId  891 non-null    int64  \n",
      " 1   Survived     891 non-null    int64  \n",
      " 2   Pclass       891 non-null    int64  \n",
      " 3   Name         891 non-null    object \n",
      " 4   Sex          891 non-null    object \n",
      " 5   Age          714 non-null    float64\n",
      " 6   SibSp        891 non-null    int64  \n",
      " 7   Parch        891 non-null    int64  \n",
      " 8   Ticket       891 non-null    object \n",
      " 9   Fare         891 non-null    float64\n",
      " 10  Cabin        204 non-null    object \n",
      " 11  Embarked     889 non-null    object \n",
      "dtypes: float64(2), int64(5), object(5)\n",
      "memory usage: 83.7+ KB\n",
      "<class 'pandas.core.frame.DataFrame'>\n",
      "RangeIndex: 418 entries, 0 to 417\n",
      "Data columns (total 11 columns):\n",
      " #   Column       Non-Null Count  Dtype  \n",
      "---  ------       --------------  -----  \n",
      " 0   PassengerId  418 non-null    int64  \n",
      " 1   Pclass       418 non-null    int64  \n",
      " 2   Name         418 non-null    object \n",
      " 3   Sex          418 non-null    object \n",
      " 4   Age          332 non-null    float64\n",
      " 5   SibSp        418 non-null    int64  \n",
      " 6   Parch        418 non-null    int64  \n",
      " 7   Ticket       418 non-null    object \n",
      " 8   Fare         417 non-null    float64\n",
      " 9   Cabin        91 non-null     object \n",
      " 10  Embarked     418 non-null    object \n",
      "dtypes: float64(2), int64(4), object(5)\n",
      "memory usage: 36.0+ KB\n"
     ]
    }
   ],
   "source": [
    "train.info()\n",
    "test.info()"
   ]
  },
  {
   "cell_type": "code",
   "execution_count": 8,
   "id": "27b981cb",
   "metadata": {
    "execution": {
     "iopub.execute_input": "2022-01-29T15:16:33.673373Z",
     "iopub.status.busy": "2022-01-29T15:16:33.672423Z",
     "iopub.status.idle": "2022-01-29T15:16:33.681736Z",
     "shell.execute_reply": "2022-01-29T15:16:33.682338Z",
     "shell.execute_reply.started": "2022-01-29T15:12:03.564233Z"
    },
    "papermill": {
     "duration": 0.039084,
     "end_time": "2022-01-29T15:16:33.682504",
     "exception": false,
     "start_time": "2022-01-29T15:16:33.643420",
     "status": "completed"
    },
    "tags": []
   },
   "outputs": [
    {
     "data": {
      "text/plain": [
       "PassengerId    891\n",
       "Survived         2\n",
       "Pclass           3\n",
       "Name           891\n",
       "Sex              2\n",
       "Age             88\n",
       "SibSp            7\n",
       "Parch            7\n",
       "Ticket         681\n",
       "Fare           248\n",
       "Cabin          147\n",
       "Embarked         3\n",
       "dtype: int64"
      ]
     },
     "execution_count": 8,
     "metadata": {},
     "output_type": "execute_result"
    }
   ],
   "source": [
    "train.nunique()\n",
    "#Count number of distinct elements."
   ]
  },
  {
   "cell_type": "code",
   "execution_count": 9,
   "id": "7bf96a46",
   "metadata": {
    "execution": {
     "iopub.execute_input": "2022-01-29T15:16:33.737213Z",
     "iopub.status.busy": "2022-01-29T15:16:33.736159Z",
     "iopub.status.idle": "2022-01-29T15:16:33.744834Z",
     "shell.execute_reply": "2022-01-29T15:16:33.745345Z",
     "shell.execute_reply.started": "2022-01-29T15:12:07.008618Z"
    },
    "papermill": {
     "duration": 0.037971,
     "end_time": "2022-01-29T15:16:33.745837",
     "exception": false,
     "start_time": "2022-01-29T15:16:33.707866",
     "status": "completed"
    },
    "tags": []
   },
   "outputs": [
    {
     "data": {
      "text/plain": [
       "PassengerId    418\n",
       "Pclass           3\n",
       "Name           418\n",
       "Sex              2\n",
       "Age             79\n",
       "SibSp            7\n",
       "Parch            8\n",
       "Ticket         363\n",
       "Fare           169\n",
       "Cabin           76\n",
       "Embarked         3\n",
       "dtype: int64"
      ]
     },
     "execution_count": 9,
     "metadata": {},
     "output_type": "execute_result"
    }
   ],
   "source": [
    "test.nunique()"
   ]
  },
  {
   "cell_type": "code",
   "execution_count": 10,
   "id": "ce9c6282",
   "metadata": {
    "execution": {
     "iopub.execute_input": "2022-01-29T15:16:33.800778Z",
     "iopub.status.busy": "2022-01-29T15:16:33.799769Z",
     "iopub.status.idle": "2022-01-29T15:16:33.806144Z",
     "shell.execute_reply": "2022-01-29T15:16:33.806590Z",
     "shell.execute_reply.started": "2022-01-29T15:12:10.124234Z"
    },
    "papermill": {
     "duration": 0.035693,
     "end_time": "2022-01-29T15:16:33.806768",
     "exception": false,
     "start_time": "2022-01-29T15:16:33.771075",
     "status": "completed"
    },
    "tags": []
   },
   "outputs": [],
   "source": [
    "train['Sex'] = train['Sex'].astype(str)\n",
    "train['Embarked'] = train['Embarked'].astype(str)\n",
    "test['Sex'] = test['Sex'].astype(str)\n",
    "test['Embarked'] = test['Embarked'].astype(str)"
   ]
  },
  {
   "cell_type": "code",
   "execution_count": 11,
   "id": "bb0da950",
   "metadata": {
    "execution": {
     "iopub.execute_input": "2022-01-29T15:16:33.862966Z",
     "iopub.status.busy": "2022-01-29T15:16:33.861899Z",
     "iopub.status.idle": "2022-01-29T15:16:34.006698Z",
     "shell.execute_reply": "2022-01-29T15:16:34.006004Z",
     "shell.execute_reply.started": "2022-01-29T15:12:13.066274Z"
    },
    "papermill": {
     "duration": 0.174235,
     "end_time": "2022-01-29T15:16:34.006838",
     "exception": false,
     "start_time": "2022-01-29T15:16:33.832603",
     "status": "completed"
    },
    "tags": []
   },
   "outputs": [],
   "source": [
    "from sklearn.preprocessing import LabelEncoder\n",
    "\n",
    "#Label encoding converts the data in machine-readable form, but it assigns a unique number(starting from 0) to each class of data.\n",
    "#I used for coverting male and female to 1 and 0 respectively and embarking port from C, Q, S to 0,1,2 resp\n",
    "lblenc = LabelEncoder()\n",
    "\n",
    "# fit_transform(y) fits the label encoder and returns the encoded labels\n",
    "\n",
    "train['Embarked'] = lblenc.fit_transform(train['Embarked'])\n",
    "train['Sex'] = lblenc.fit_transform(train['Sex'])\n",
    "test['Embarked'] = lblenc.fit_transform(test['Embarked'])\n",
    "test['Sex'] = lblenc.fit_transform(test['Sex'])\n",
    "\n"
   ]
  },
  {
   "cell_type": "code",
   "execution_count": 12,
   "id": "15784f81",
   "metadata": {
    "execution": {
     "iopub.execute_input": "2022-01-29T15:16:34.063908Z",
     "iopub.status.busy": "2022-01-29T15:16:34.062930Z",
     "iopub.status.idle": "2022-01-29T15:16:34.077289Z",
     "shell.execute_reply": "2022-01-29T15:16:34.077807Z",
     "shell.execute_reply.started": "2022-01-29T15:12:19.826640Z"
    },
    "papermill": {
     "duration": 0.045263,
     "end_time": "2022-01-29T15:16:34.077976",
     "exception": false,
     "start_time": "2022-01-29T15:16:34.032713",
     "status": "completed"
    },
    "tags": []
   },
   "outputs": [
    {
     "data": {
      "text/html": [
       "<div>\n",
       "<style scoped>\n",
       "    .dataframe tbody tr th:only-of-type {\n",
       "        vertical-align: middle;\n",
       "    }\n",
       "\n",
       "    .dataframe tbody tr th {\n",
       "        vertical-align: top;\n",
       "    }\n",
       "\n",
       "    .dataframe thead th {\n",
       "        text-align: right;\n",
       "    }\n",
       "</style>\n",
       "<table border=\"1\" class=\"dataframe\">\n",
       "  <thead>\n",
       "    <tr style=\"text-align: right;\">\n",
       "      <th></th>\n",
       "      <th>PassengerId</th>\n",
       "      <th>Survived</th>\n",
       "      <th>Pclass</th>\n",
       "      <th>Name</th>\n",
       "      <th>Sex</th>\n",
       "      <th>Age</th>\n",
       "      <th>SibSp</th>\n",
       "      <th>Parch</th>\n",
       "      <th>Ticket</th>\n",
       "      <th>Fare</th>\n",
       "      <th>Cabin</th>\n",
       "      <th>Embarked</th>\n",
       "    </tr>\n",
       "  </thead>\n",
       "  <tbody>\n",
       "    <tr>\n",
       "      <th>0</th>\n",
       "      <td>1</td>\n",
       "      <td>0</td>\n",
       "      <td>3</td>\n",
       "      <td>Braund, Mr. Owen Harris</td>\n",
       "      <td>1</td>\n",
       "      <td>22.0</td>\n",
       "      <td>1</td>\n",
       "      <td>0</td>\n",
       "      <td>A/5 21171</td>\n",
       "      <td>7.2500</td>\n",
       "      <td>NaN</td>\n",
       "      <td>2</td>\n",
       "    </tr>\n",
       "    <tr>\n",
       "      <th>1</th>\n",
       "      <td>2</td>\n",
       "      <td>1</td>\n",
       "      <td>1</td>\n",
       "      <td>Cumings, Mrs. John Bradley (Florence Briggs Th...</td>\n",
       "      <td>0</td>\n",
       "      <td>38.0</td>\n",
       "      <td>1</td>\n",
       "      <td>0</td>\n",
       "      <td>PC 17599</td>\n",
       "      <td>71.2833</td>\n",
       "      <td>C85</td>\n",
       "      <td>0</td>\n",
       "    </tr>\n",
       "    <tr>\n",
       "      <th>2</th>\n",
       "      <td>3</td>\n",
       "      <td>1</td>\n",
       "      <td>3</td>\n",
       "      <td>Heikkinen, Miss. Laina</td>\n",
       "      <td>0</td>\n",
       "      <td>26.0</td>\n",
       "      <td>0</td>\n",
       "      <td>0</td>\n",
       "      <td>STON/O2. 3101282</td>\n",
       "      <td>7.9250</td>\n",
       "      <td>NaN</td>\n",
       "      <td>2</td>\n",
       "    </tr>\n",
       "    <tr>\n",
       "      <th>3</th>\n",
       "      <td>4</td>\n",
       "      <td>1</td>\n",
       "      <td>1</td>\n",
       "      <td>Futrelle, Mrs. Jacques Heath (Lily May Peel)</td>\n",
       "      <td>0</td>\n",
       "      <td>35.0</td>\n",
       "      <td>1</td>\n",
       "      <td>0</td>\n",
       "      <td>113803</td>\n",
       "      <td>53.1000</td>\n",
       "      <td>C123</td>\n",
       "      <td>2</td>\n",
       "    </tr>\n",
       "    <tr>\n",
       "      <th>4</th>\n",
       "      <td>5</td>\n",
       "      <td>0</td>\n",
       "      <td>3</td>\n",
       "      <td>Allen, Mr. William Henry</td>\n",
       "      <td>1</td>\n",
       "      <td>35.0</td>\n",
       "      <td>0</td>\n",
       "      <td>0</td>\n",
       "      <td>373450</td>\n",
       "      <td>8.0500</td>\n",
       "      <td>NaN</td>\n",
       "      <td>2</td>\n",
       "    </tr>\n",
       "  </tbody>\n",
       "</table>\n",
       "</div>"
      ],
      "text/plain": [
       "   PassengerId  Survived  Pclass  \\\n",
       "0            1         0       3   \n",
       "1            2         1       1   \n",
       "2            3         1       3   \n",
       "3            4         1       1   \n",
       "4            5         0       3   \n",
       "\n",
       "                                                Name  Sex   Age  SibSp  Parch  \\\n",
       "0                            Braund, Mr. Owen Harris    1  22.0      1      0   \n",
       "1  Cumings, Mrs. John Bradley (Florence Briggs Th...    0  38.0      1      0   \n",
       "2                             Heikkinen, Miss. Laina    0  26.0      0      0   \n",
       "3       Futrelle, Mrs. Jacques Heath (Lily May Peel)    0  35.0      1      0   \n",
       "4                           Allen, Mr. William Henry    1  35.0      0      0   \n",
       "\n",
       "             Ticket     Fare Cabin  Embarked  \n",
       "0         A/5 21171   7.2500   NaN         2  \n",
       "1          PC 17599  71.2833   C85         0  \n",
       "2  STON/O2. 3101282   7.9250   NaN         2  \n",
       "3            113803  53.1000  C123         2  \n",
       "4            373450   8.0500   NaN         2  "
      ]
     },
     "execution_count": 12,
     "metadata": {},
     "output_type": "execute_result"
    }
   ],
   "source": [
    "train.head()"
   ]
  },
  {
   "cell_type": "code",
   "execution_count": 13,
   "id": "e7e0a92c",
   "metadata": {
    "execution": {
     "iopub.execute_input": "2022-01-29T15:16:34.133768Z",
     "iopub.status.busy": "2022-01-29T15:16:34.132846Z",
     "iopub.status.idle": "2022-01-29T15:16:34.170139Z",
     "shell.execute_reply": "2022-01-29T15:16:34.170555Z",
     "shell.execute_reply.started": "2022-01-29T15:12:23.010879Z"
    },
    "papermill": {
     "duration": 0.06702,
     "end_time": "2022-01-29T15:16:34.170724",
     "exception": false,
     "start_time": "2022-01-29T15:16:34.103704",
     "status": "completed"
    },
    "tags": []
   },
   "outputs": [
    {
     "data": {
      "text/html": [
       "<div>\n",
       "<style scoped>\n",
       "    .dataframe tbody tr th:only-of-type {\n",
       "        vertical-align: middle;\n",
       "    }\n",
       "\n",
       "    .dataframe tbody tr th {\n",
       "        vertical-align: top;\n",
       "    }\n",
       "\n",
       "    .dataframe thead th {\n",
       "        text-align: right;\n",
       "    }\n",
       "</style>\n",
       "<table border=\"1\" class=\"dataframe\">\n",
       "  <thead>\n",
       "    <tr style=\"text-align: right;\">\n",
       "      <th></th>\n",
       "      <th>PassengerId</th>\n",
       "      <th>Survived</th>\n",
       "      <th>Pclass</th>\n",
       "      <th>Sex</th>\n",
       "      <th>Age</th>\n",
       "      <th>SibSp</th>\n",
       "      <th>Parch</th>\n",
       "      <th>Fare</th>\n",
       "      <th>Embarked</th>\n",
       "    </tr>\n",
       "  </thead>\n",
       "  <tbody>\n",
       "    <tr>\n",
       "      <th>count</th>\n",
       "      <td>891.000000</td>\n",
       "      <td>891.000000</td>\n",
       "      <td>891.000000</td>\n",
       "      <td>891.000000</td>\n",
       "      <td>714.000000</td>\n",
       "      <td>891.000000</td>\n",
       "      <td>891.000000</td>\n",
       "      <td>891.000000</td>\n",
       "      <td>891.000000</td>\n",
       "    </tr>\n",
       "    <tr>\n",
       "      <th>mean</th>\n",
       "      <td>446.000000</td>\n",
       "      <td>0.383838</td>\n",
       "      <td>2.308642</td>\n",
       "      <td>0.647587</td>\n",
       "      <td>29.699118</td>\n",
       "      <td>0.523008</td>\n",
       "      <td>0.381594</td>\n",
       "      <td>32.204208</td>\n",
       "      <td>1.538721</td>\n",
       "    </tr>\n",
       "    <tr>\n",
       "      <th>std</th>\n",
       "      <td>257.353842</td>\n",
       "      <td>0.486592</td>\n",
       "      <td>0.836071</td>\n",
       "      <td>0.477990</td>\n",
       "      <td>14.526497</td>\n",
       "      <td>1.102743</td>\n",
       "      <td>0.806057</td>\n",
       "      <td>49.693429</td>\n",
       "      <td>0.794231</td>\n",
       "    </tr>\n",
       "    <tr>\n",
       "      <th>min</th>\n",
       "      <td>1.000000</td>\n",
       "      <td>0.000000</td>\n",
       "      <td>1.000000</td>\n",
       "      <td>0.000000</td>\n",
       "      <td>0.420000</td>\n",
       "      <td>0.000000</td>\n",
       "      <td>0.000000</td>\n",
       "      <td>0.000000</td>\n",
       "      <td>0.000000</td>\n",
       "    </tr>\n",
       "    <tr>\n",
       "      <th>25%</th>\n",
       "      <td>223.500000</td>\n",
       "      <td>0.000000</td>\n",
       "      <td>2.000000</td>\n",
       "      <td>0.000000</td>\n",
       "      <td>20.125000</td>\n",
       "      <td>0.000000</td>\n",
       "      <td>0.000000</td>\n",
       "      <td>7.910400</td>\n",
       "      <td>1.000000</td>\n",
       "    </tr>\n",
       "    <tr>\n",
       "      <th>50%</th>\n",
       "      <td>446.000000</td>\n",
       "      <td>0.000000</td>\n",
       "      <td>3.000000</td>\n",
       "      <td>1.000000</td>\n",
       "      <td>28.000000</td>\n",
       "      <td>0.000000</td>\n",
       "      <td>0.000000</td>\n",
       "      <td>14.454200</td>\n",
       "      <td>2.000000</td>\n",
       "    </tr>\n",
       "    <tr>\n",
       "      <th>75%</th>\n",
       "      <td>668.500000</td>\n",
       "      <td>1.000000</td>\n",
       "      <td>3.000000</td>\n",
       "      <td>1.000000</td>\n",
       "      <td>38.000000</td>\n",
       "      <td>1.000000</td>\n",
       "      <td>0.000000</td>\n",
       "      <td>31.000000</td>\n",
       "      <td>2.000000</td>\n",
       "    </tr>\n",
       "    <tr>\n",
       "      <th>max</th>\n",
       "      <td>891.000000</td>\n",
       "      <td>1.000000</td>\n",
       "      <td>3.000000</td>\n",
       "      <td>1.000000</td>\n",
       "      <td>80.000000</td>\n",
       "      <td>8.000000</td>\n",
       "      <td>6.000000</td>\n",
       "      <td>512.329200</td>\n",
       "      <td>3.000000</td>\n",
       "    </tr>\n",
       "  </tbody>\n",
       "</table>\n",
       "</div>"
      ],
      "text/plain": [
       "       PassengerId    Survived      Pclass         Sex         Age  \\\n",
       "count   891.000000  891.000000  891.000000  891.000000  714.000000   \n",
       "mean    446.000000    0.383838    2.308642    0.647587   29.699118   \n",
       "std     257.353842    0.486592    0.836071    0.477990   14.526497   \n",
       "min       1.000000    0.000000    1.000000    0.000000    0.420000   \n",
       "25%     223.500000    0.000000    2.000000    0.000000   20.125000   \n",
       "50%     446.000000    0.000000    3.000000    1.000000   28.000000   \n",
       "75%     668.500000    1.000000    3.000000    1.000000   38.000000   \n",
       "max     891.000000    1.000000    3.000000    1.000000   80.000000   \n",
       "\n",
       "            SibSp       Parch        Fare    Embarked  \n",
       "count  891.000000  891.000000  891.000000  891.000000  \n",
       "mean     0.523008    0.381594   32.204208    1.538721  \n",
       "std      1.102743    0.806057   49.693429    0.794231  \n",
       "min      0.000000    0.000000    0.000000    0.000000  \n",
       "25%      0.000000    0.000000    7.910400    1.000000  \n",
       "50%      0.000000    0.000000   14.454200    2.000000  \n",
       "75%      1.000000    0.000000   31.000000    2.000000  \n",
       "max      8.000000    6.000000  512.329200    3.000000  "
      ]
     },
     "execution_count": 13,
     "metadata": {},
     "output_type": "execute_result"
    }
   ],
   "source": [
    "train.describe()"
   ]
  },
  {
   "cell_type": "code",
   "execution_count": 14,
   "id": "24b89a79",
   "metadata": {
    "execution": {
     "iopub.execute_input": "2022-01-29T15:16:34.229734Z",
     "iopub.status.busy": "2022-01-29T15:16:34.228718Z",
     "iopub.status.idle": "2022-01-29T15:16:34.243837Z",
     "shell.execute_reply": "2022-01-29T15:16:34.244554Z",
     "shell.execute_reply.started": "2022-01-29T15:12:26.752951Z"
    },
    "papermill": {
     "duration": 0.046524,
     "end_time": "2022-01-29T15:16:34.244781",
     "exception": false,
     "start_time": "2022-01-29T15:16:34.198257",
     "status": "completed"
    },
    "tags": []
   },
   "outputs": [
    {
     "name": "stderr",
     "output_type": "stream",
     "text": [
      "/opt/conda/lib/python3.7/site-packages/ipykernel_launcher.py:2: FutureWarning: Dropping of nuisance columns in DataFrame reductions (with 'numeric_only=None') is deprecated; in a future version this will raise TypeError.  Select only valid columns before calling the reduction.\n",
      "  \n",
      "/opt/conda/lib/python3.7/site-packages/ipykernel_launcher.py:3: FutureWarning: Dropping of nuisance columns in DataFrame reductions (with 'numeric_only=None') is deprecated; in a future version this will raise TypeError.  Select only valid columns before calling the reduction.\n",
      "  This is separate from the ipykernel package so we can avoid doing imports until\n"
     ]
    }
   ],
   "source": [
    "#I replaced the NaN values in train.csv and test.csv with the mean of values in the respective columns\n",
    "mean_of_train = train.mean()\n",
    "mean_of_test = test.mean()\n",
    "train = train.fillna(mean_of_train)\n",
    "test = test.fillna(mean_of_test)"
   ]
  },
  {
   "cell_type": "code",
   "execution_count": 15,
   "id": "887258b6",
   "metadata": {
    "execution": {
     "iopub.execute_input": "2022-01-29T15:16:34.305165Z",
     "iopub.status.busy": "2022-01-29T15:16:34.304506Z",
     "iopub.status.idle": "2022-01-29T15:16:34.513729Z",
     "shell.execute_reply": "2022-01-29T15:16:34.513116Z",
     "shell.execute_reply.started": "2022-01-29T15:12:36.687709Z"
    },
    "papermill": {
     "duration": 0.241711,
     "end_time": "2022-01-29T15:16:34.513864",
     "exception": false,
     "start_time": "2022-01-29T15:16:34.272153",
     "status": "completed"
    },
    "tags": []
   },
   "outputs": [
    {
     "data": {
      "text/plain": [
       "<AxesSubplot:>"
      ]
     },
     "execution_count": 15,
     "metadata": {},
     "output_type": "execute_result"
    },
    {
     "data": {
      "image/png": "[encoded data removed]",
      "text/plain": [
       "<Figure size 432x288 with 1 Axes>"
      ]
     },
     "metadata": {
      "needs_background": "light"
     },
     "output_type": "display_data"
    }
   ],
   "source": [
    "train[\"Survived\"].value_counts().plot(kind=\"bar\")\n",
    "# Y-Axis shoes the number of people in each category and X-Axis denotes category(\"0\" denotes \"Died\" and \"1\" denotes \"Survived\")"
   ]
  },
  {
   "cell_type": "code",
   "execution_count": 16,
   "id": "7a0a75c0",
   "metadata": {
    "execution": {
     "iopub.execute_input": "2022-01-29T15:16:34.577171Z",
     "iopub.status.busy": "2022-01-29T15:16:34.576133Z",
     "iopub.status.idle": "2022-01-29T15:16:35.008511Z",
     "shell.execute_reply": "2022-01-29T15:16:35.007617Z",
     "shell.execute_reply.started": "2022-01-29T15:12:39.813514Z"
    },
    "papermill": {
     "duration": 0.466962,
     "end_time": "2022-01-29T15:16:35.008667",
     "exception": false,
     "start_time": "2022-01-29T15:16:34.541705",
     "status": "completed"
    },
    "tags": []
   },
   "outputs": [
    {
     "data": {
      "text/plain": [
       "<AxesSubplot:xlabel='Age_bucket', ylabel='Survived'>"
      ]
     },
     "execution_count": 16,
     "metadata": {},
     "output_type": "execute_result"
    },
    {
     "data": {
      "image/png": "[encoded data removed]",
      "text/plain": [
       "<Figure size 432x288 with 1 Axes>"
      ]
     },
     "metadata": {
      "needs_background": "light"
     },
     "output_type": "display_data"
    }
   ],
   "source": [
    "bin_age = [-1,10,20,30,40,50,60,70,80]\n",
    "labels_age = [0,1,2,3,4,5,6,7]\n",
    "train['Age_bucket']=pd.cut(train[\"Age\"],bins = bin_age,labels=labels_age)\n",
    "test['Age_bucket']=pd.cut(test[\"Age\"],bins = bin_age,labels=labels_age)\n",
    "#Here, I separated all the various age data into 8 bins of (0,1],(1,2],(2,3] and so on...\n",
    "sns.barplot(x='Age_bucket', y='Survived', data=train)"
   ]
  },
  {
   "cell_type": "code",
   "execution_count": 17,
   "id": "683a2821",
   "metadata": {
    "execution": {
     "iopub.execute_input": "2022-01-29T15:16:35.067763Z",
     "iopub.status.busy": "2022-01-29T15:16:35.067191Z",
     "iopub.status.idle": "2022-01-29T15:16:35.310652Z",
     "shell.execute_reply": "2022-01-29T15:16:35.310176Z",
     "shell.execute_reply.started": "2022-01-29T15:12:43.192394Z"
    },
    "papermill": {
     "duration": 0.27393,
     "end_time": "2022-01-29T15:16:35.310803",
     "exception": false,
     "start_time": "2022-01-29T15:16:35.036873",
     "status": "completed"
    },
    "tags": []
   },
   "outputs": [
    {
     "data": {
      "text/plain": [
       "<AxesSubplot:xlabel='Sex', ylabel='Survived'>"
      ]
     },
     "execution_count": 17,
     "metadata": {},
     "output_type": "execute_result"
    },
    {
     "data": {
      "image/png": "[encoded data removed]",
      "text/plain": [
       "<Figure size 432x288 with 1 Axes>"
      ]
     },
     "metadata": {
      "needs_background": "light"
     },
     "output_type": "display_data"
    }
   ],
   "source": [
    "sns.barplot(x=\"Sex\",y=\"Survived\",data=train)"
   ]
  },
  {
   "cell_type": "code",
   "execution_count": 18,
   "id": "c033d120",
   "metadata": {
    "execution": {
     "iopub.execute_input": "2022-01-29T15:16:35.376495Z",
     "iopub.status.busy": "2022-01-29T15:16:35.374511Z",
     "iopub.status.idle": "2022-01-29T15:16:35.650187Z",
     "shell.execute_reply": "2022-01-29T15:16:35.649696Z",
     "shell.execute_reply.started": "2022-01-29T15:12:48.686395Z"
    },
    "papermill": {
     "duration": 0.310506,
     "end_time": "2022-01-29T15:16:35.650323",
     "exception": false,
     "start_time": "2022-01-29T15:16:35.339817",
     "status": "completed"
    },
    "tags": []
   },
   "outputs": [
    {
     "data": {
      "text/plain": [
       "<AxesSubplot:xlabel='Pclass', ylabel='Survived'>"
      ]
     },
     "execution_count": 18,
     "metadata": {},
     "output_type": "execute_result"
    },
    {
     "data": {
      "image/png": "[encoded data removed]",
      "text/plain": [
       "<Figure size 432x288 with 1 Axes>"
      ]
     },
     "metadata": {
      "needs_background": "light"
     },
     "output_type": "display_data"
    }
   ],
   "source": [
    "sns.barplot(x=\"Pclass\",y=\"Survived\",data=train)"
   ]
  },
  {
   "cell_type": "code",
   "execution_count": 19,
   "id": "75f660c1",
   "metadata": {
    "execution": {
     "iopub.execute_input": "2022-01-29T15:16:35.712098Z",
     "iopub.status.busy": "2022-01-29T15:16:35.711484Z",
     "iopub.status.idle": "2022-01-29T15:16:36.079779Z",
     "shell.execute_reply": "2022-01-29T15:16:36.079275Z",
     "shell.execute_reply.started": "2022-01-29T15:12:51.557792Z"
    },
    "papermill": {
     "duration": 0.40023,
     "end_time": "2022-01-29T15:16:36.079918",
     "exception": false,
     "start_time": "2022-01-29T15:16:35.679688",
     "status": "completed"
    },
    "tags": []
   },
   "outputs": [
    {
     "data": {
      "text/plain": [
       "<AxesSubplot:xlabel='Parch', ylabel='Survived'>"
      ]
     },
     "execution_count": 19,
     "metadata": {},
     "output_type": "execute_result"
    },
    {
     "data": {
      "image/png": "[encoded data removed]",
      "text/plain": [
       "<Figure size 432x288 with 1 Axes>"
      ]
     },
     "metadata": {
      "needs_background": "light"
     },
     "output_type": "display_data"
    }
   ],
   "source": [
    "sns.barplot(x=\"Parch\",y=\"Survived\",data=train)"
   ]
  },
  {
   "cell_type": "code",
   "execution_count": 20,
   "id": "f6dc1074",
   "metadata": {
    "execution": {
     "iopub.execute_input": "2022-01-29T15:16:36.148472Z",
     "iopub.status.busy": "2022-01-29T15:16:36.147800Z",
     "iopub.status.idle": "2022-01-29T15:16:36.365102Z",
     "shell.execute_reply": "2022-01-29T15:16:36.364538Z",
     "shell.execute_reply.started": "2022-01-29T15:12:55.593953Z"
    },
    "papermill": {
     "duration": 0.254817,
     "end_time": "2022-01-29T15:16:36.365251",
     "exception": false,
     "start_time": "2022-01-29T15:16:36.110434",
     "status": "completed"
    },
    "tags": []
   },
   "outputs": [
    {
     "data": {
      "text/plain": [
       "<AxesSubplot:xlabel='Fare', ylabel='Survived'>"
      ]
     },
     "execution_count": 20,
     "metadata": {},
     "output_type": "execute_result"
    },
    {
     "data": {
      "image/png": "[encoded data removed]",
      "text/plain": [
       "<Figure size 432x288 with 1 Axes>"
      ]
     },
     "metadata": {
      "needs_background": "light"
     },
     "output_type": "display_data"
    }
   ],
   "source": [
    "sns.scatterplot(x=\"Fare\",y=\"Survived\",data=train)"
   ]
  },
  {
   "cell_type": "code",
   "execution_count": 21,
   "id": "5b1c1337",
   "metadata": {
    "execution": {
     "iopub.execute_input": "2022-01-29T15:16:36.437139Z",
     "iopub.status.busy": "2022-01-29T15:16:36.435429Z",
     "iopub.status.idle": "2022-01-29T15:16:36.840323Z",
     "shell.execute_reply": "2022-01-29T15:16:36.839784Z",
     "shell.execute_reply.started": "2022-01-29T15:12:58.036968Z"
    },
    "papermill": {
     "duration": 0.443041,
     "end_time": "2022-01-29T15:16:36.840475",
     "exception": false,
     "start_time": "2022-01-29T15:16:36.397434",
     "status": "completed"
    },
    "tags": []
   },
   "outputs": [
    {
     "data": {
      "text/plain": [
       "<AxesSubplot:xlabel='SibSp', ylabel='Survived'>"
      ]
     },
     "execution_count": 21,
     "metadata": {},
     "output_type": "execute_result"
    },
    {
     "data": {
      "image/png": "[encoded data removed]",
      "text/plain": [
       "<Figure size 432x288 with 1 Axes>"
      ]
     },
     "metadata": {
      "needs_background": "light"
     },
     "output_type": "display_data"
    }
   ],
   "source": [
    "sns.barplot(x=\"SibSp\",y=\"Survived\",data=train)"
   ]
  },
  {
   "cell_type": "code",
   "execution_count": 22,
   "id": "82c02270",
   "metadata": {
    "execution": {
     "iopub.execute_input": "2022-01-29T15:16:36.910330Z",
     "iopub.status.busy": "2022-01-29T15:16:36.909674Z",
     "iopub.status.idle": "2022-01-29T15:16:36.924356Z",
     "shell.execute_reply": "2022-01-29T15:16:36.924863Z",
     "shell.execute_reply.started": "2022-01-29T15:13:00.618784Z"
    },
    "papermill": {
     "duration": 0.050291,
     "end_time": "2022-01-29T15:16:36.925034",
     "exception": false,
     "start_time": "2022-01-29T15:16:36.874743",
     "status": "completed"
    },
    "tags": []
   },
   "outputs": [
    {
     "data": {
      "text/html": [
       "<div>\n",
       "<style scoped>\n",
       "    .dataframe tbody tr th:only-of-type {\n",
       "        vertical-align: middle;\n",
       "    }\n",
       "\n",
       "    .dataframe tbody tr th {\n",
       "        vertical-align: top;\n",
       "    }\n",
       "\n",
       "    .dataframe thead th {\n",
       "        text-align: right;\n",
       "    }\n",
       "</style>\n",
       "<table border=\"1\" class=\"dataframe\">\n",
       "  <thead>\n",
       "    <tr style=\"text-align: right;\">\n",
       "      <th></th>\n",
       "      <th>PassengerId</th>\n",
       "      <th>Survived</th>\n",
       "      <th>Pclass</th>\n",
       "      <th>Name</th>\n",
       "      <th>Sex</th>\n",
       "      <th>Age</th>\n",
       "      <th>SibSp</th>\n",
       "      <th>Parch</th>\n",
       "      <th>Ticket</th>\n",
       "      <th>Fare</th>\n",
       "      <th>Cabin</th>\n",
       "      <th>Embarked</th>\n",
       "      <th>Age_bucket</th>\n",
       "    </tr>\n",
       "  </thead>\n",
       "  <tbody>\n",
       "    <tr>\n",
       "      <th>0</th>\n",
       "      <td>1</td>\n",
       "      <td>0</td>\n",
       "      <td>3</td>\n",
       "      <td>Braund, Mr. Owen Harris</td>\n",
       "      <td>1</td>\n",
       "      <td>22.0</td>\n",
       "      <td>1</td>\n",
       "      <td>0</td>\n",
       "      <td>A/5 21171</td>\n",
       "      <td>7.2500</td>\n",
       "      <td>NaN</td>\n",
       "      <td>2</td>\n",
       "      <td>2</td>\n",
       "    </tr>\n",
       "    <tr>\n",
       "      <th>1</th>\n",
       "      <td>2</td>\n",
       "      <td>1</td>\n",
       "      <td>1</td>\n",
       "      <td>Cumings, Mrs. John Bradley (Florence Briggs Th...</td>\n",
       "      <td>0</td>\n",
       "      <td>38.0</td>\n",
       "      <td>1</td>\n",
       "      <td>0</td>\n",
       "      <td>PC 17599</td>\n",
       "      <td>71.2833</td>\n",
       "      <td>C85</td>\n",
       "      <td>0</td>\n",
       "      <td>3</td>\n",
       "    </tr>\n",
       "    <tr>\n",
       "      <th>2</th>\n",
       "      <td>3</td>\n",
       "      <td>1</td>\n",
       "      <td>3</td>\n",
       "      <td>Heikkinen, Miss. Laina</td>\n",
       "      <td>0</td>\n",
       "      <td>26.0</td>\n",
       "      <td>0</td>\n",
       "      <td>0</td>\n",
       "      <td>STON/O2. 3101282</td>\n",
       "      <td>7.9250</td>\n",
       "      <td>NaN</td>\n",
       "      <td>2</td>\n",
       "      <td>2</td>\n",
       "    </tr>\n",
       "    <tr>\n",
       "      <th>3</th>\n",
       "      <td>4</td>\n",
       "      <td>1</td>\n",
       "      <td>1</td>\n",
       "      <td>Futrelle, Mrs. Jacques Heath (Lily May Peel)</td>\n",
       "      <td>0</td>\n",
       "      <td>35.0</td>\n",
       "      <td>1</td>\n",
       "      <td>0</td>\n",
       "      <td>113803</td>\n",
       "      <td>53.1000</td>\n",
       "      <td>C123</td>\n",
       "      <td>2</td>\n",
       "      <td>3</td>\n",
       "    </tr>\n",
       "    <tr>\n",
       "      <th>4</th>\n",
       "      <td>5</td>\n",
       "      <td>0</td>\n",
       "      <td>3</td>\n",
       "      <td>Allen, Mr. William Henry</td>\n",
       "      <td>1</td>\n",
       "      <td>35.0</td>\n",
       "      <td>0</td>\n",
       "      <td>0</td>\n",
       "      <td>373450</td>\n",
       "      <td>8.0500</td>\n",
       "      <td>NaN</td>\n",
       "      <td>2</td>\n",
       "      <td>3</td>\n",
       "    </tr>\n",
       "  </tbody>\n",
       "</table>\n",
       "</div>"
      ],
      "text/plain": [
       "   PassengerId  Survived  Pclass  \\\n",
       "0            1         0       3   \n",
       "1            2         1       1   \n",
       "2            3         1       3   \n",
       "3            4         1       1   \n",
       "4            5         0       3   \n",
       "\n",
       "                                                Name  Sex   Age  SibSp  Parch  \\\n",
       "0                            Braund, Mr. Owen Harris    1  22.0      1      0   \n",
       "1  Cumings, Mrs. John Bradley (Florence Briggs Th...    0  38.0      1      0   \n",
       "2                             Heikkinen, Miss. Laina    0  26.0      0      0   \n",
       "3       Futrelle, Mrs. Jacques Heath (Lily May Peel)    0  35.0      1      0   \n",
       "4                           Allen, Mr. William Henry    1  35.0      0      0   \n",
       "\n",
       "             Ticket     Fare Cabin  Embarked Age_bucket  \n",
       "0         A/5 21171   7.2500   NaN         2          2  \n",
       "1          PC 17599  71.2833   C85         0          3  \n",
       "2  STON/O2. 3101282   7.9250   NaN         2          2  \n",
       "3            113803  53.1000  C123         2          3  \n",
       "4            373450   8.0500   NaN         2          3  "
      ]
     },
     "execution_count": 22,
     "metadata": {},
     "output_type": "execute_result"
    }
   ],
   "source": [
    "train.head()"
   ]
  },
  {
   "cell_type": "code",
   "execution_count": 23,
   "id": "e3f87398",
   "metadata": {
    "execution": {
     "iopub.execute_input": "2022-01-29T15:16:36.998609Z",
     "iopub.status.busy": "2022-01-29T15:16:36.997634Z",
     "iopub.status.idle": "2022-01-29T15:16:36.999977Z",
     "shell.execute_reply": "2022-01-29T15:16:37.000508Z",
     "shell.execute_reply.started": "2022-01-29T15:13:03.004965Z"
    },
    "papermill": {
     "duration": 0.041834,
     "end_time": "2022-01-29T15:16:37.000678",
     "exception": false,
     "start_time": "2022-01-29T15:16:36.958844",
     "status": "completed"
    },
    "tags": []
   },
   "outputs": [],
   "source": [
    "passenger_test = test[\"PassengerId\"]"
   ]
  },
  {
   "cell_type": "code",
   "execution_count": 24,
   "id": "e024f8f5",
   "metadata": {
    "execution": {
     "iopub.execute_input": "2022-01-29T15:16:37.073841Z",
     "iopub.status.busy": "2022-01-29T15:16:37.072872Z",
     "iopub.status.idle": "2022-01-29T15:16:37.079882Z",
     "shell.execute_reply": "2022-01-29T15:16:37.080391Z",
     "shell.execute_reply.started": "2022-01-29T15:13:05.484888Z"
    },
    "papermill": {
     "duration": 0.045484,
     "end_time": "2022-01-29T15:16:37.080570",
     "exception": false,
     "start_time": "2022-01-29T15:16:37.035086",
     "status": "completed"
    },
    "tags": []
   },
   "outputs": [],
   "source": [
    "train.drop(['Name','PassengerId','Age','Ticket','Cabin'],axis=1,inplace=True)\n",
    "test.drop(['Name','PassengerId','Age','Ticket','Cabin'],axis=1,inplace=True)\n",
    "\n",
    "# axis = 0 or ‘index’, 1 or ‘columns’"
   ]
  },
  {
   "cell_type": "code",
   "execution_count": 25,
   "id": "04ac8265",
   "metadata": {
    "execution": {
     "iopub.execute_input": "2022-01-29T15:16:37.150810Z",
     "iopub.status.busy": "2022-01-29T15:16:37.149869Z",
     "iopub.status.idle": "2022-01-29T15:16:37.155082Z",
     "shell.execute_reply": "2022-01-29T15:16:37.155541Z",
     "shell.execute_reply.started": "2022-01-29T15:13:09.882056Z"
    },
    "papermill": {
     "duration": 0.041334,
     "end_time": "2022-01-29T15:16:37.155718",
     "exception": false,
     "start_time": "2022-01-29T15:16:37.114384",
     "status": "completed"
    },
    "tags": []
   },
   "outputs": [],
   "source": [
    "X=train.drop([\"Survived\"],axis=1)\n",
    "y=train[\"Survived\"]"
   ]
  },
  {
   "cell_type": "code",
   "execution_count": 26,
   "id": "bbfcbe68",
   "metadata": {
    "execution": {
     "iopub.execute_input": "2022-01-29T15:16:37.229467Z",
     "iopub.status.busy": "2022-01-29T15:16:37.228756Z",
     "iopub.status.idle": "2022-01-29T15:16:37.289602Z",
     "shell.execute_reply": "2022-01-29T15:16:37.290099Z",
     "shell.execute_reply.started": "2022-01-29T15:13:12.602394Z"
    },
    "papermill": {
     "duration": 0.098896,
     "end_time": "2022-01-29T15:16:37.290290",
     "exception": false,
     "start_time": "2022-01-29T15:16:37.191394",
     "status": "completed"
    },
    "tags": []
   },
   "outputs": [],
   "source": [
    "from sklearn.model_selection import train_test_split\n",
    "\n",
    "X_train, X_test, y_train, y_test = train_test_split(X, y, test_size = 0.2, random_state = 0)"
   ]
  },
  {
   "cell_type": "code",
   "execution_count": 27,
   "id": "c282bc6b",
   "metadata": {
    "execution": {
     "iopub.execute_input": "2022-01-29T15:16:37.360231Z",
     "iopub.status.busy": "2022-01-29T15:16:37.359280Z",
     "iopub.status.idle": "2022-01-29T15:16:37.365588Z",
     "shell.execute_reply": "2022-01-29T15:16:37.364889Z",
     "shell.execute_reply.started": "2022-01-29T15:13:14.562292Z"
    },
    "papermill": {
     "duration": 0.041866,
     "end_time": "2022-01-29T15:16:37.365726",
     "exception": false,
     "start_time": "2022-01-29T15:16:37.323860",
     "status": "completed"
    },
    "tags": []
   },
   "outputs": [
    {
     "data": {
      "text/plain": [
       "(891, 7)"
      ]
     },
     "execution_count": 27,
     "metadata": {},
     "output_type": "execute_result"
    }
   ],
   "source": [
    "X.shape"
   ]
  },
  {
   "cell_type": "code",
   "execution_count": 28,
   "id": "f04d2f29",
   "metadata": {
    "execution": {
     "iopub.execute_input": "2022-01-29T15:16:37.435760Z",
     "iopub.status.busy": "2022-01-29T15:16:37.435150Z",
     "iopub.status.idle": "2022-01-29T15:16:37.437486Z",
     "shell.execute_reply": "2022-01-29T15:16:37.437911Z",
     "shell.execute_reply.started": "2022-01-29T15:13:16.337860Z"
    },
    "papermill": {
     "duration": 0.039857,
     "end_time": "2022-01-29T15:16:37.438111",
     "exception": false,
     "start_time": "2022-01-29T15:16:37.398254",
     "status": "completed"
    },
    "tags": []
   },
   "outputs": [
    {
     "data": {
      "text/plain": [
       "(891,)"
      ]
     },
     "execution_count": 28,
     "metadata": {},
     "output_type": "execute_result"
    }
   ],
   "source": [
    "y.shape"
   ]
  },
  {
   "cell_type": "code",
   "execution_count": 29,
   "id": "cb8c09b9",
   "metadata": {
    "execution": {
     "iopub.execute_input": "2022-01-29T15:16:37.508776Z",
     "iopub.status.busy": "2022-01-29T15:16:37.508104Z",
     "iopub.status.idle": "2022-01-29T15:16:37.514670Z",
     "shell.execute_reply": "2022-01-29T15:16:37.515116Z",
     "shell.execute_reply.started": "2022-01-29T15:13:18.183811Z"
    },
    "papermill": {
     "duration": 0.043933,
     "end_time": "2022-01-29T15:16:37.515289",
     "exception": false,
     "start_time": "2022-01-29T15:16:37.471356",
     "status": "completed"
    },
    "tags": []
   },
   "outputs": [
    {
     "data": {
      "text/plain": [
       "Pclass        0\n",
       "Sex           0\n",
       "SibSp         0\n",
       "Parch         0\n",
       "Fare          0\n",
       "Embarked      0\n",
       "Age_bucket    0\n",
       "dtype: int64"
      ]
     },
     "execution_count": 29,
     "metadata": {},
     "output_type": "execute_result"
    }
   ],
   "source": [
    "X.isnull().sum()"
   ]
  },
  {
   "cell_type": "code",
   "execution_count": 30,
   "id": "d023c2df",
   "metadata": {
    "execution": {
     "iopub.execute_input": "2022-01-29T15:16:37.588679Z",
     "iopub.status.busy": "2022-01-29T15:16:37.586026Z",
     "iopub.status.idle": "2022-01-29T15:16:37.601484Z",
     "shell.execute_reply": "2022-01-29T15:16:37.601933Z",
     "shell.execute_reply.started": "2022-01-29T15:13:20.226010Z"
    },
    "papermill": {
     "duration": 0.053453,
     "end_time": "2022-01-29T15:16:37.602135",
     "exception": false,
     "start_time": "2022-01-29T15:16:37.548682",
     "status": "completed"
    },
    "tags": []
   },
   "outputs": [
    {
     "name": "stdout",
     "output_type": "stream",
     "text": [
      "78.77094972067039\n"
     ]
    }
   ],
   "source": [
    "from sklearn.naive_bayes import GaussianNB\n",
    "from sklearn.metrics import accuracy_score\n",
    "#Normal distribution, also known as the Gaussian distribution, is a probability distribution that is symmetric about the mean, showing that data near the mean are more frequent in occurrence than data far from the mean.\n",
    "#In graph form, normal distribution will appear as a bell curve.\n",
    "gnb = GaussianNB()\n",
    "gnb.fit(X_train,y_train)\n",
    "prediction = gnb.predict(X_test)\n",
    "print(accuracy_score(y_test,prediction)*100)\n"
   ]
  },
  {
   "cell_type": "code",
   "execution_count": 31,
   "id": "b732f784",
   "metadata": {
    "execution": {
     "iopub.execute_input": "2022-01-29T15:16:37.673757Z",
     "iopub.status.busy": "2022-01-29T15:16:37.671068Z",
     "iopub.status.idle": "2022-01-29T15:16:37.793386Z",
     "shell.execute_reply": "2022-01-29T15:16:37.792772Z",
     "shell.execute_reply.started": "2022-01-29T15:13:22.520506Z"
    },
    "papermill": {
     "duration": 0.158291,
     "end_time": "2022-01-29T15:16:37.793545",
     "exception": false,
     "start_time": "2022-01-29T15:16:37.635254",
     "status": "completed"
    },
    "tags": []
   },
   "outputs": [
    {
     "name": "stdout",
     "output_type": "stream",
     "text": [
      "80.44692737430168\n"
     ]
    }
   ],
   "source": [
    "from sklearn.linear_model import LogisticRegression\n",
    "from sklearn.metrics import accuracy_score\n",
    "lr = LogisticRegression()\n",
    "lr.fit(X_train,y_train)\n",
    "prediction = lr.predict(X_test)\n",
    "print(accuracy_score(y_test,prediction)*100)"
   ]
  },
  {
   "cell_type": "code",
   "execution_count": 32,
   "id": "6b314121",
   "metadata": {
    "execution": {
     "iopub.execute_input": "2022-01-29T15:16:37.867851Z",
     "iopub.status.busy": "2022-01-29T15:16:37.867188Z",
     "iopub.status.idle": "2022-01-29T15:16:37.956101Z",
     "shell.execute_reply": "2022-01-29T15:16:37.955560Z",
     "shell.execute_reply.started": "2022-01-29T15:13:26.810350Z"
    },
    "papermill": {
     "duration": 0.127754,
     "end_time": "2022-01-29T15:16:37.956246",
     "exception": false,
     "start_time": "2022-01-29T15:16:37.828492",
     "status": "completed"
    },
    "tags": []
   },
   "outputs": [
    {
     "name": "stdout",
     "output_type": "stream",
     "text": [
      "73.74301675977654\n"
     ]
    }
   ],
   "source": [
    "from sklearn.neighbors import KNeighborsClassifier\n",
    "knn= KNeighborsClassifier()\n",
    "knn.fit(X_train,y_train)\n",
    "prediction =knn.predict(X_test)\n",
    "print(accuracy_score(y_test,prediction)*100)"
   ]
  },
  {
   "cell_type": "code",
   "execution_count": 33,
   "id": "836d4e36",
   "metadata": {
    "execution": {
     "iopub.execute_input": "2022-01-29T15:16:38.028868Z",
     "iopub.status.busy": "2022-01-29T15:16:38.028272Z",
     "iopub.status.idle": "2022-01-29T15:16:38.388708Z",
     "shell.execute_reply": "2022-01-29T15:16:38.389243Z",
     "shell.execute_reply.started": "2022-01-29T15:13:29.568585Z"
    },
    "papermill": {
     "duration": 0.398604,
     "end_time": "2022-01-29T15:16:38.389427",
     "exception": false,
     "start_time": "2022-01-29T15:16:37.990823",
     "status": "completed"
    },
    "tags": []
   },
   "outputs": [
    {
     "name": "stdout",
     "output_type": "stream",
     "text": [
      "82.68156424581005\n"
     ]
    }
   ],
   "source": [
    "from sklearn.ensemble import RandomForestClassifier\n",
    "from sklearn.metrics import accuracy_score\n",
    "rf = RandomForestClassifier()\n",
    "rf.fit(X_train,y_train)\n",
    "prediction = rf.predict(X_test)\n",
    "print(accuracy_score(y_test,prediction)*100)"
   ]
  },
  {
   "cell_type": "code",
   "execution_count": 34,
   "id": "2b15e6d1",
   "metadata": {
    "execution": {
     "iopub.execute_input": "2022-01-29T15:16:38.462637Z",
     "iopub.status.busy": "2022-01-29T15:16:38.461915Z",
     "iopub.status.idle": "2022-01-29T15:16:38.483463Z",
     "shell.execute_reply": "2022-01-29T15:16:38.482876Z",
     "shell.execute_reply.started": "2022-01-29T15:13:40.875194Z"
    },
    "papermill": {
     "duration": 0.059502,
     "end_time": "2022-01-29T15:16:38.483626",
     "exception": false,
     "start_time": "2022-01-29T15:16:38.424124",
     "status": "completed"
    },
    "tags": []
   },
   "outputs": [],
   "source": [
    "prediction_f = rf.predict(test)"
   ]
  },
  {
   "cell_type": "code",
   "execution_count": 35,
   "id": "e13ffa1d",
   "metadata": {
    "execution": {
     "iopub.execute_input": "2022-01-29T15:16:38.563452Z",
     "iopub.status.busy": "2022-01-29T15:16:38.562668Z",
     "iopub.status.idle": "2022-01-29T15:16:38.566636Z",
     "shell.execute_reply": "2022-01-29T15:16:38.566067Z",
     "shell.execute_reply.started": "2022-01-29T15:13:44.705240Z"
    },
    "papermill": {
     "duration": 0.048859,
     "end_time": "2022-01-29T15:16:38.566765",
     "exception": false,
     "start_time": "2022-01-29T15:16:38.517906",
     "status": "completed"
    },
    "tags": []
   },
   "outputs": [
    {
     "data": {
      "text/html": [
       "<div>\n",
       "<style scoped>\n",
       "    .dataframe tbody tr th:only-of-type {\n",
       "        vertical-align: middle;\n",
       "    }\n",
       "\n",
       "    .dataframe tbody tr th {\n",
       "        vertical-align: top;\n",
       "    }\n",
       "\n",
       "    .dataframe thead th {\n",
       "        text-align: right;\n",
       "    }\n",
       "</style>\n",
       "<table border=\"1\" class=\"dataframe\">\n",
       "  <thead>\n",
       "    <tr style=\"text-align: right;\">\n",
       "      <th></th>\n",
       "      <th>Survived</th>\n",
       "    </tr>\n",
       "    <tr>\n",
       "      <th>PassengerId</th>\n",
       "      <th></th>\n",
       "    </tr>\n",
       "  </thead>\n",
       "  <tbody>\n",
       "    <tr>\n",
       "      <th>892</th>\n",
       "      <td>0</td>\n",
       "    </tr>\n",
       "    <tr>\n",
       "      <th>893</th>\n",
       "      <td>0</td>\n",
       "    </tr>\n",
       "    <tr>\n",
       "      <th>894</th>\n",
       "      <td>0</td>\n",
       "    </tr>\n",
       "    <tr>\n",
       "      <th>895</th>\n",
       "      <td>0</td>\n",
       "    </tr>\n",
       "    <tr>\n",
       "      <th>896</th>\n",
       "      <td>0</td>\n",
       "    </tr>\n",
       "    <tr>\n",
       "      <th>...</th>\n",
       "      <td>...</td>\n",
       "    </tr>\n",
       "    <tr>\n",
       "      <th>1305</th>\n",
       "      <td>0</td>\n",
       "    </tr>\n",
       "    <tr>\n",
       "      <th>1306</th>\n",
       "      <td>1</td>\n",
       "    </tr>\n",
       "    <tr>\n",
       "      <th>1307</th>\n",
       "      <td>0</td>\n",
       "    </tr>\n",
       "    <tr>\n",
       "      <th>1308</th>\n",
       "      <td>0</td>\n",
       "    </tr>\n",
       "    <tr>\n",
       "      <th>1309</th>\n",
       "      <td>0</td>\n",
       "    </tr>\n",
       "  </tbody>\n",
       "</table>\n",
       "<p>418 rows × 1 columns</p>\n",
       "</div>"
      ],
      "text/plain": [
       "             Survived\n",
       "PassengerId          \n",
       "892                 0\n",
       "893                 0\n",
       "894                 0\n",
       "895                 0\n",
       "896                 0\n",
       "...               ...\n",
       "1305                0\n",
       "1306                1\n",
       "1307                0\n",
       "1308                0\n",
       "1309                0\n",
       "\n",
       "[418 rows x 1 columns]"
      ]
     },
     "execution_count": 35,
     "metadata": {},
     "output_type": "execute_result"
    }
   ],
   "source": [
    "result_df = pd.DataFrame({\"Survived\":prediction_f,\"PassengerId\":passenger_test})\n",
    "result_df.set_index('PassengerId')"
   ]
  },
  {
   "cell_type": "code",
   "execution_count": 36,
   "id": "1de45799",
   "metadata": {
    "execution": {
     "iopub.execute_input": "2022-01-29T15:16:38.667520Z",
     "iopub.status.busy": "2022-01-29T15:16:38.650514Z",
     "iopub.status.idle": "2022-01-29T15:16:38.808685Z",
     "shell.execute_reply": "2022-01-29T15:16:38.807804Z",
     "shell.execute_reply.started": "2022-01-29T15:13:47.608558Z"
    },
    "papermill": {
     "duration": 0.207538,
     "end_time": "2022-01-29T15:16:38.808829",
     "exception": false,
     "start_time": "2022-01-29T15:16:38.601291",
     "status": "completed"
    },
    "tags": []
   },
   "outputs": [
    {
     "data": {
      "text/plain": [
       "<AxesSubplot:>"
      ]
     },
     "execution_count": 36,
     "metadata": {},
     "output_type": "execute_result"
    },
    {
     "data": {
      "image/png": "[encoded data removed]",
      "text/plain": [
       "<Figure size 432x288 with 1 Axes>"
      ]
     },
     "metadata": {
      "needs_background": "light"
     },
     "output_type": "display_data"
    }
   ],
   "source": [
    "result_df[\"Survived\"].value_counts().plot(kind ='bar')"
   ]
  },
  {
   "cell_type": "code",
   "execution_count": 37,
   "id": "7ddfd919",
   "metadata": {
    "execution": {
     "iopub.execute_input": "2022-01-29T15:16:38.883068Z",
     "iopub.status.busy": "2022-01-29T15:16:38.882414Z",
     "iopub.status.idle": "2022-01-29T15:16:38.889820Z",
     "shell.execute_reply": "2022-01-29T15:16:38.890490Z",
     "shell.execute_reply.started": "2022-01-29T15:13:50.353906Z"
    },
    "papermill": {
     "duration": 0.046157,
     "end_time": "2022-01-29T15:16:38.890710",
     "exception": false,
     "start_time": "2022-01-29T15:16:38.844553",
     "status": "completed"
    },
    "tags": []
   },
   "outputs": [
    {
     "name": "stdout",
     "output_type": "stream",
     "text": [
      "Submission Successful!\n"
     ]
    }
   ],
   "source": [
    "result_df.to_csv(\"my_submissions\",index=False)\n",
    "print(\"Submission Successful!\")"
   ]
  }
 ],
 "metadata": {
  "kernelspec": {
   "display_name": "Python 3",
   "language": "python",
   "name": "python3"
  },
  "language_info": {
   "codemirror_mode": {
    "name": "ipython",
    "version": 3
   },
   "file_extension": ".py",
   "mimetype": "text/x-python",
   "name": "python",
   "nbconvert_exporter": "python",
   "pygments_lexer": "ipython3",
   "version": "3.7.12"
  },
  "papermill": {
   "default_parameters": {},
   "duration": 16.512805,
   "end_time": "2022-01-29T15:16:39.639006",
   "environment_variables": {},
   "exception": null,
   "input_path": "__notebook__.ipynb",
   "output_path": "__notebook__.ipynb",
   "parameters": {},
   "start_time": "2022-01-29T15:16:23.126201",
   "version": "2.3.3"
  }
 },
 "nbformat": 4,
 "nbformat_minor": 5
}
