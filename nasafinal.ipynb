{
 "cells": [
  {
   "cell_type": "code",
   "execution_count": 1,
   "id": "c592d292",
   "metadata": {
    "_cell_guid": "b1076dfc-b9ad-4769-8c92-a6c4dae69d19",
    "_uuid": "8f2839f25d086af736a60e9eeb907d3b93b6e0e5",
    "execution": {
     "iopub.execute_input": "2022-08-28T14:57:54.930343Z",
     "iopub.status.busy": "2022-08-28T14:57:54.929992Z",
     "iopub.status.idle": "2022-08-28T14:57:54.948305Z",
     "shell.execute_reply": "2022-08-28T14:57:54.947057Z"
    },
    "papermill": {
     "duration": 0.029852,
     "end_time": "2022-08-28T14:57:54.950947",
     "exception": false,
     "start_time": "2022-08-28T14:57:54.921095",
     "status": "completed"
    },
    "tags": []
   },
   "outputs": [
    {
     "name": "stdout",
     "output_type": "stream",
     "text": [
      "/kaggle/input/nasa-nearest-earth-objects/neo_v2.csv\n",
      "/kaggle/input/nasa-nearest-earth-objects/neo.csv\n"
     ]
    }
   ],
   "source": [
    "# This Python 3 environment comes with many helpful analytics libraries installed\n",
    "# It is defined by the kaggle/python Docker image: https://github.com/kaggle/docker-python\n",
    "# For example, here's several helpful packages to load\n",
    "\n",
    "import numpy as np # linear algebra\n",
    "import pandas as pd # data processing, CSV file I/O (e.g. pd.read_csv)\n",
    "\n",
    "# Input data files are available in the read-only \"../input/\" directory\n",
    "# For example, running this (by clicking run or pressing Shift+Enter) will list all files under the input directory\n",
    "\n",
    "import os\n",
    "for dirname, _, filenames in os.walk('/kaggle/input'):\n",
    "    for filename in filenames:\n",
    "        print(os.path.join(dirname, filename))\n",
    "\n",
    "# You can write up to 20GB to the current directory (/kaggle/working/) that gets preserved as output when you create a version using \"Save & Run All\" \n",
    "# You can also write temporary files to /kaggle/temp/, but they won't be saved outside of the current session"
   ]
  },
  {
   "cell_type": "code",
   "execution_count": 2,
   "id": "1f1bde18",
   "metadata": {
    "execution": {
     "iopub.execute_input": "2022-08-28T14:57:54.966445Z",
     "iopub.status.busy": "2022-08-28T14:57:54.965927Z",
     "iopub.status.idle": "2022-08-28T14:57:55.934496Z",
     "shell.execute_reply": "2022-08-28T14:57:55.933805Z"
    },
    "papermill": {
     "duration": 0.97848,
     "end_time": "2022-08-28T14:57:55.936584",
     "exception": false,
     "start_time": "2022-08-28T14:57:54.958104",
     "status": "completed"
    },
    "tags": []
   },
   "outputs": [],
   "source": [
    "#Importing important libraries\n",
    "import pandas as pd\n",
    "import numpy as np\n",
    "import seaborn as sns\n",
    "from matplotlib import pyplot as plt\n",
    "import warnings\n",
    "warnings.filterwarnings('ignore')\n",
    "import scipy.stats as stats"
   ]
  },
  {
   "cell_type": "code",
   "execution_count": 3,
   "id": "72c278ae",
   "metadata": {
    "execution": {
     "iopub.execute_input": "2022-08-28T14:57:55.951953Z",
     "iopub.status.busy": "2022-08-28T14:57:55.951161Z",
     "iopub.status.idle": "2022-08-28T14:57:56.180415Z",
     "shell.execute_reply": "2022-08-28T14:57:56.179189Z"
    },
    "papermill": {
     "duration": 0.238802,
     "end_time": "2022-08-28T14:57:56.182413",
     "exception": false,
     "start_time": "2022-08-28T14:57:55.943611",
     "status": "completed"
    },
    "tags": []
   },
   "outputs": [],
   "source": [
    "df=pd.read_csv('/kaggle/input/nasa-nearest-earth-objects/neo_v2.csv')"
   ]
  },
  {
   "cell_type": "code",
   "execution_count": 4,
   "id": "7e15597e",
   "metadata": {
    "execution": {
     "iopub.execute_input": "2022-08-28T14:57:56.196983Z",
     "iopub.status.busy": "2022-08-28T14:57:56.196678Z",
     "iopub.status.idle": "2022-08-28T14:57:56.218760Z",
     "shell.execute_reply": "2022-08-28T14:57:56.217723Z"
    },
    "papermill": {
     "duration": 0.031997,
     "end_time": "2022-08-28T14:57:56.221338",
     "exception": false,
     "start_time": "2022-08-28T14:57:56.189341",
     "status": "completed"
    },
    "tags": []
   },
   "outputs": [
    {
     "data": {
      "text/html": [
       "<div>\n",
       "<style scoped>\n",
       "    .dataframe tbody tr th:only-of-type {\n",
       "        vertical-align: middle;\n",
       "    }\n",
       "\n",
       "    .dataframe tbody tr th {\n",
       "        vertical-align: top;\n",
       "    }\n",
       "\n",
       "    .dataframe thead th {\n",
       "        text-align: right;\n",
       "    }\n",
       "</style>\n",
       "<table border=\"1\" class=\"dataframe\">\n",
       "  <thead>\n",
       "    <tr style=\"text-align: right;\">\n",
       "      <th></th>\n",
       "      <th>id</th>\n",
       "      <th>name</th>\n",
       "      <th>est_diameter_min</th>\n",
       "      <th>est_diameter_max</th>\n",
       "      <th>relative_velocity</th>\n",
       "      <th>miss_distance</th>\n",
       "      <th>orbiting_body</th>\n",
       "      <th>sentry_object</th>\n",
       "      <th>absolute_magnitude</th>\n",
       "      <th>hazardous</th>\n",
       "    </tr>\n",
       "  </thead>\n",
       "  <tbody>\n",
       "    <tr>\n",
       "      <th>0</th>\n",
       "      <td>2162635</td>\n",
       "      <td>162635 (2000 SS164)</td>\n",
       "      <td>1.198271</td>\n",
       "      <td>2.679415</td>\n",
       "      <td>13569.249224</td>\n",
       "      <td>5.483974e+07</td>\n",
       "      <td>Earth</td>\n",
       "      <td>False</td>\n",
       "      <td>16.73</td>\n",
       "      <td>False</td>\n",
       "    </tr>\n",
       "    <tr>\n",
       "      <th>1</th>\n",
       "      <td>2277475</td>\n",
       "      <td>277475 (2005 WK4)</td>\n",
       "      <td>0.265800</td>\n",
       "      <td>0.594347</td>\n",
       "      <td>73588.726663</td>\n",
       "      <td>6.143813e+07</td>\n",
       "      <td>Earth</td>\n",
       "      <td>False</td>\n",
       "      <td>20.00</td>\n",
       "      <td>True</td>\n",
       "    </tr>\n",
       "    <tr>\n",
       "      <th>2</th>\n",
       "      <td>2512244</td>\n",
       "      <td>512244 (2015 YE18)</td>\n",
       "      <td>0.722030</td>\n",
       "      <td>1.614507</td>\n",
       "      <td>114258.692129</td>\n",
       "      <td>4.979872e+07</td>\n",
       "      <td>Earth</td>\n",
       "      <td>False</td>\n",
       "      <td>17.83</td>\n",
       "      <td>False</td>\n",
       "    </tr>\n",
       "    <tr>\n",
       "      <th>3</th>\n",
       "      <td>3596030</td>\n",
       "      <td>(2012 BV13)</td>\n",
       "      <td>0.096506</td>\n",
       "      <td>0.215794</td>\n",
       "      <td>24764.303138</td>\n",
       "      <td>2.543497e+07</td>\n",
       "      <td>Earth</td>\n",
       "      <td>False</td>\n",
       "      <td>22.20</td>\n",
       "      <td>False</td>\n",
       "    </tr>\n",
       "    <tr>\n",
       "      <th>4</th>\n",
       "      <td>3667127</td>\n",
       "      <td>(2014 GE35)</td>\n",
       "      <td>0.255009</td>\n",
       "      <td>0.570217</td>\n",
       "      <td>42737.733765</td>\n",
       "      <td>4.627557e+07</td>\n",
       "      <td>Earth</td>\n",
       "      <td>False</td>\n",
       "      <td>20.09</td>\n",
       "      <td>True</td>\n",
       "    </tr>\n",
       "  </tbody>\n",
       "</table>\n",
       "</div>"
      ],
      "text/plain": [
       "        id                 name  est_diameter_min  est_diameter_max  \\\n",
       "0  2162635  162635 (2000 SS164)          1.198271          2.679415   \n",
       "1  2277475    277475 (2005 WK4)          0.265800          0.594347   \n",
       "2  2512244   512244 (2015 YE18)          0.722030          1.614507   \n",
       "3  3596030          (2012 BV13)          0.096506          0.215794   \n",
       "4  3667127          (2014 GE35)          0.255009          0.570217   \n",
       "\n",
       "   relative_velocity  miss_distance orbiting_body  sentry_object  \\\n",
       "0       13569.249224   5.483974e+07         Earth          False   \n",
       "1       73588.726663   6.143813e+07         Earth          False   \n",
       "2      114258.692129   4.979872e+07         Earth          False   \n",
       "3       24764.303138   2.543497e+07         Earth          False   \n",
       "4       42737.733765   4.627557e+07         Earth          False   \n",
       "\n",
       "   absolute_magnitude  hazardous  \n",
       "0               16.73      False  \n",
       "1               20.00       True  \n",
       "2               17.83      False  \n",
       "3               22.20      False  \n",
       "4               20.09       True  "
      ]
     },
     "execution_count": 4,
     "metadata": {},
     "output_type": "execute_result"
    }
   ],
   "source": [
    "# First Five rows of the data\n",
    "df.head()"
   ]
  },
  {
   "cell_type": "code",
   "execution_count": 5,
   "id": "4b50b138",
   "metadata": {
    "execution": {
     "iopub.execute_input": "2022-08-28T14:57:56.237031Z",
     "iopub.status.busy": "2022-08-28T14:57:56.236698Z",
     "iopub.status.idle": "2022-08-28T14:57:56.266329Z",
     "shell.execute_reply": "2022-08-28T14:57:56.265313Z"
    },
    "papermill": {
     "duration": 0.039529,
     "end_time": "2022-08-28T14:57:56.268214",
     "exception": false,
     "start_time": "2022-08-28T14:57:56.228685",
     "status": "completed"
    },
    "tags": []
   },
   "outputs": [
    {
     "name": "stdout",
     "output_type": "stream",
     "text": [
      "<class 'pandas.core.frame.DataFrame'>\n",
      "RangeIndex: 90836 entries, 0 to 90835\n",
      "Data columns (total 10 columns):\n",
      " #   Column              Non-Null Count  Dtype  \n",
      "---  ------              --------------  -----  \n",
      " 0   id                  90836 non-null  int64  \n",
      " 1   name                90836 non-null  object \n",
      " 2   est_diameter_min    90836 non-null  float64\n",
      " 3   est_diameter_max    90836 non-null  float64\n",
      " 4   relative_velocity   90836 non-null  float64\n",
      " 5   miss_distance       90836 non-null  float64\n",
      " 6   orbiting_body       90836 non-null  object \n",
      " 7   sentry_object       90836 non-null  bool   \n",
      " 8   absolute_magnitude  90836 non-null  float64\n",
      " 9   hazardous           90836 non-null  bool   \n",
      "dtypes: bool(2), float64(5), int64(1), object(2)\n",
      "memory usage: 5.7+ MB\n"
     ]
    }
   ],
   "source": [
    "# Info of the data\n",
    "df.info()"
   ]
  },
  {
   "cell_type": "code",
   "execution_count": 6,
   "id": "3b8c6102",
   "metadata": {
    "execution": {
     "iopub.execute_input": "2022-08-28T14:57:56.283902Z",
     "iopub.status.busy": "2022-08-28T14:57:56.283580Z",
     "iopub.status.idle": "2022-08-28T14:57:56.328327Z",
     "shell.execute_reply": "2022-08-28T14:57:56.327774Z"
    },
    "papermill": {
     "duration": 0.05456,
     "end_time": "2022-08-28T14:57:56.329947",
     "exception": false,
     "start_time": "2022-08-28T14:57:56.275387",
     "status": "completed"
    },
    "tags": []
   },
   "outputs": [
    {
     "data": {
      "text/html": [
       "<div>\n",
       "<style scoped>\n",
       "    .dataframe tbody tr th:only-of-type {\n",
       "        vertical-align: middle;\n",
       "    }\n",
       "\n",
       "    .dataframe tbody tr th {\n",
       "        vertical-align: top;\n",
       "    }\n",
       "\n",
       "    .dataframe thead th {\n",
       "        text-align: right;\n",
       "    }\n",
       "</style>\n",
       "<table border=\"1\" class=\"dataframe\">\n",
       "  <thead>\n",
       "    <tr style=\"text-align: right;\">\n",
       "      <th></th>\n",
       "      <th>id</th>\n",
       "      <th>est_diameter_min</th>\n",
       "      <th>est_diameter_max</th>\n",
       "      <th>relative_velocity</th>\n",
       "      <th>miss_distance</th>\n",
       "      <th>absolute_magnitude</th>\n",
       "    </tr>\n",
       "  </thead>\n",
       "  <tbody>\n",
       "    <tr>\n",
       "      <th>count</th>\n",
       "      <td>9.083600e+04</td>\n",
       "      <td>90836.000000</td>\n",
       "      <td>90836.000000</td>\n",
       "      <td>90836.000000</td>\n",
       "      <td>9.083600e+04</td>\n",
       "      <td>90836.000000</td>\n",
       "    </tr>\n",
       "    <tr>\n",
       "      <th>mean</th>\n",
       "      <td>1.438288e+07</td>\n",
       "      <td>0.127432</td>\n",
       "      <td>0.284947</td>\n",
       "      <td>48066.918918</td>\n",
       "      <td>3.706655e+07</td>\n",
       "      <td>23.527103</td>\n",
       "    </tr>\n",
       "    <tr>\n",
       "      <th>std</th>\n",
       "      <td>2.087202e+07</td>\n",
       "      <td>0.298511</td>\n",
       "      <td>0.667491</td>\n",
       "      <td>25293.296961</td>\n",
       "      <td>2.235204e+07</td>\n",
       "      <td>2.894086</td>\n",
       "    </tr>\n",
       "    <tr>\n",
       "      <th>min</th>\n",
       "      <td>2.000433e+06</td>\n",
       "      <td>0.000609</td>\n",
       "      <td>0.001362</td>\n",
       "      <td>203.346433</td>\n",
       "      <td>6.745533e+03</td>\n",
       "      <td>9.230000</td>\n",
       "    </tr>\n",
       "    <tr>\n",
       "      <th>25%</th>\n",
       "      <td>3.448110e+06</td>\n",
       "      <td>0.019256</td>\n",
       "      <td>0.043057</td>\n",
       "      <td>28619.020645</td>\n",
       "      <td>1.721082e+07</td>\n",
       "      <td>21.340000</td>\n",
       "    </tr>\n",
       "    <tr>\n",
       "      <th>50%</th>\n",
       "      <td>3.748362e+06</td>\n",
       "      <td>0.048368</td>\n",
       "      <td>0.108153</td>\n",
       "      <td>44190.117890</td>\n",
       "      <td>3.784658e+07</td>\n",
       "      <td>23.700000</td>\n",
       "    </tr>\n",
       "    <tr>\n",
       "      <th>75%</th>\n",
       "      <td>3.884023e+06</td>\n",
       "      <td>0.143402</td>\n",
       "      <td>0.320656</td>\n",
       "      <td>62923.604633</td>\n",
       "      <td>5.654900e+07</td>\n",
       "      <td>25.700000</td>\n",
       "    </tr>\n",
       "    <tr>\n",
       "      <th>max</th>\n",
       "      <td>5.427591e+07</td>\n",
       "      <td>37.892650</td>\n",
       "      <td>84.730541</td>\n",
       "      <td>236990.128088</td>\n",
       "      <td>7.479865e+07</td>\n",
       "      <td>33.200000</td>\n",
       "    </tr>\n",
       "  </tbody>\n",
       "</table>\n",
       "</div>"
      ],
      "text/plain": [
       "                 id  est_diameter_min  est_diameter_max  relative_velocity  \\\n",
       "count  9.083600e+04      90836.000000      90836.000000       90836.000000   \n",
       "mean   1.438288e+07          0.127432          0.284947       48066.918918   \n",
       "std    2.087202e+07          0.298511          0.667491       25293.296961   \n",
       "min    2.000433e+06          0.000609          0.001362         203.346433   \n",
       "25%    3.448110e+06          0.019256          0.043057       28619.020645   \n",
       "50%    3.748362e+06          0.048368          0.108153       44190.117890   \n",
       "75%    3.884023e+06          0.143402          0.320656       62923.604633   \n",
       "max    5.427591e+07         37.892650         84.730541      236990.128088   \n",
       "\n",
       "       miss_distance  absolute_magnitude  \n",
       "count   9.083600e+04        90836.000000  \n",
       "mean    3.706655e+07           23.527103  \n",
       "std     2.235204e+07            2.894086  \n",
       "min     6.745533e+03            9.230000  \n",
       "25%     1.721082e+07           21.340000  \n",
       "50%     3.784658e+07           23.700000  \n",
       "75%     5.654900e+07           25.700000  \n",
       "max     7.479865e+07           33.200000  "
      ]
     },
     "execution_count": 6,
     "metadata": {},
     "output_type": "execute_result"
    }
   ],
   "source": [
    "# Summary Statistics\n",
    "df.describe()"
   ]
  },
  {
   "cell_type": "code",
   "execution_count": 7,
   "id": "b997b08f",
   "metadata": {
    "execution": {
     "iopub.execute_input": "2022-08-28T14:57:56.347064Z",
     "iopub.status.busy": "2022-08-28T14:57:56.346602Z",
     "iopub.status.idle": "2022-08-28T14:57:56.360405Z",
     "shell.execute_reply": "2022-08-28T14:57:56.359790Z"
    },
    "papermill": {
     "duration": 0.02383,
     "end_time": "2022-08-28T14:57:56.362274",
     "exception": false,
     "start_time": "2022-08-28T14:57:56.338444",
     "status": "completed"
    },
    "tags": []
   },
   "outputs": [
    {
     "data": {
      "text/plain": [
       "id                    0\n",
       "name                  0\n",
       "est_diameter_min      0\n",
       "est_diameter_max      0\n",
       "relative_velocity     0\n",
       "miss_distance         0\n",
       "orbiting_body         0\n",
       "sentry_object         0\n",
       "absolute_magnitude    0\n",
       "hazardous             0\n",
       "dtype: int64"
      ]
     },
     "execution_count": 7,
     "metadata": {},
     "output_type": "execute_result"
    }
   ],
   "source": [
    "# Checking for missing values\n",
    "df.isnull().sum()\n",
    "# Data has no missing values"
   ]
  },
  {
   "cell_type": "code",
   "execution_count": 8,
   "id": "9e697aef",
   "metadata": {
    "execution": {
     "iopub.execute_input": "2022-08-28T14:57:56.379285Z",
     "iopub.status.busy": "2022-08-28T14:57:56.378807Z",
     "iopub.status.idle": "2022-08-28T14:57:56.408554Z",
     "shell.execute_reply": "2022-08-28T14:57:56.407718Z"
    },
    "papermill": {
     "duration": 0.039804,
     "end_time": "2022-08-28T14:57:56.410212",
     "exception": false,
     "start_time": "2022-08-28T14:57:56.370408",
     "status": "completed"
    },
    "tags": []
   },
   "outputs": [
    {
     "data": {
      "text/html": [
       "<div>\n",
       "<style scoped>\n",
       "    .dataframe tbody tr th:only-of-type {\n",
       "        vertical-align: middle;\n",
       "    }\n",
       "\n",
       "    .dataframe tbody tr th {\n",
       "        vertical-align: top;\n",
       "    }\n",
       "\n",
       "    .dataframe thead th {\n",
       "        text-align: right;\n",
       "    }\n",
       "</style>\n",
       "<table border=\"1\" class=\"dataframe\">\n",
       "  <thead>\n",
       "    <tr style=\"text-align: right;\">\n",
       "      <th></th>\n",
       "      <th>id</th>\n",
       "      <th>est_diameter_min</th>\n",
       "      <th>est_diameter_max</th>\n",
       "      <th>relative_velocity</th>\n",
       "      <th>miss_distance</th>\n",
       "      <th>sentry_object</th>\n",
       "      <th>absolute_magnitude</th>\n",
       "      <th>hazardous</th>\n",
       "    </tr>\n",
       "  </thead>\n",
       "  <tbody>\n",
       "    <tr>\n",
       "      <th>id</th>\n",
       "      <td>1.000000</td>\n",
       "      <td>-0.148322</td>\n",
       "      <td>-0.148322</td>\n",
       "      <td>-0.059176</td>\n",
       "      <td>-0.056510</td>\n",
       "      <td>NaN</td>\n",
       "      <td>0.277258</td>\n",
       "      <td>-0.123443</td>\n",
       "    </tr>\n",
       "    <tr>\n",
       "      <th>est_diameter_min</th>\n",
       "      <td>-0.148322</td>\n",
       "      <td>1.000000</td>\n",
       "      <td>1.000000</td>\n",
       "      <td>0.221553</td>\n",
       "      <td>0.142241</td>\n",
       "      <td>NaN</td>\n",
       "      <td>-0.560188</td>\n",
       "      <td>0.183363</td>\n",
       "    </tr>\n",
       "    <tr>\n",
       "      <th>est_diameter_max</th>\n",
       "      <td>-0.148322</td>\n",
       "      <td>1.000000</td>\n",
       "      <td>1.000000</td>\n",
       "      <td>0.221553</td>\n",
       "      <td>0.142241</td>\n",
       "      <td>NaN</td>\n",
       "      <td>-0.560188</td>\n",
       "      <td>0.183363</td>\n",
       "    </tr>\n",
       "    <tr>\n",
       "      <th>relative_velocity</th>\n",
       "      <td>-0.059176</td>\n",
       "      <td>0.221553</td>\n",
       "      <td>0.221553</td>\n",
       "      <td>1.000000</td>\n",
       "      <td>0.327169</td>\n",
       "      <td>NaN</td>\n",
       "      <td>-0.353863</td>\n",
       "      <td>0.191185</td>\n",
       "    </tr>\n",
       "    <tr>\n",
       "      <th>miss_distance</th>\n",
       "      <td>-0.056510</td>\n",
       "      <td>0.142241</td>\n",
       "      <td>0.142241</td>\n",
       "      <td>0.327169</td>\n",
       "      <td>1.000000</td>\n",
       "      <td>NaN</td>\n",
       "      <td>-0.264168</td>\n",
       "      <td>0.042302</td>\n",
       "    </tr>\n",
       "    <tr>\n",
       "      <th>sentry_object</th>\n",
       "      <td>NaN</td>\n",
       "      <td>NaN</td>\n",
       "      <td>NaN</td>\n",
       "      <td>NaN</td>\n",
       "      <td>NaN</td>\n",
       "      <td>NaN</td>\n",
       "      <td>NaN</td>\n",
       "      <td>NaN</td>\n",
       "    </tr>\n",
       "    <tr>\n",
       "      <th>absolute_magnitude</th>\n",
       "      <td>0.277258</td>\n",
       "      <td>-0.560188</td>\n",
       "      <td>-0.560188</td>\n",
       "      <td>-0.353863</td>\n",
       "      <td>-0.264168</td>\n",
       "      <td>NaN</td>\n",
       "      <td>1.000000</td>\n",
       "      <td>-0.365267</td>\n",
       "    </tr>\n",
       "    <tr>\n",
       "      <th>hazardous</th>\n",
       "      <td>-0.123443</td>\n",
       "      <td>0.183363</td>\n",
       "      <td>0.183363</td>\n",
       "      <td>0.191185</td>\n",
       "      <td>0.042302</td>\n",
       "      <td>NaN</td>\n",
       "      <td>-0.365267</td>\n",
       "      <td>1.000000</td>\n",
       "    </tr>\n",
       "  </tbody>\n",
       "</table>\n",
       "</div>"
      ],
      "text/plain": [
       "                          id  est_diameter_min  est_diameter_max  \\\n",
       "id                  1.000000         -0.148322         -0.148322   \n",
       "est_diameter_min   -0.148322          1.000000          1.000000   \n",
       "est_diameter_max   -0.148322          1.000000          1.000000   \n",
       "relative_velocity  -0.059176          0.221553          0.221553   \n",
       "miss_distance      -0.056510          0.142241          0.142241   \n",
       "sentry_object            NaN               NaN               NaN   \n",
       "absolute_magnitude  0.277258         -0.560188         -0.560188   \n",
       "hazardous          -0.123443          0.183363          0.183363   \n",
       "\n",
       "                    relative_velocity  miss_distance  sentry_object  \\\n",
       "id                          -0.059176      -0.056510            NaN   \n",
       "est_diameter_min             0.221553       0.142241            NaN   \n",
       "est_diameter_max             0.221553       0.142241            NaN   \n",
       "relative_velocity            1.000000       0.327169            NaN   \n",
       "miss_distance                0.327169       1.000000            NaN   \n",
       "sentry_object                     NaN            NaN            NaN   \n",
       "absolute_magnitude          -0.353863      -0.264168            NaN   \n",
       "hazardous                    0.191185       0.042302            NaN   \n",
       "\n",
       "                    absolute_magnitude  hazardous  \n",
       "id                            0.277258  -0.123443  \n",
       "est_diameter_min             -0.560188   0.183363  \n",
       "est_diameter_max             -0.560188   0.183363  \n",
       "relative_velocity            -0.353863   0.191185  \n",
       "miss_distance                -0.264168   0.042302  \n",
       "sentry_object                      NaN        NaN  \n",
       "absolute_magnitude            1.000000  -0.365267  \n",
       "hazardous                    -0.365267   1.000000  "
      ]
     },
     "execution_count": 8,
     "metadata": {},
     "output_type": "execute_result"
    }
   ],
   "source": [
    "# Co-relation DataFrame\n",
    "df.corr()"
   ]
  },
  {
   "cell_type": "code",
   "execution_count": 9,
   "id": "ee944eb8",
   "metadata": {
    "execution": {
     "iopub.execute_input": "2022-08-28T14:57:56.427153Z",
     "iopub.status.busy": "2022-08-28T14:57:56.426751Z",
     "iopub.status.idle": "2022-08-28T14:57:56.695684Z",
     "shell.execute_reply": "2022-08-28T14:57:56.694147Z"
    },
    "papermill": {
     "duration": 0.27977,
     "end_time": "2022-08-28T14:57:56.697766",
     "exception": false,
     "start_time": "2022-08-28T14:57:56.417996",
     "status": "completed"
    },
    "tags": []
   },
   "outputs": [
    {
     "data": {
      "image/png": "[encoded data removed]",
      "text/plain": [
       "<Figure size 432x288 with 2 Axes>"
      ]
     },
     "metadata": {
      "needs_background": "light"
     },
     "output_type": "display_data"
    }
   ],
   "source": [
    "sns.heatmap(df.corr(),cmap='YlGnBu')\n",
    "plt.show()"
   ]
  },
  {
   "cell_type": "code",
   "execution_count": 10,
   "id": "9fa32899",
   "metadata": {
    "execution": {
     "iopub.execute_input": "2022-08-28T14:57:56.715037Z",
     "iopub.status.busy": "2022-08-28T14:57:56.714699Z",
     "iopub.status.idle": "2022-08-28T14:57:56.721670Z",
     "shell.execute_reply": "2022-08-28T14:57:56.720798Z"
    },
    "papermill": {
     "duration": 0.017536,
     "end_time": "2022-08-28T14:57:56.723329",
     "exception": false,
     "start_time": "2022-08-28T14:57:56.705793",
     "status": "completed"
    },
    "tags": []
   },
   "outputs": [],
   "source": [
    "df.drop(columns=['sentry_object','orbiting_body'],inplace=True)"
   ]
  },
  {
   "cell_type": "code",
   "execution_count": 11,
   "id": "77169ae5",
   "metadata": {
    "execution": {
     "iopub.execute_input": "2022-08-28T14:57:56.740981Z",
     "iopub.status.busy": "2022-08-28T14:57:56.740200Z",
     "iopub.status.idle": "2022-08-28T14:57:56.750159Z",
     "shell.execute_reply": "2022-08-28T14:57:56.749257Z"
    },
    "papermill": {
     "duration": 0.020624,
     "end_time": "2022-08-28T14:57:56.752021",
     "exception": false,
     "start_time": "2022-08-28T14:57:56.731397",
     "status": "completed"
    },
    "tags": []
   },
   "outputs": [
    {
     "data": {
      "text/plain": [
       "Index(['est_diameter_min', 'est_diameter_max', 'relative_velocity',\n",
       "       'miss_distance', 'absolute_magnitude'],\n",
       "      dtype='object')"
      ]
     },
     "execution_count": 11,
     "metadata": {},
     "output_type": "execute_result"
    }
   ],
   "source": [
    "df.select_dtypes(include=np.number).drop(columns='id').columns"
   ]
  },
  {
   "cell_type": "code",
   "execution_count": 12,
   "id": "7f6937a9",
   "metadata": {
    "execution": {
     "iopub.execute_input": "2022-08-28T14:57:56.770002Z",
     "iopub.status.busy": "2022-08-28T14:57:56.769671Z",
     "iopub.status.idle": "2022-08-28T14:57:56.773720Z",
     "shell.execute_reply": "2022-08-28T14:57:56.772772Z"
    },
    "papermill": {
     "duration": 0.015066,
     "end_time": "2022-08-28T14:57:56.775239",
     "exception": false,
     "start_time": "2022-08-28T14:57:56.760173",
     "status": "completed"
    },
    "tags": []
   },
   "outputs": [],
   "source": [
    "nums=['est_diameter_min', 'est_diameter_max', 'relative_velocity',\n",
    "       'miss_distance', 'absolute_magnitude'] \n",
    "# Numerical columns"
   ]
  },
  {
   "cell_type": "code",
   "execution_count": 13,
   "id": "59528a7a",
   "metadata": {
    "execution": {
     "iopub.execute_input": "2022-08-28T14:57:56.793065Z",
     "iopub.status.busy": "2022-08-28T14:57:56.792547Z",
     "iopub.status.idle": "2022-08-28T14:57:56.905384Z",
     "shell.execute_reply": "2022-08-28T14:57:56.904620Z"
    },
    "papermill": {
     "duration": 0.123852,
     "end_time": "2022-08-28T14:57:56.907170",
     "exception": false,
     "start_time": "2022-08-28T14:57:56.783318",
     "status": "completed"
    },
    "tags": []
   },
   "outputs": [
    {
     "data": {
      "image/png": "[encoded data removed]",
      "text/plain": [
       "<Figure size 432x288 with 1 Axes>"
      ]
     },
     "metadata": {
      "needs_background": "light"
     },
     "output_type": "display_data"
    }
   ],
   "source": [
    "sns.countplot(x='hazardous',data=df)\n",
    "plt.show()"
   ]
  },
  {
   "cell_type": "markdown",
   "id": "aedd31c8",
   "metadata": {
    "papermill": {
     "duration": 0.011808,
     "end_time": "2022-08-28T14:57:56.930091",
     "exception": false,
     "start_time": "2022-08-28T14:57:56.918283",
     "status": "completed"
    },
    "tags": []
   },
   "source": [
    "***THERE ARE A LOT MORE NON-HAZARDOUS THAN HAZARDOUS***"
   ]
  },
  {
   "cell_type": "code",
   "execution_count": 14,
   "id": "0a5db7a8",
   "metadata": {
    "execution": {
     "iopub.execute_input": "2022-08-28T14:57:56.950616Z",
     "iopub.status.busy": "2022-08-28T14:57:56.950314Z",
     "iopub.status.idle": "2022-08-28T14:57:57.174184Z",
     "shell.execute_reply": "2022-08-28T14:57:57.173191Z"
    },
    "papermill": {
     "duration": 0.235162,
     "end_time": "2022-08-28T14:57:57.176337",
     "exception": false,
     "start_time": "2022-08-28T14:57:56.941175",
     "status": "completed"
    },
    "tags": []
   },
   "outputs": [],
   "source": [
    "# Extracting year from name to see later on whether we could have a paatern\n",
    "df[['drop','work']]=df.name.str.split('(',expand=True)"
   ]
  },
  {
   "cell_type": "code",
   "execution_count": 15,
   "id": "8f99ea9a",
   "metadata": {
    "execution": {
     "iopub.execute_input": "2022-08-28T14:57:57.193871Z",
     "iopub.status.busy": "2022-08-28T14:57:57.193566Z",
     "iopub.status.idle": "2022-08-28T14:57:57.212610Z",
     "shell.execute_reply": "2022-08-28T14:57:57.211480Z"
    },
    "papermill": {
     "duration": 0.030084,
     "end_time": "2022-08-28T14:57:57.214613",
     "exception": false,
     "start_time": "2022-08-28T14:57:57.184529",
     "status": "completed"
    },
    "tags": []
   },
   "outputs": [],
   "source": [
    "# Dropping the unnecessary extra column we made\n",
    "df.drop(columns='drop',inplace=True)"
   ]
  },
  {
   "cell_type": "code",
   "execution_count": 16,
   "id": "6d96358e",
   "metadata": {
    "execution": {
     "iopub.execute_input": "2022-08-28T14:57:57.233793Z",
     "iopub.status.busy": "2022-08-28T14:57:57.232442Z",
     "iopub.status.idle": "2022-08-28T14:57:57.276124Z",
     "shell.execute_reply": "2022-08-28T14:57:57.275476Z"
    },
    "papermill": {
     "duration": 0.054921,
     "end_time": "2022-08-28T14:57:57.277948",
     "exception": false,
     "start_time": "2022-08-28T14:57:57.223027",
     "status": "completed"
    },
    "tags": []
   },
   "outputs": [],
   "source": [
    "def year_extract(x):\n",
    "    return x.strip()[0:x.strip().index(' ')]\n",
    "df['year']=df['work'].apply(year_extract)"
   ]
  },
  {
   "cell_type": "code",
   "execution_count": 17,
   "id": "3c1c37cf",
   "metadata": {
    "execution": {
     "iopub.execute_input": "2022-08-28T14:57:57.295925Z",
     "iopub.status.busy": "2022-08-28T14:57:57.295598Z",
     "iopub.status.idle": "2022-08-28T14:57:57.308977Z",
     "shell.execute_reply": "2022-08-28T14:57:57.308129Z"
    },
    "papermill": {
     "duration": 0.024514,
     "end_time": "2022-08-28T14:57:57.310675",
     "exception": false,
     "start_time": "2022-08-28T14:57:57.286161",
     "status": "completed"
    },
    "tags": []
   },
   "outputs": [
    {
     "data": {
      "text/plain": [
       "array(['2000', '2005', '2015', '2012', '2014', '2021', '2001', '2016',\n",
       "       '2020', '2022', '2017', '2018', '2019', '2003', '2006', '2013',\n",
       "       '1994', '1998', '1978', '1984', '1980', '2007', '2009', '2011',\n",
       "       '1991', '2004', '2002', '2010', '1990', '2008', '1999', '1993',\n",
       "       '1997', '1995', '1951', '1950', '1996', '1986', '1992', '1987',\n",
       "       '1971', '1989', '1960', '1982', '1953', 'A911', '1976', '1973',\n",
       "       '1936', '1988', '1977', '1937', '1985', '1948', '6743', '1983',\n",
       "       'A898', '1949', '1974', '1932', '1972', '4788', '6344', '1968',\n",
       "       '1981', '1979', 'A924', '1947', '1959', '1975', '1929', 'A/2019',\n",
       "       '1963'], dtype=object)"
      ]
     },
     "execution_count": 17,
     "metadata": {},
     "output_type": "execute_result"
    }
   ],
   "source": [
    "df['year'].unique()"
   ]
  },
  {
   "cell_type": "code",
   "execution_count": 18,
   "id": "61950504",
   "metadata": {
    "execution": {
     "iopub.execute_input": "2022-08-28T14:57:57.328661Z",
     "iopub.status.busy": "2022-08-28T14:57:57.328220Z",
     "iopub.status.idle": "2022-08-28T14:57:57.331229Z",
     "shell.execute_reply": "2022-08-28T14:57:57.330750Z"
    },
    "papermill": {
     "duration": 0.013579,
     "end_time": "2022-08-28T14:57:57.332637",
     "exception": false,
     "start_time": "2022-08-28T14:57:57.319058",
     "status": "completed"
    },
    "tags": []
   },
   "outputs": [],
   "source": [
    "# [A911,6743,A898,4788,6344,A924,A/2019] --> Years to be changed "
   ]
  },
  {
   "cell_type": "code",
   "execution_count": 19,
   "id": "bcfdb9d2",
   "metadata": {
    "execution": {
     "iopub.execute_input": "2022-08-28T14:57:57.350625Z",
     "iopub.status.busy": "2022-08-28T14:57:57.350134Z",
     "iopub.status.idle": "2022-08-28T14:57:57.418894Z",
     "shell.execute_reply": "2022-08-28T14:57:57.418237Z"
    },
    "papermill": {
     "duration": 0.079908,
     "end_time": "2022-08-28T14:57:57.420855",
     "exception": false,
     "start_time": "2022-08-28T14:57:57.340947",
     "status": "completed"
    },
    "tags": []
   },
   "outputs": [],
   "source": [
    "df.loc[df.year=='A911','year']='1911' \n",
    "df.loc[df.year=='6743','year']='1960'\n",
    "df.loc[df.year=='A898','year']='1898'\n",
    "df.loc[df.year=='6344','year']='1960'\n",
    "df.loc[df.year=='A924','year']='1924'\n",
    "df.loc[df.year=='A/2019','year']='2019'\n",
    "df.loc[df.year=='4788','year']='1960'"
   ]
  },
  {
   "cell_type": "code",
   "execution_count": 20,
   "id": "39bc3051",
   "metadata": {
    "execution": {
     "iopub.execute_input": "2022-08-28T14:57:57.439609Z",
     "iopub.status.busy": "2022-08-28T14:57:57.438447Z",
     "iopub.status.idle": "2022-08-28T14:57:57.452044Z",
     "shell.execute_reply": "2022-08-28T14:57:57.451149Z"
    },
    "papermill": {
     "duration": 0.024781,
     "end_time": "2022-08-28T14:57:57.453904",
     "exception": false,
     "start_time": "2022-08-28T14:57:57.429123",
     "status": "completed"
    },
    "tags": []
   },
   "outputs": [
    {
     "data": {
      "text/plain": [
       "array(['2000', '2005', '2015', '2012', '2014', '2021', '2001', '2016',\n",
       "       '2020', '2022', '2017', '2018', '2019', '2003', '2006', '2013',\n",
       "       '1994', '1998', '1978', '1984', '1980', '2007', '2009', '2011',\n",
       "       '1991', '2004', '2002', '2010', '1990', '2008', '1999', '1993',\n",
       "       '1997', '1995', '1951', '1950', '1996', '1986', '1992', '1987',\n",
       "       '1971', '1989', '1960', '1982', '1953', '1911', '1976', '1973',\n",
       "       '1936', '1988', '1977', '1937', '1985', '1948', '1983', '1898',\n",
       "       '1949', '1974', '1932', '1972', '1968', '1981', '1979', '1924',\n",
       "       '1947', '1959', '1975', '1929', '1963'], dtype=object)"
      ]
     },
     "execution_count": 20,
     "metadata": {},
     "output_type": "execute_result"
    }
   ],
   "source": [
    "df.year.unique()"
   ]
  },
  {
   "cell_type": "code",
   "execution_count": 21,
   "id": "07d12edb",
   "metadata": {
    "execution": {
     "iopub.execute_input": "2022-08-28T14:57:57.472301Z",
     "iopub.status.busy": "2022-08-28T14:57:57.471982Z",
     "iopub.status.idle": "2022-08-28T14:57:57.488263Z",
     "shell.execute_reply": "2022-08-28T14:57:57.487618Z"
    },
    "papermill": {
     "duration": 0.027413,
     "end_time": "2022-08-28T14:57:57.489809",
     "exception": false,
     "start_time": "2022-08-28T14:57:57.462396",
     "status": "completed"
    },
    "tags": []
   },
   "outputs": [],
   "source": [
    "df.year=df.year.astype(int) \n",
    "# Converting into int to check distribution"
   ]
  },
  {
   "cell_type": "code",
   "execution_count": 22,
   "id": "8a0f072f",
   "metadata": {
    "execution": {
     "iopub.execute_input": "2022-08-28T14:57:57.508702Z",
     "iopub.status.busy": "2022-08-28T14:57:57.507788Z",
     "iopub.status.idle": "2022-08-28T14:57:58.183658Z",
     "shell.execute_reply": "2022-08-28T14:57:58.182721Z"
    },
    "papermill": {
     "duration": 0.687189,
     "end_time": "2022-08-28T14:57:58.185323",
     "exception": false,
     "start_time": "2022-08-28T14:57:57.498134",
     "status": "completed"
    },
    "tags": []
   },
   "outputs": [
    {
     "data": {
      "image/png": "[encoded data removed]",
      "text/plain": [
       "<Figure size 432x288 with 1 Axes>"
      ]
     },
     "metadata": {
      "needs_background": "light"
     },
     "output_type": "display_data"
    }
   ],
   "source": [
    "sns.distplot(df.year)\n",
    "plt.show()"
   ]
  },
  {
   "cell_type": "code",
   "execution_count": 23,
   "id": "6e576442",
   "metadata": {
    "execution": {
     "iopub.execute_input": "2022-08-28T14:57:58.204600Z",
     "iopub.status.busy": "2022-08-28T14:57:58.203840Z",
     "iopub.status.idle": "2022-08-28T14:57:58.213476Z",
     "shell.execute_reply": "2022-08-28T14:57:58.212875Z"
    },
    "papermill": {
     "duration": 0.021305,
     "end_time": "2022-08-28T14:57:58.215097",
     "exception": false,
     "start_time": "2022-08-28T14:57:58.193792",
     "status": "completed"
    },
    "tags": []
   },
   "outputs": [],
   "source": [
    "# Dropping the extra column we made\n",
    "df.drop(columns=['work'],inplace=True)"
   ]
  },
  {
   "cell_type": "markdown",
   "id": "b67bf043",
   "metadata": {
    "papermill": {
     "duration": 0.008382,
     "end_time": "2022-08-28T14:57:58.232022",
     "exception": false,
     "start_time": "2022-08-28T14:57:58.223640",
     "status": "completed"
    },
    "tags": []
   },
   "source": [
    "***Hazardous objects were mostly discovered between around 2002 to before 2020***"
   ]
  },
  {
   "cell_type": "code",
   "execution_count": 24,
   "id": "3be83c94",
   "metadata": {
    "execution": {
     "iopub.execute_input": "2022-08-28T14:57:58.253249Z",
     "iopub.status.busy": "2022-08-28T14:57:58.252272Z",
     "iopub.status.idle": "2022-08-28T14:57:58.259395Z",
     "shell.execute_reply": "2022-08-28T14:57:58.258713Z"
    },
    "papermill": {
     "duration": 0.021161,
     "end_time": "2022-08-28T14:57:58.261488",
     "exception": false,
     "start_time": "2022-08-28T14:57:58.240327",
     "status": "completed"
    },
    "tags": []
   },
   "outputs": [],
   "source": [
    "# Dropping more unnecessary columns as they have no effect on hazardous\n",
    "df.drop(columns=['id','name'],inplace=True)"
   ]
  },
  {
   "cell_type": "code",
   "execution_count": 25,
   "id": "d6265140",
   "metadata": {
    "execution": {
     "iopub.execute_input": "2022-08-28T14:57:58.285260Z",
     "iopub.status.busy": "2022-08-28T14:57:58.284897Z",
     "iopub.status.idle": "2022-08-28T14:57:58.311334Z",
     "shell.execute_reply": "2022-08-28T14:57:58.310025Z"
    },
    "papermill": {
     "duration": 0.042295,
     "end_time": "2022-08-28T14:57:58.313962",
     "exception": false,
     "start_time": "2022-08-28T14:57:58.271667",
     "status": "completed"
    },
    "tags": []
   },
   "outputs": [],
   "source": [
    "# Replacing True with 1 and false with 0 in hazardous\n",
    "df['hazardous'].replace(to_replace=[True,False],value=[1,0],inplace=True)"
   ]
  },
  {
   "cell_type": "code",
   "execution_count": 26,
   "id": "66d9d598",
   "metadata": {
    "execution": {
     "iopub.execute_input": "2022-08-28T14:57:58.333566Z",
     "iopub.status.busy": "2022-08-28T14:57:58.332682Z",
     "iopub.status.idle": "2022-08-28T14:57:58.343451Z",
     "shell.execute_reply": "2022-08-28T14:57:58.342664Z"
    },
    "papermill": {
     "duration": 0.022611,
     "end_time": "2022-08-28T14:57:58.345481",
     "exception": false,
     "start_time": "2022-08-28T14:57:58.322870",
     "status": "completed"
    },
    "tags": []
   },
   "outputs": [
    {
     "data": {
      "text/html": [
       "<div>\n",
       "<style scoped>\n",
       "    .dataframe tbody tr th:only-of-type {\n",
       "        vertical-align: middle;\n",
       "    }\n",
       "\n",
       "    .dataframe tbody tr th {\n",
       "        vertical-align: top;\n",
       "    }\n",
       "\n",
       "    .dataframe thead th {\n",
       "        text-align: right;\n",
       "    }\n",
       "</style>\n",
       "<table border=\"1\" class=\"dataframe\">\n",
       "  <thead>\n",
       "    <tr style=\"text-align: right;\">\n",
       "      <th></th>\n",
       "      <th>est_diameter_min</th>\n",
       "      <th>est_diameter_max</th>\n",
       "      <th>relative_velocity</th>\n",
       "      <th>miss_distance</th>\n",
       "      <th>absolute_magnitude</th>\n",
       "      <th>hazardous</th>\n",
       "      <th>year</th>\n",
       "    </tr>\n",
       "  </thead>\n",
       "  <tbody>\n",
       "    <tr>\n",
       "      <th>0</th>\n",
       "      <td>1.198271</td>\n",
       "      <td>2.679415</td>\n",
       "      <td>13569.249224</td>\n",
       "      <td>5.483974e+07</td>\n",
       "      <td>16.73</td>\n",
       "      <td>0</td>\n",
       "      <td>2000</td>\n",
       "    </tr>\n",
       "    <tr>\n",
       "      <th>1</th>\n",
       "      <td>0.265800</td>\n",
       "      <td>0.594347</td>\n",
       "      <td>73588.726663</td>\n",
       "      <td>6.143813e+07</td>\n",
       "      <td>20.00</td>\n",
       "      <td>1</td>\n",
       "      <td>2005</td>\n",
       "    </tr>\n",
       "    <tr>\n",
       "      <th>2</th>\n",
       "      <td>0.722030</td>\n",
       "      <td>1.614507</td>\n",
       "      <td>114258.692129</td>\n",
       "      <td>4.979872e+07</td>\n",
       "      <td>17.83</td>\n",
       "      <td>0</td>\n",
       "      <td>2015</td>\n",
       "    </tr>\n",
       "    <tr>\n",
       "      <th>3</th>\n",
       "      <td>0.096506</td>\n",
       "      <td>0.215794</td>\n",
       "      <td>24764.303138</td>\n",
       "      <td>2.543497e+07</td>\n",
       "      <td>22.20</td>\n",
       "      <td>0</td>\n",
       "      <td>2012</td>\n",
       "    </tr>\n",
       "    <tr>\n",
       "      <th>4</th>\n",
       "      <td>0.255009</td>\n",
       "      <td>0.570217</td>\n",
       "      <td>42737.733765</td>\n",
       "      <td>4.627557e+07</td>\n",
       "      <td>20.09</td>\n",
       "      <td>1</td>\n",
       "      <td>2014</td>\n",
       "    </tr>\n",
       "  </tbody>\n",
       "</table>\n",
       "</div>"
      ],
      "text/plain": [
       "   est_diameter_min  est_diameter_max  relative_velocity  miss_distance  \\\n",
       "0          1.198271          2.679415       13569.249224   5.483974e+07   \n",
       "1          0.265800          0.594347       73588.726663   6.143813e+07   \n",
       "2          0.722030          1.614507      114258.692129   4.979872e+07   \n",
       "3          0.096506          0.215794       24764.303138   2.543497e+07   \n",
       "4          0.255009          0.570217       42737.733765   4.627557e+07   \n",
       "\n",
       "   absolute_magnitude  hazardous  year  \n",
       "0               16.73          0  2000  \n",
       "1               20.00          1  2005  \n",
       "2               17.83          0  2015  \n",
       "3               22.20          0  2012  \n",
       "4               20.09          1  2014  "
      ]
     },
     "execution_count": 26,
     "metadata": {},
     "output_type": "execute_result"
    }
   ],
   "source": [
    "df.head()"
   ]
  },
  {
   "cell_type": "code",
   "execution_count": 27,
   "id": "31f69128",
   "metadata": {
    "execution": {
     "iopub.execute_input": "2022-08-28T14:57:58.364461Z",
     "iopub.status.busy": "2022-08-28T14:57:58.363805Z",
     "iopub.status.idle": "2022-08-28T14:57:58.386039Z",
     "shell.execute_reply": "2022-08-28T14:57:58.385453Z"
    },
    "papermill": {
     "duration": 0.033348,
     "end_time": "2022-08-28T14:57:58.387490",
     "exception": false,
     "start_time": "2022-08-28T14:57:58.354142",
     "status": "completed"
    },
    "tags": []
   },
   "outputs": [
    {
     "data": {
      "text/html": [
       "<div>\n",
       "<style scoped>\n",
       "    .dataframe tbody tr th:only-of-type {\n",
       "        vertical-align: middle;\n",
       "    }\n",
       "\n",
       "    .dataframe tbody tr th {\n",
       "        vertical-align: top;\n",
       "    }\n",
       "\n",
       "    .dataframe thead th {\n",
       "        text-align: right;\n",
       "    }\n",
       "</style>\n",
       "<table border=\"1\" class=\"dataframe\">\n",
       "  <thead>\n",
       "    <tr style=\"text-align: right;\">\n",
       "      <th></th>\n",
       "      <th>est_diameter_min</th>\n",
       "      <th>est_diameter_max</th>\n",
       "      <th>relative_velocity</th>\n",
       "      <th>miss_distance</th>\n",
       "      <th>absolute_magnitude</th>\n",
       "      <th>hazardous</th>\n",
       "      <th>year</th>\n",
       "    </tr>\n",
       "  </thead>\n",
       "  <tbody>\n",
       "    <tr>\n",
       "      <th>est_diameter_min</th>\n",
       "      <td>1.000000</td>\n",
       "      <td>1.000000</td>\n",
       "      <td>0.221553</td>\n",
       "      <td>0.142241</td>\n",
       "      <td>-0.560188</td>\n",
       "      <td>0.183363</td>\n",
       "      <td>-0.468348</td>\n",
       "    </tr>\n",
       "    <tr>\n",
       "      <th>est_diameter_max</th>\n",
       "      <td>1.000000</td>\n",
       "      <td>1.000000</td>\n",
       "      <td>0.221553</td>\n",
       "      <td>0.142241</td>\n",
       "      <td>-0.560188</td>\n",
       "      <td>0.183363</td>\n",
       "      <td>-0.468348</td>\n",
       "    </tr>\n",
       "    <tr>\n",
       "      <th>relative_velocity</th>\n",
       "      <td>0.221553</td>\n",
       "      <td>0.221553</td>\n",
       "      <td>1.000000</td>\n",
       "      <td>0.327169</td>\n",
       "      <td>-0.353863</td>\n",
       "      <td>0.191185</td>\n",
       "      <td>-0.128262</td>\n",
       "    </tr>\n",
       "    <tr>\n",
       "      <th>miss_distance</th>\n",
       "      <td>0.142241</td>\n",
       "      <td>0.142241</td>\n",
       "      <td>0.327169</td>\n",
       "      <td>1.000000</td>\n",
       "      <td>-0.264168</td>\n",
       "      <td>0.042302</td>\n",
       "      <td>-0.101514</td>\n",
       "    </tr>\n",
       "    <tr>\n",
       "      <th>absolute_magnitude</th>\n",
       "      <td>-0.560188</td>\n",
       "      <td>-0.560188</td>\n",
       "      <td>-0.353863</td>\n",
       "      <td>-0.264168</td>\n",
       "      <td>1.000000</td>\n",
       "      <td>-0.365267</td>\n",
       "      <td>0.517477</td>\n",
       "    </tr>\n",
       "    <tr>\n",
       "      <th>hazardous</th>\n",
       "      <td>0.183363</td>\n",
       "      <td>0.183363</td>\n",
       "      <td>0.191185</td>\n",
       "      <td>0.042302</td>\n",
       "      <td>-0.365267</td>\n",
       "      <td>1.000000</td>\n",
       "      <td>-0.269807</td>\n",
       "    </tr>\n",
       "    <tr>\n",
       "      <th>year</th>\n",
       "      <td>-0.468348</td>\n",
       "      <td>-0.468348</td>\n",
       "      <td>-0.128262</td>\n",
       "      <td>-0.101514</td>\n",
       "      <td>0.517477</td>\n",
       "      <td>-0.269807</td>\n",
       "      <td>1.000000</td>\n",
       "    </tr>\n",
       "  </tbody>\n",
       "</table>\n",
       "</div>"
      ],
      "text/plain": [
       "                    est_diameter_min  est_diameter_max  relative_velocity  \\\n",
       "est_diameter_min            1.000000          1.000000           0.221553   \n",
       "est_diameter_max            1.000000          1.000000           0.221553   \n",
       "relative_velocity           0.221553          0.221553           1.000000   \n",
       "miss_distance               0.142241          0.142241           0.327169   \n",
       "absolute_magnitude         -0.560188         -0.560188          -0.353863   \n",
       "hazardous                   0.183363          0.183363           0.191185   \n",
       "year                       -0.468348         -0.468348          -0.128262   \n",
       "\n",
       "                    miss_distance  absolute_magnitude  hazardous      year  \n",
       "est_diameter_min         0.142241           -0.560188   0.183363 -0.468348  \n",
       "est_diameter_max         0.142241           -0.560188   0.183363 -0.468348  \n",
       "relative_velocity        0.327169           -0.353863   0.191185 -0.128262  \n",
       "miss_distance            1.000000           -0.264168   0.042302 -0.101514  \n",
       "absolute_magnitude      -0.264168            1.000000  -0.365267  0.517477  \n",
       "hazardous                0.042302           -0.365267   1.000000 -0.269807  \n",
       "year                    -0.101514            0.517477  -0.269807  1.000000  "
      ]
     },
     "execution_count": 27,
     "metadata": {},
     "output_type": "execute_result"
    }
   ],
   "source": [
    "#Checking co-relation\n",
    "df.corr()"
   ]
  },
  {
   "cell_type": "code",
   "execution_count": 28,
   "id": "b692785d",
   "metadata": {
    "execution": {
     "iopub.execute_input": "2022-08-28T14:57:58.406748Z",
     "iopub.status.busy": "2022-08-28T14:57:58.406089Z",
     "iopub.status.idle": "2022-08-28T14:57:58.629707Z",
     "shell.execute_reply": "2022-08-28T14:57:58.629131Z"
    },
    "papermill": {
     "duration": 0.234964,
     "end_time": "2022-08-28T14:57:58.631250",
     "exception": false,
     "start_time": "2022-08-28T14:57:58.396286",
     "status": "completed"
    },
    "tags": []
   },
   "outputs": [
    {
     "data": {
      "image/png": "[encoded data removed]",
      "text/plain": [
       "<Figure size 432x288 with 2 Axes>"
      ]
     },
     "metadata": {
      "needs_background": "light"
     },
     "output_type": "display_data"
    }
   ],
   "source": [
    "sns.heatmap(df.corr(),cmap='YlGnBu')\n",
    "plt.show()"
   ]
  },
  {
   "cell_type": "code",
   "execution_count": 29,
   "id": "ff4b4a7b",
   "metadata": {
    "execution": {
     "iopub.execute_input": "2022-08-28T14:57:58.651007Z",
     "iopub.status.busy": "2022-08-28T14:57:58.650541Z",
     "iopub.status.idle": "2022-08-28T14:57:58.840569Z",
     "shell.execute_reply": "2022-08-28T14:57:58.839713Z"
    },
    "papermill": {
     "duration": 0.202483,
     "end_time": "2022-08-28T14:57:58.842820",
     "exception": false,
     "start_time": "2022-08-28T14:57:58.640337",
     "status": "completed"
    },
    "tags": []
   },
   "outputs": [],
   "source": [
    "# Splitting the data\n",
    "from sklearn.model_selection import train_test_split\n",
    "X = df.drop(columns='hazardous')\n",
    "Y=df.loc[:,'hazardous']\n",
    "X_train,X_test,Y_train,Y_test=train_test_split(X,Y,random_state=0,train_size=0.75)"
   ]
  },
  {
   "cell_type": "code",
   "execution_count": 30,
   "id": "2089fed1",
   "metadata": {
    "execution": {
     "iopub.execute_input": "2022-08-28T14:57:58.862621Z",
     "iopub.status.busy": "2022-08-28T14:57:58.862309Z",
     "iopub.status.idle": "2022-08-28T14:57:58.888883Z",
     "shell.execute_reply": "2022-08-28T14:57:58.887753Z"
    },
    "papermill": {
     "duration": 0.038818,
     "end_time": "2022-08-28T14:57:58.890901",
     "exception": false,
     "start_time": "2022-08-28T14:57:58.852083",
     "status": "completed"
    },
    "tags": []
   },
   "outputs": [
    {
     "name": "stdout",
     "output_type": "stream",
     "text": [
      "89.6869082742525\n"
     ]
    }
   ],
   "source": [
    "from sklearn.naive_bayes import GaussianNB\n",
    "from sklearn.metrics import accuracy_score\n",
    "#Normal distribution, also known as the Gaussian distribution, is a probability distribution that is symmetric about the mean, showing that data near the mean are more frequent in occurrence than data far from the mean.\n",
    "#In graph form, normal distribution will appear as a bell curve.\n",
    "gnb = GaussianNB()\n",
    "gnb.fit(X_train,Y_train)\n",
    "prediction = gnb.predict(X_test)\n",
    "print(accuracy_score(Y_test,prediction)*100)"
   ]
  },
  {
   "cell_type": "code",
   "execution_count": 31,
   "id": "75e348e8",
   "metadata": {
    "execution": {
     "iopub.execute_input": "2022-08-28T14:57:58.912288Z",
     "iopub.status.busy": "2022-08-28T14:57:58.911994Z",
     "iopub.status.idle": "2022-08-28T14:57:59.243467Z",
     "shell.execute_reply": "2022-08-28T14:57:59.242176Z"
    },
    "papermill": {
     "duration": 0.34394,
     "end_time": "2022-08-28T14:57:59.245355",
     "exception": false,
     "start_time": "2022-08-28T14:57:58.901415",
     "status": "completed"
    },
    "tags": []
   },
   "outputs": [
    {
     "name": "stdout",
     "output_type": "stream",
     "text": [
      "90.19331542560218\n"
     ]
    }
   ],
   "source": [
    "from sklearn.linear_model import LogisticRegression\n",
    "from sklearn.metrics import accuracy_score\n",
    "lr = LogisticRegression()\n",
    "lr.fit(X_train,Y_train)\n",
    "prediction = lr.predict(X_test)\n",
    "print(accuracy_score(Y_test,prediction)*100)"
   ]
  },
  {
   "cell_type": "code",
   "execution_count": 32,
   "id": "34aebcb3",
   "metadata": {
    "execution": {
     "iopub.execute_input": "2022-08-28T14:57:59.272081Z",
     "iopub.status.busy": "2022-08-28T14:57:59.271725Z",
     "iopub.status.idle": "2022-08-28T14:57:59.932453Z",
     "shell.execute_reply": "2022-08-28T14:57:59.931433Z"
    },
    "papermill": {
     "duration": 0.676236,
     "end_time": "2022-08-28T14:57:59.934163",
     "exception": false,
     "start_time": "2022-08-28T14:57:59.257927",
     "status": "completed"
    },
    "tags": []
   },
   "outputs": [
    {
     "name": "stdout",
     "output_type": "stream",
     "text": [
      "89.3170108767449\n"
     ]
    }
   ],
   "source": [
    "from sklearn.neighbors import KNeighborsClassifier\n",
    "knn= KNeighborsClassifier()\n",
    "knn.fit(X_train,Y_train)\n",
    "prediction =knn.predict(X_test)\n",
    "print(accuracy_score(Y_test,prediction)*100)"
   ]
  },
  {
   "cell_type": "code",
   "execution_count": 33,
   "id": "bbc25606",
   "metadata": {
    "execution": {
     "iopub.execute_input": "2022-08-28T14:57:59.966365Z",
     "iopub.status.busy": "2022-08-28T14:57:59.964994Z",
     "iopub.status.idle": "2022-08-28T14:58:08.512829Z",
     "shell.execute_reply": "2022-08-28T14:58:08.511637Z"
    },
    "papermill": {
     "duration": 8.570583,
     "end_time": "2022-08-28T14:58:08.514633",
     "exception": false,
     "start_time": "2022-08-28T14:57:59.944050",
     "status": "completed"
    },
    "tags": []
   },
   "outputs": [
    {
     "name": "stdout",
     "output_type": "stream",
     "text": [
      "94.1609053679158\n"
     ]
    }
   ],
   "source": [
    "from sklearn.ensemble import RandomForestClassifier\n",
    "from sklearn.metrics import accuracy_score\n",
    "rf = RandomForestClassifier()\n",
    "rf.fit(X_train,Y_train)\n",
    "prediction = rf.predict(X_test)\n",
    "print(accuracy_score(Y_test,prediction)*100)"
   ]
  }
 ],
 "metadata": {
  "kernelspec": {
   "display_name": "Python 3",
   "language": "python",
   "name": "python3"
  },
  "language_info": {
   "codemirror_mode": {
    "name": "ipython",
    "version": 3
   },
   "file_extension": ".py",
   "mimetype": "text/x-python",
   "name": "python",
   "nbconvert_exporter": "python",
   "pygments_lexer": "ipython3",
   "version": "3.7.12"
  },
  "papermill": {
   "default_parameters": {},
   "duration": 21.457612,
   "end_time": "2022-08-28T14:58:09.145434",
   "environment_variables": {},
   "exception": null,
   "input_path": "__notebook__.ipynb",
   "output_path": "__notebook__.ipynb",
   "parameters": {},
   "start_time": "2022-08-28T14:57:47.687822",
   "version": "2.3.4"
  }
 },
 "nbformat": 4,
 "nbformat_minor": 5
}
